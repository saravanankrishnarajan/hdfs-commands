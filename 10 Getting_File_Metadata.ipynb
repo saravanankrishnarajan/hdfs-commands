{
 "cells": [
  {
   "cell_type": "markdown",
   "id": "7740f34a-397b-4d4c-bf9e-19df0dacb8f4",
   "metadata": {},
   "source": [
    "### Getting File Metadata"
   ]
  },
  {
   "cell_type": "markdown",
   "id": "6363c2f4-cb0f-476c-bdba-c381cfcf95de",
   "metadata": {},
   "source": [
    "* Get metadata of files in HDFS using hdfs fsck command"
   ]
  },
  {
   "cell_type": "code",
   "execution_count": 1,
   "id": "ea44c264-02a6-45ef-9e78-b3f531ed63fe",
   "metadata": {},
   "outputs": [
    {
     "name": "stdout",
     "output_type": "stream",
     "text": [
      "Usage: hdfs fsck <path> [-list-corruptfileblocks | [-move | -delete | -openforwrite] [-files [-blocks [-locations | -racks | -replicaDetails | -upgradedomains]]]] [-includeSnapshots] [-showprogress] [-storagepolicies] [-maintenance] [-blockId <blk_Id>] [-replicate]\n",
      "\t<path>\tstart checking from this path\n",
      "\t-move\tmove corrupted files to /lost+found\n",
      "\t-delete\tdelete corrupted files\n",
      "\t-files\tprint out files being checked\n",
      "\t-openforwrite\tprint out files opened for write\n",
      "\t-includeSnapshots\tinclude snapshot data if the given path indicates a snapshottable directory or there are snapshottable directories under it\n",
      "\t-list-corruptfileblocks\tprint out list of missing blocks and files they belong to\n",
      "\t-files -blocks\tprint out block report\n",
      "\t-files -blocks -locations\tprint out locations for every block\n",
      "\t-files -blocks -racks\tprint out network topology for data-node locations\n",
      "\t-files -blocks -replicaDetails\tprint out each replica details \n",
      "\t-files -blocks -upgradedomains\tprint out upgrade domains for every block\n",
      "\t-storagepolicies\tprint out storage policy summary for the blocks\n",
      "\t-maintenance\tprint out maintenance state node details\n",
      "\t-showprogress\tDeprecated. Progress is now shown by default\n",
      "\t-blockId\tprint out which file this blockId belongs to, locations (nodes, racks) of this block, and other diagnostics info (under replicated, corrupted or not, etc)\n",
      "\t-replicate initiate replication work to make mis-replicated\n",
      " blocks satisfy block placement policy\n",
      "\n",
      "Please Note:\n",
      "\n",
      "\t1. By default fsck ignores files opened for write, use -openforwrite to report such files. They are usually  tagged CORRUPT or HEALTHY depending on their block allocation status\n",
      "\t2. Option -includeSnapshots should not be used for comparing stats, should be used only for HEALTH check, as this may contain duplicates if the same file present in both original fs tree and inside snapshots.\n",
      "\n",
      "Generic options supported are:\n",
      "-conf <configuration file>        specify an application configuration file\n",
      "-D <property=value>               define a value for a given property\n",
      "-fs <file:///|hdfs://namenode:port> specify default filesystem URL to use, overrides 'fs.defaultFS' property from configurations.\n",
      "-jt <local|resourcemanager:port>  specify a ResourceManager\n",
      "-files <file1,...>                specify a comma-separated list of files to be copied to the map reduce cluster\n",
      "-libjars <jar1,...>               specify a comma-separated list of jar files to be included in the classpath\n",
      "-archives <archive1,...>          specify a comma-separated list of archives to be unarchived on the compute machines\n",
      "\n",
      "The general command line syntax is:\n",
      "command [genericOptions] [commandOptions]\n",
      "\n"
     ]
    }
   ],
   "source": [
    "%%sh\n",
    "\n",
    "hdfs fsck -help"
   ]
  },
  {
   "cell_type": "code",
   "execution_count": 2,
   "id": "aa85d8af-503c-4aea-be86-776665f9407a",
   "metadata": {},
   "outputs": [
    {
     "name": "stdout",
     "output_type": "stream",
     "text": [
      "FSCK started by itversity (auth:SIMPLE) from /127.0.0.1 for path /user/itversity/retail_db at Sun Jan 28 19:20:33 GMT 2024\n",
      "\n",
      "\n",
      "Status: HEALTHY\n",
      " Number of data-nodes:\t1\n",
      " Number of racks:\t\t1\n",
      " Total dirs:\t\t\t7\n",
      " Total symlinks:\t\t0\n",
      "\n",
      "Replicated Blocks:\n",
      " Total size:\t30140204 B\n",
      " Total files:\t9\n",
      " Total blocks (validated):\t9 (avg. block size 3348911 B)\n",
      " Minimally replicated blocks:\t9 (100.0 %)\n",
      " Over-replicated blocks:\t0 (0.0 %)\n",
      " Under-replicated blocks:\t0 (0.0 %)\n",
      " Mis-replicated blocks:\t\t0 (0.0 %)\n",
      " Default replication factor:\t1\n",
      " Average block replication:\t1.0\n",
      " Missing blocks:\t\t0\n",
      " Corrupt blocks:\t\t0\n",
      " Missing replicas:\t\t0 (0.0 %)\n",
      " Blocks queued for replication:\t0\n",
      "\n",
      "Erasure Coded Block Groups:\n",
      " Total size:\t0 B\n",
      " Total files:\t0\n",
      " Total block groups (validated):\t0\n",
      " Minimally erasure-coded block groups:\t0\n",
      " Over-erasure-coded block groups:\t0\n",
      " Under-erasure-coded block groups:\t0\n",
      " Unsatisfactory placement block groups:\t0\n",
      " Average block group size:\t0.0\n",
      " Missing block groups:\t\t0\n",
      " Corrupt block groups:\t\t0\n",
      " Missing internal blocks:\t0\n",
      " Blocks queued for replication:\t0\n",
      "FSCK ended at Sun Jan 28 19:20:33 GMT 2024 in 11 milliseconds\n",
      "\n",
      "\n",
      "The filesystem under path '/user/itversity/retail_db' is HEALTHY\n"
     ]
    },
    {
     "name": "stderr",
     "output_type": "stream",
     "text": [
      "Connecting to namenode via http://localhost:9870/fsck?ugi=itversity&path=%2Fuser%2Fitversity%2Fretail_db\n"
     ]
    }
   ],
   "source": [
    "%%sh \n",
    "\n",
    "hdfs fsck /user/`whoami`/retail_db"
   ]
  },
  {
   "cell_type": "code",
   "execution_count": 3,
   "id": "d35a1c95-e77f-4fb1-9b8d-53d915ac6c87",
   "metadata": {},
   "outputs": [
    {
     "name": "stdout",
     "output_type": "stream",
     "text": [
      "Found 9 items\n",
      "drwxr-xr-x   - itversity supergroup          0 2024-01-28 19:11 /user/itversity/retail_db/categories\n",
      "-rw-r--r--   1 itversity supergroup   10303297 2024-01-28 19:11 /user/itversity/retail_db/create_db.sql\n",
      "-rw-r--r--   1 itversity supergroup       1748 2024-01-28 19:11 /user/itversity/retail_db/create_db_tables_pg.sql\n",
      "drwxr-xr-x   - itversity supergroup          0 2024-01-28 19:11 /user/itversity/retail_db/customers\n",
      "drwxr-xr-x   - itversity supergroup          0 2024-01-28 19:11 /user/itversity/retail_db/departments\n",
      "-rw-r--r--   1 itversity supergroup   10297372 2024-01-28 19:11 /user/itversity/retail_db/load_db_tables_pg.sql\n",
      "drwxr-xr-x   - itversity supergroup          0 2024-01-28 19:11 /user/itversity/retail_db/order_items\n",
      "drwxr-xr-x   - itversity supergroup          0 2024-01-28 19:11 /user/itversity/retail_db/orders\n",
      "drwxr-xr-x   - itversity supergroup          0 2024-01-28 19:11 /user/itversity/retail_db/products\n"
     ]
    }
   ],
   "source": [
    "%%sh \n",
    "\n",
    "hdfs dfs -ls /user/`whoami`/retail_db"
   ]
  },
  {
   "cell_type": "code",
   "execution_count": 5,
   "id": "999ae752-56c0-4171-8039-aa2bbf23bd33",
   "metadata": {},
   "outputs": [
    {
     "name": "stdout",
     "output_type": "stream",
     "text": [
      "FSCK started by itversity (auth:SIMPLE) from /127.0.0.1 for path /user/itversity/retail_db at Sun Jan 28 19:23:16 GMT 2024\n",
      "\n",
      "/user/itversity/retail_db <dir>\n",
      "/user/itversity/retail_db/categories <dir>\n",
      "/user/itversity/retail_db/categories/part-00000 1029 bytes, replicated: replication=1, 1 block(s):  OK\n",
      "/user/itversity/retail_db/create_db.sql 10303297 bytes, replicated: replication=1, 1 block(s):  OK\n",
      "/user/itversity/retail_db/create_db_tables_pg.sql 1748 bytes, replicated: replication=1, 1 block(s):  OK\n",
      "/user/itversity/retail_db/customers <dir>\n",
      "/user/itversity/retail_db/customers/part-00000 953719 bytes, replicated: replication=1, 1 block(s):  OK\n",
      "/user/itversity/retail_db/departments <dir>\n",
      "/user/itversity/retail_db/departments/part-00000 60 bytes, replicated: replication=1, 1 block(s):  OK\n",
      "/user/itversity/retail_db/load_db_tables_pg.sql 10297372 bytes, replicated: replication=1, 1 block(s):  OK\n",
      "/user/itversity/retail_db/order_items <dir>\n",
      "/user/itversity/retail_db/order_items/part-00000 5408880 bytes, replicated: replication=1, 1 block(s):  OK\n",
      "/user/itversity/retail_db/orders <dir>\n",
      "/user/itversity/retail_db/orders/part-00000 2999944 bytes, replicated: replication=1, 1 block(s):  OK\n",
      "/user/itversity/retail_db/products <dir>\n",
      "/user/itversity/retail_db/products/part-00000 174155 bytes, replicated: replication=1, 1 block(s):  OK\n",
      "\n",
      "Status: HEALTHY\n",
      " Number of data-nodes:\t1\n",
      " Number of racks:\t\t1\n",
      " Total dirs:\t\t\t7\n",
      " Total symlinks:\t\t0\n",
      "\n",
      "Replicated Blocks:\n",
      " Total size:\t30140204 B\n",
      " Total files:\t9\n",
      " Total blocks (validated):\t9 (avg. block size 3348911 B)\n",
      " Minimally replicated blocks:\t9 (100.0 %)\n",
      " Over-replicated blocks:\t0 (0.0 %)\n",
      " Under-replicated blocks:\t0 (0.0 %)\n",
      " Mis-replicated blocks:\t\t0 (0.0 %)\n",
      " Default replication factor:\t1\n",
      " Average block replication:\t1.0\n",
      " Missing blocks:\t\t0\n",
      " Corrupt blocks:\t\t0\n",
      " Missing replicas:\t\t0 (0.0 %)\n",
      " Blocks queued for replication:\t0\n",
      "\n",
      "Erasure Coded Block Groups:\n",
      " Total size:\t0 B\n",
      " Total files:\t0\n",
      " Total block groups (validated):\t0\n",
      " Minimally erasure-coded block groups:\t0\n",
      " Over-erasure-coded block groups:\t0\n",
      " Under-erasure-coded block groups:\t0\n",
      " Unsatisfactory placement block groups:\t0\n",
      " Average block group size:\t0.0\n",
      " Missing block groups:\t\t0\n",
      " Corrupt block groups:\t\t0\n",
      " Missing internal blocks:\t0\n",
      " Blocks queued for replication:\t0\n",
      "FSCK ended at Sun Jan 28 19:23:16 GMT 2024 in 3 milliseconds\n",
      "\n",
      "\n",
      "The filesystem under path '/user/itversity/retail_db' is HEALTHY\n"
     ]
    },
    {
     "name": "stderr",
     "output_type": "stream",
     "text": [
      "Connecting to namenode via http://localhost:9870/fsck?ugi=itversity&files=1&path=%2Fuser%2Fitversity%2Fretail_db\n"
     ]
    }
   ],
   "source": [
    "%%sh\n",
    "\n",
    "hdfs fsck /user/`whoami`/retail_db -files "
   ]
  },
  {
   "cell_type": "code",
   "execution_count": 6,
   "id": "3d96b042-e617-4881-b626-bc5c4f0e1da0",
   "metadata": {},
   "outputs": [
    {
     "name": "stdout",
     "output_type": "stream",
     "text": [
      "FSCK started by itversity (auth:SIMPLE) from /127.0.0.1 for path /user/itversity/retail_db at Sun Jan 28 19:23:51 GMT 2024\n",
      "\n",
      "/user/itversity/retail_db <dir>\n",
      "/user/itversity/retail_db/categories <dir>\n",
      "/user/itversity/retail_db/categories/part-00000 1029 bytes, replicated: replication=1, 1 block(s):  OK\n",
      "0. BP-1463716262-172.19.0.3-1706254608807:blk_1073742450_1626 len=1029 Live_repl=1\n",
      "\n",
      "/user/itversity/retail_db/create_db.sql 10303297 bytes, replicated: replication=1, 1 block(s):  OK\n",
      "0. BP-1463716262-172.19.0.3-1706254608807:blk_1073742449_1625 len=10303297 Live_repl=1\n",
      "\n",
      "/user/itversity/retail_db/create_db_tables_pg.sql 1748 bytes, replicated: replication=1, 1 block(s):  OK\n",
      "0. BP-1463716262-172.19.0.3-1706254608807:blk_1073742451_1627 len=1748 Live_repl=1\n",
      "\n",
      "/user/itversity/retail_db/customers <dir>\n",
      "/user/itversity/retail_db/customers/part-00000 953719 bytes, replicated: replication=1, 1 block(s):  OK\n",
      "0. BP-1463716262-172.19.0.3-1706254608807:blk_1073742453_1629 len=953719 Live_repl=1\n",
      "\n",
      "/user/itversity/retail_db/departments <dir>\n",
      "/user/itversity/retail_db/departments/part-00000 60 bytes, replicated: replication=1, 1 block(s):  OK\n",
      "0. BP-1463716262-172.19.0.3-1706254608807:blk_1073742454_1630 len=60 Live_repl=1\n",
      "\n",
      "/user/itversity/retail_db/load_db_tables_pg.sql 10297372 bytes, replicated: replication=1, 1 block(s):  OK\n",
      "0. BP-1463716262-172.19.0.3-1706254608807:blk_1073742446_1622 len=10297372 Live_repl=1\n",
      "\n",
      "/user/itversity/retail_db/order_items <dir>\n",
      "/user/itversity/retail_db/order_items/part-00000 5408880 bytes, replicated: replication=1, 1 block(s):  OK\n",
      "0. BP-1463716262-172.19.0.3-1706254608807:blk_1073742448_1624 len=5408880 Live_repl=1\n",
      "\n",
      "/user/itversity/retail_db/orders <dir>\n",
      "/user/itversity/retail_db/orders/part-00000 2999944 bytes, replicated: replication=1, 1 block(s):  OK\n",
      "0. BP-1463716262-172.19.0.3-1706254608807:blk_1073742447_1623 len=2999944 Live_repl=1\n",
      "\n",
      "/user/itversity/retail_db/products <dir>\n",
      "/user/itversity/retail_db/products/part-00000 174155 bytes, replicated: replication=1, 1 block(s):  OK\n",
      "0. BP-1463716262-172.19.0.3-1706254608807:blk_1073742452_1628 len=174155 Live_repl=1\n",
      "\n",
      "\n",
      "Status: HEALTHY\n",
      " Number of data-nodes:\t1\n",
      " Number of racks:\t\t1\n",
      " Total dirs:\t\t\t7\n",
      " Total symlinks:\t\t0\n",
      "\n",
      "Replicated Blocks:\n",
      " Total size:\t30140204 B\n",
      " Total files:\t9\n",
      " Total blocks (validated):\t9 (avg. block size 3348911 B)\n",
      " Minimally replicated blocks:\t9 (100.0 %)\n",
      " Over-replicated blocks:\t0 (0.0 %)\n",
      " Under-replicated blocks:\t0 (0.0 %)\n",
      " Mis-replicated blocks:\t\t0 (0.0 %)\n",
      " Default replication factor:\t1\n",
      " Average block replication:\t1.0\n",
      " Missing blocks:\t\t0\n",
      " Corrupt blocks:\t\t0\n",
      " Missing replicas:\t\t0 (0.0 %)\n",
      " Blocks queued for replication:\t0\n",
      "\n",
      "Erasure Coded Block Groups:\n",
      " Total size:\t0 B\n",
      " Total files:\t0\n",
      " Total block groups (validated):\t0\n",
      " Minimally erasure-coded block groups:\t0\n",
      " Over-erasure-coded block groups:\t0\n",
      " Under-erasure-coded block groups:\t0\n",
      " Unsatisfactory placement block groups:\t0\n",
      " Average block group size:\t0.0\n",
      " Missing block groups:\t\t0\n",
      " Corrupt block groups:\t\t0\n",
      " Missing internal blocks:\t0\n",
      " Blocks queued for replication:\t0\n",
      "FSCK ended at Sun Jan 28 19:23:51 GMT 2024 in 3 milliseconds\n",
      "\n",
      "\n",
      "The filesystem under path '/user/itversity/retail_db' is HEALTHY\n"
     ]
    },
    {
     "name": "stderr",
     "output_type": "stream",
     "text": [
      "Connecting to namenode via http://localhost:9870/fsck?ugi=itversity&files=1&blocks=1&path=%2Fuser%2Fitversity%2Fretail_db\n"
     ]
    }
   ],
   "source": [
    "%%sh\n",
    "\n",
    "hdfs fsck /user/`whoami`/retail_db -files -blocks"
   ]
  },
  {
   "cell_type": "code",
   "execution_count": 8,
   "id": "f514d6ca-95fb-40b6-9fc9-8cde4614b4bd",
   "metadata": {},
   "outputs": [
    {
     "name": "stdout",
     "output_type": "stream",
     "text": [
      "FSCK started by itversity (auth:SIMPLE) from /127.0.0.1 for path /user/itversity/retail_db at Sun Jan 28 19:26:00 GMT 2024\n",
      "\n",
      "/user/itversity/retail_db <dir>\n",
      "/user/itversity/retail_db/categories <dir>\n",
      "/user/itversity/retail_db/categories/part-00000 1029 bytes, replicated: replication=1, 1 block(s):  OK\n",
      "0. BP-1463716262-172.19.0.3-1706254608807:blk_1073742450_1626 len=1029 Live_repl=1  [DatanodeInfoWithStorage[127.0.0.1:9866,DS-16774d13-cf92-478b-9b30-c7794943f0f1,DISK]]\n",
      "\n",
      "/user/itversity/retail_db/create_db.sql 10303297 bytes, replicated: replication=1, 1 block(s):  OK\n",
      "0. BP-1463716262-172.19.0.3-1706254608807:blk_1073742449_1625 len=10303297 Live_repl=1  [DatanodeInfoWithStorage[127.0.0.1:9866,DS-16774d13-cf92-478b-9b30-c7794943f0f1,DISK]]\n",
      "\n",
      "/user/itversity/retail_db/create_db_tables_pg.sql 1748 bytes, replicated: replication=1, 1 block(s):  OK\n",
      "0. BP-1463716262-172.19.0.3-1706254608807:blk_1073742451_1627 len=1748 Live_repl=1  [DatanodeInfoWithStorage[127.0.0.1:9866,DS-16774d13-cf92-478b-9b30-c7794943f0f1,DISK]]\n",
      "\n",
      "/user/itversity/retail_db/customers <dir>\n",
      "/user/itversity/retail_db/customers/part-00000 953719 bytes, replicated: replication=1, 1 block(s):  OK\n",
      "0. BP-1463716262-172.19.0.3-1706254608807:blk_1073742453_1629 len=953719 Live_repl=1  [DatanodeInfoWithStorage[127.0.0.1:9866,DS-16774d13-cf92-478b-9b30-c7794943f0f1,DISK]]\n",
      "\n",
      "/user/itversity/retail_db/departments <dir>\n",
      "/user/itversity/retail_db/departments/part-00000 60 bytes, replicated: replication=1, 1 block(s):  OK\n",
      "0. BP-1463716262-172.19.0.3-1706254608807:blk_1073742454_1630 len=60 Live_repl=1  [DatanodeInfoWithStorage[127.0.0.1:9866,DS-16774d13-cf92-478b-9b30-c7794943f0f1,DISK]]\n",
      "\n",
      "/user/itversity/retail_db/load_db_tables_pg.sql 10297372 bytes, replicated: replication=1, 1 block(s):  OK\n",
      "0. BP-1463716262-172.19.0.3-1706254608807:blk_1073742446_1622 len=10297372 Live_repl=1  [DatanodeInfoWithStorage[127.0.0.1:9866,DS-16774d13-cf92-478b-9b30-c7794943f0f1,DISK]]\n",
      "\n",
      "/user/itversity/retail_db/order_items <dir>\n",
      "/user/itversity/retail_db/order_items/part-00000 5408880 bytes, replicated: replication=1, 1 block(s):  OK\n",
      "0. BP-1463716262-172.19.0.3-1706254608807:blk_1073742448_1624 len=5408880 Live_repl=1  [DatanodeInfoWithStorage[127.0.0.1:9866,DS-16774d13-cf92-478b-9b30-c7794943f0f1,DISK]]\n",
      "\n",
      "/user/itversity/retail_db/orders <dir>\n",
      "/user/itversity/retail_db/orders/part-00000 2999944 bytes, replicated: replication=1, 1 block(s):  OK\n",
      "0. BP-1463716262-172.19.0.3-1706254608807:blk_1073742447_1623 len=2999944 Live_repl=1  [DatanodeInfoWithStorage[127.0.0.1:9866,DS-16774d13-cf92-478b-9b30-c7794943f0f1,DISK]]\n",
      "\n",
      "/user/itversity/retail_db/products <dir>\n",
      "/user/itversity/retail_db/products/part-00000 174155 bytes, replicated: replication=1, 1 block(s):  OK\n",
      "0. BP-1463716262-172.19.0.3-1706254608807:blk_1073742452_1628 len=174155 Live_repl=1  [DatanodeInfoWithStorage[127.0.0.1:9866,DS-16774d13-cf92-478b-9b30-c7794943f0f1,DISK]]\n",
      "\n",
      "\n",
      "Status: HEALTHY\n",
      " Number of data-nodes:\t1\n",
      " Number of racks:\t\t1\n",
      " Total dirs:\t\t\t7\n",
      " Total symlinks:\t\t0\n",
      "\n",
      "Replicated Blocks:\n",
      " Total size:\t30140204 B\n",
      " Total files:\t9\n",
      " Total blocks (validated):\t9 (avg. block size 3348911 B)\n",
      " Minimally replicated blocks:\t9 (100.0 %)\n",
      " Over-replicated blocks:\t0 (0.0 %)\n",
      " Under-replicated blocks:\t0 (0.0 %)\n",
      " Mis-replicated blocks:\t\t0 (0.0 %)\n",
      " Default replication factor:\t1\n",
      " Average block replication:\t1.0\n",
      " Missing blocks:\t\t0\n",
      " Corrupt blocks:\t\t0\n",
      " Missing replicas:\t\t0 (0.0 %)\n",
      " Blocks queued for replication:\t0\n",
      "\n",
      "Erasure Coded Block Groups:\n",
      " Total size:\t0 B\n",
      " Total files:\t0\n",
      " Total block groups (validated):\t0\n",
      " Minimally erasure-coded block groups:\t0\n",
      " Over-erasure-coded block groups:\t0\n",
      " Under-erasure-coded block groups:\t0\n",
      " Unsatisfactory placement block groups:\t0\n",
      " Average block group size:\t0.0\n",
      " Missing block groups:\t\t0\n",
      " Corrupt block groups:\t\t0\n",
      " Missing internal blocks:\t0\n",
      " Blocks queued for replication:\t0\n",
      "FSCK ended at Sun Jan 28 19:26:00 GMT 2024 in 2 milliseconds\n",
      "\n",
      "\n",
      "The filesystem under path '/user/itversity/retail_db' is HEALTHY\n"
     ]
    },
    {
     "name": "stderr",
     "output_type": "stream",
     "text": [
      "Connecting to namenode via http://localhost:9870/fsck?ugi=itversity&files=1&blocks=1&locations=1&path=%2Fuser%2Fitversity%2Fretail_db\n"
     ]
    }
   ],
   "source": [
    "%%sh\n",
    "\n",
    "hdfs fsck /user/`whoami`/retail_db -files -blocks -locations"
   ]
  },
  {
   "cell_type": "code",
   "execution_count": 10,
   "id": "dcdcc0ed-0e5e-4704-903d-0c8d8016d9fa",
   "metadata": {},
   "outputs": [
    {
     "name": "stderr",
     "output_type": "stream",
     "text": [
      "ls: `/public/randomtextwriter/part-m-00000': No such file or directory\n"
     ]
    },
    {
     "ename": "CalledProcessError",
     "evalue": "Command 'b'\\nhdfs dfs -ls -h /public/randomtextwriter/part-m-00000\\n'' returned non-zero exit status 1.",
     "output_type": "error",
     "traceback": [
      "\u001b[0;31m---------------------------------------------------------------------------\u001b[0m",
      "\u001b[0;31mCalledProcessError\u001b[0m                        Traceback (most recent call last)",
      "\u001b[0;32m<ipython-input-10-c737e20fefb1>\u001b[0m in \u001b[0;36m<module>\u001b[0;34m\u001b[0m\n\u001b[0;32m----> 1\u001b[0;31m \u001b[0mget_ipython\u001b[0m\u001b[0;34m(\u001b[0m\u001b[0;34m)\u001b[0m\u001b[0;34m.\u001b[0m\u001b[0mrun_cell_magic\u001b[0m\u001b[0;34m(\u001b[0m\u001b[0;34m'sh'\u001b[0m\u001b[0;34m,\u001b[0m \u001b[0;34m''\u001b[0m\u001b[0;34m,\u001b[0m \u001b[0;34m'\\nhdfs dfs -ls -h /public/randomtextwriter/part-m-00000\\n'\u001b[0m\u001b[0;34m)\u001b[0m\u001b[0;34m\u001b[0m\u001b[0;34m\u001b[0m\u001b[0m\n\u001b[0m",
      "\u001b[0;32m~/.local/lib/python3.6/site-packages/IPython/core/interactiveshell.py\u001b[0m in \u001b[0;36mrun_cell_magic\u001b[0;34m(self, magic_name, line, cell)\u001b[0m\n\u001b[1;32m   2369\u001b[0m             \u001b[0;32mwith\u001b[0m \u001b[0mself\u001b[0m\u001b[0;34m.\u001b[0m\u001b[0mbuiltin_trap\u001b[0m\u001b[0;34m:\u001b[0m\u001b[0;34m\u001b[0m\u001b[0;34m\u001b[0m\u001b[0m\n\u001b[1;32m   2370\u001b[0m                 \u001b[0margs\u001b[0m \u001b[0;34m=\u001b[0m \u001b[0;34m(\u001b[0m\u001b[0mmagic_arg_s\u001b[0m\u001b[0;34m,\u001b[0m \u001b[0mcell\u001b[0m\u001b[0;34m)\u001b[0m\u001b[0;34m\u001b[0m\u001b[0;34m\u001b[0m\u001b[0m\n\u001b[0;32m-> 2371\u001b[0;31m                 \u001b[0mresult\u001b[0m \u001b[0;34m=\u001b[0m \u001b[0mfn\u001b[0m\u001b[0;34m(\u001b[0m\u001b[0;34m*\u001b[0m\u001b[0margs\u001b[0m\u001b[0;34m,\u001b[0m \u001b[0;34m**\u001b[0m\u001b[0mkwargs\u001b[0m\u001b[0;34m)\u001b[0m\u001b[0;34m\u001b[0m\u001b[0;34m\u001b[0m\u001b[0m\n\u001b[0m\u001b[1;32m   2372\u001b[0m             \u001b[0;32mreturn\u001b[0m \u001b[0mresult\u001b[0m\u001b[0;34m\u001b[0m\u001b[0;34m\u001b[0m\u001b[0m\n\u001b[1;32m   2373\u001b[0m \u001b[0;34m\u001b[0m\u001b[0m\n",
      "\u001b[0;32m~/.local/lib/python3.6/site-packages/IPython/core/magics/script.py\u001b[0m in \u001b[0;36mnamed_script_magic\u001b[0;34m(line, cell)\u001b[0m\n\u001b[1;32m    140\u001b[0m             \u001b[0;32melse\u001b[0m\u001b[0;34m:\u001b[0m\u001b[0;34m\u001b[0m\u001b[0;34m\u001b[0m\u001b[0m\n\u001b[1;32m    141\u001b[0m                 \u001b[0mline\u001b[0m \u001b[0;34m=\u001b[0m \u001b[0mscript\u001b[0m\u001b[0;34m\u001b[0m\u001b[0;34m\u001b[0m\u001b[0m\n\u001b[0;32m--> 142\u001b[0;31m             \u001b[0;32mreturn\u001b[0m \u001b[0mself\u001b[0m\u001b[0;34m.\u001b[0m\u001b[0mshebang\u001b[0m\u001b[0;34m(\u001b[0m\u001b[0mline\u001b[0m\u001b[0;34m,\u001b[0m \u001b[0mcell\u001b[0m\u001b[0;34m)\u001b[0m\u001b[0;34m\u001b[0m\u001b[0;34m\u001b[0m\u001b[0m\n\u001b[0m\u001b[1;32m    143\u001b[0m \u001b[0;34m\u001b[0m\u001b[0m\n\u001b[1;32m    144\u001b[0m         \u001b[0;31m# write a basic docstring:\u001b[0m\u001b[0;34m\u001b[0m\u001b[0;34m\u001b[0m\u001b[0;34m\u001b[0m\u001b[0m\n",
      "\u001b[0;32m~/.local/lib/python3.6/site-packages/decorator.py\u001b[0m in \u001b[0;36mfun\u001b[0;34m(*args, **kw)\u001b[0m\n\u001b[1;32m    230\u001b[0m             \u001b[0;32mif\u001b[0m \u001b[0;32mnot\u001b[0m \u001b[0mkwsyntax\u001b[0m\u001b[0;34m:\u001b[0m\u001b[0;34m\u001b[0m\u001b[0;34m\u001b[0m\u001b[0m\n\u001b[1;32m    231\u001b[0m                 \u001b[0margs\u001b[0m\u001b[0;34m,\u001b[0m \u001b[0mkw\u001b[0m \u001b[0;34m=\u001b[0m \u001b[0mfix\u001b[0m\u001b[0;34m(\u001b[0m\u001b[0margs\u001b[0m\u001b[0;34m,\u001b[0m \u001b[0mkw\u001b[0m\u001b[0;34m,\u001b[0m \u001b[0msig\u001b[0m\u001b[0;34m)\u001b[0m\u001b[0;34m\u001b[0m\u001b[0;34m\u001b[0m\u001b[0m\n\u001b[0;32m--> 232\u001b[0;31m             \u001b[0;32mreturn\u001b[0m \u001b[0mcaller\u001b[0m\u001b[0;34m(\u001b[0m\u001b[0mfunc\u001b[0m\u001b[0;34m,\u001b[0m \u001b[0;34m*\u001b[0m\u001b[0;34m(\u001b[0m\u001b[0mextras\u001b[0m \u001b[0;34m+\u001b[0m \u001b[0margs\u001b[0m\u001b[0;34m)\u001b[0m\u001b[0;34m,\u001b[0m \u001b[0;34m**\u001b[0m\u001b[0mkw\u001b[0m\u001b[0;34m)\u001b[0m\u001b[0;34m\u001b[0m\u001b[0;34m\u001b[0m\u001b[0m\n\u001b[0m\u001b[1;32m    233\u001b[0m     \u001b[0mfun\u001b[0m\u001b[0;34m.\u001b[0m\u001b[0m__name__\u001b[0m \u001b[0;34m=\u001b[0m \u001b[0mfunc\u001b[0m\u001b[0;34m.\u001b[0m\u001b[0m__name__\u001b[0m\u001b[0;34m\u001b[0m\u001b[0;34m\u001b[0m\u001b[0m\n\u001b[1;32m    234\u001b[0m     \u001b[0mfun\u001b[0m\u001b[0;34m.\u001b[0m\u001b[0m__doc__\u001b[0m \u001b[0;34m=\u001b[0m \u001b[0mfunc\u001b[0m\u001b[0;34m.\u001b[0m\u001b[0m__doc__\u001b[0m\u001b[0;34m\u001b[0m\u001b[0;34m\u001b[0m\u001b[0m\n",
      "\u001b[0;32m~/.local/lib/python3.6/site-packages/IPython/core/magic.py\u001b[0m in \u001b[0;36m<lambda>\u001b[0;34m(f, *a, **k)\u001b[0m\n\u001b[1;32m    185\u001b[0m     \u001b[0;31m# but it's overkill for just that one bit of state.\u001b[0m\u001b[0;34m\u001b[0m\u001b[0;34m\u001b[0m\u001b[0;34m\u001b[0m\u001b[0m\n\u001b[1;32m    186\u001b[0m     \u001b[0;32mdef\u001b[0m \u001b[0mmagic_deco\u001b[0m\u001b[0;34m(\u001b[0m\u001b[0marg\u001b[0m\u001b[0;34m)\u001b[0m\u001b[0;34m:\u001b[0m\u001b[0;34m\u001b[0m\u001b[0;34m\u001b[0m\u001b[0m\n\u001b[0;32m--> 187\u001b[0;31m         \u001b[0mcall\u001b[0m \u001b[0;34m=\u001b[0m \u001b[0;32mlambda\u001b[0m \u001b[0mf\u001b[0m\u001b[0;34m,\u001b[0m \u001b[0;34m*\u001b[0m\u001b[0ma\u001b[0m\u001b[0;34m,\u001b[0m \u001b[0;34m**\u001b[0m\u001b[0mk\u001b[0m\u001b[0;34m:\u001b[0m \u001b[0mf\u001b[0m\u001b[0;34m(\u001b[0m\u001b[0;34m*\u001b[0m\u001b[0ma\u001b[0m\u001b[0;34m,\u001b[0m \u001b[0;34m**\u001b[0m\u001b[0mk\u001b[0m\u001b[0;34m)\u001b[0m\u001b[0;34m\u001b[0m\u001b[0;34m\u001b[0m\u001b[0m\n\u001b[0m\u001b[1;32m    188\u001b[0m \u001b[0;34m\u001b[0m\u001b[0m\n\u001b[1;32m    189\u001b[0m         \u001b[0;32mif\u001b[0m \u001b[0mcallable\u001b[0m\u001b[0;34m(\u001b[0m\u001b[0marg\u001b[0m\u001b[0;34m)\u001b[0m\u001b[0;34m:\u001b[0m\u001b[0;34m\u001b[0m\u001b[0;34m\u001b[0m\u001b[0m\n",
      "\u001b[0;32m~/.local/lib/python3.6/site-packages/IPython/core/magics/script.py\u001b[0m in \u001b[0;36mshebang\u001b[0;34m(self, line, cell)\u001b[0m\n\u001b[1;32m    243\u001b[0m             \u001b[0msys\u001b[0m\u001b[0;34m.\u001b[0m\u001b[0mstderr\u001b[0m\u001b[0;34m.\u001b[0m\u001b[0mflush\u001b[0m\u001b[0;34m(\u001b[0m\u001b[0;34m)\u001b[0m\u001b[0;34m\u001b[0m\u001b[0;34m\u001b[0m\u001b[0m\n\u001b[1;32m    244\u001b[0m         \u001b[0;32mif\u001b[0m \u001b[0margs\u001b[0m\u001b[0;34m.\u001b[0m\u001b[0mraise_error\u001b[0m \u001b[0;32mand\u001b[0m \u001b[0mp\u001b[0m\u001b[0;34m.\u001b[0m\u001b[0mreturncode\u001b[0m\u001b[0;34m!=\u001b[0m\u001b[0;36m0\u001b[0m\u001b[0;34m:\u001b[0m\u001b[0;34m\u001b[0m\u001b[0;34m\u001b[0m\u001b[0m\n\u001b[0;32m--> 245\u001b[0;31m             \u001b[0;32mraise\u001b[0m \u001b[0mCalledProcessError\u001b[0m\u001b[0;34m(\u001b[0m\u001b[0mp\u001b[0m\u001b[0;34m.\u001b[0m\u001b[0mreturncode\u001b[0m\u001b[0;34m,\u001b[0m \u001b[0mcell\u001b[0m\u001b[0;34m,\u001b[0m \u001b[0moutput\u001b[0m\u001b[0;34m=\u001b[0m\u001b[0mout\u001b[0m\u001b[0;34m,\u001b[0m \u001b[0mstderr\u001b[0m\u001b[0;34m=\u001b[0m\u001b[0merr\u001b[0m\u001b[0;34m)\u001b[0m\u001b[0;34m\u001b[0m\u001b[0;34m\u001b[0m\u001b[0m\n\u001b[0m\u001b[1;32m    246\u001b[0m \u001b[0;34m\u001b[0m\u001b[0m\n\u001b[1;32m    247\u001b[0m     \u001b[0;32mdef\u001b[0m \u001b[0m_run_script\u001b[0m\u001b[0;34m(\u001b[0m\u001b[0mself\u001b[0m\u001b[0;34m,\u001b[0m \u001b[0mp\u001b[0m\u001b[0;34m,\u001b[0m \u001b[0mcell\u001b[0m\u001b[0;34m,\u001b[0m \u001b[0mto_close\u001b[0m\u001b[0;34m)\u001b[0m\u001b[0;34m:\u001b[0m\u001b[0;34m\u001b[0m\u001b[0;34m\u001b[0m\u001b[0m\n",
      "\u001b[0;31mCalledProcessError\u001b[0m: Command 'b'\\nhdfs dfs -ls -h /public/randomtextwriter/part-m-00000\\n'' returned non-zero exit status 1."
     ]
    }
   ],
   "source": []
  },
  {
   "cell_type": "code",
   "execution_count": null,
   "id": "b8ca69d9-b50f-4445-8bd8-1427334eb7d3",
   "metadata": {},
   "outputs": [],
   "source": []
  }
 ],
 "metadata": {
  "kernelspec": {
   "display_name": "Python 3",
   "language": "python",
   "name": "python3"
  },
  "language_info": {
   "codemirror_mode": {
    "name": "ipython",
    "version": 3
   },
   "file_extension": ".py",
   "mimetype": "text/x-python",
   "name": "python",
   "nbconvert_exporter": "python",
   "pygments_lexer": "ipython3",
   "version": "3.6.9"
  }
 },
 "nbformat": 4,
 "nbformat_minor": 5
}
