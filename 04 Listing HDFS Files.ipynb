{
 "cells": [
  {
   "cell_type": "markdown",
   "id": "dbbb9111-05a5-41b6-9934-0313922be208",
   "metadata": {},
   "source": [
    "### Listing HDFS Files ###"
   ]
  },
  {
   "cell_type": "code",
   "execution_count": 1,
   "id": "415cd564-a7ad-4fb6-8041-d44340c31172",
   "metadata": {},
   "outputs": [
    {
     "name": "stdout",
     "output_type": "stream",
     "text": [
      "Usage: hadoop fs [generic options] -ls [-C] [-d] [-h] [-q] [-R] [-t] [-S] [-r] [-u] [-e] [<path> ...]\n"
     ]
    }
   ],
   "source": [
    "%%sh\n",
    "\n",
    "hdfs dfs -usage ls"
   ]
  },
  {
   "cell_type": "code",
   "execution_count": 2,
   "id": "13ddab1f-6730-47b0-8d50-93d46d78f375",
   "metadata": {},
   "outputs": [
    {
     "name": "stdout",
     "output_type": "stream",
     "text": [
      "-ls [-C] [-d] [-h] [-q] [-R] [-t] [-S] [-r] [-u] [-e] [<path> ...] :\n",
      "  List the contents that match the specified file pattern. If path is not\n",
      "  specified, the contents of /user/<currentUser> will be listed. For a directory a\n",
      "  list of its direct children is returned (unless -d option is specified).\n",
      "  \n",
      "  Directory entries are of the form:\n",
      "  \tpermissions - userId groupId sizeOfDirectory(in bytes)\n",
      "  modificationDate(yyyy-MM-dd HH:mm) directoryName\n",
      "  \n",
      "  and file entries are of the form:\n",
      "  \tpermissions numberOfReplicas userId groupId sizeOfFile(in bytes)\n",
      "  modificationDate(yyyy-MM-dd HH:mm) fileName\n",
      "  \n",
      "    -C  Display the paths of files and directories only.\n",
      "    -d  Directories are listed as plain files.\n",
      "    -h  Formats the sizes of files in a human-readable fashion\n",
      "        rather than a number of bytes.\n",
      "    -q  Print ? instead of non-printable characters.\n",
      "    -R  Recursively list the contents of directories.\n",
      "    -t  Sort files by modification time (most recent first).\n",
      "    -S  Sort files by size.\n",
      "    -r  Reverse the order of the sort.\n",
      "    -u  Use time of last access instead of modification for\n",
      "        display and sorting.\n",
      "    -e  Display the erasure coding policy of files and directories.\n"
     ]
    }
   ],
   "source": [
    "%%sh\n",
    "\n",
    "hdfs dfs -help ls"
   ]
  },
  {
   "cell_type": "code",
   "execution_count": 3,
   "id": "9017ff78-a87b-40a7-871d-4eb51d0a9d48",
   "metadata": {},
   "outputs": [],
   "source": [
    "!hdfs dfs -mkdir -p /public"
   ]
  },
  {
   "cell_type": "code",
   "execution_count": 4,
   "id": "4c51bc7b-f9a4-4677-8080-60c026a72403",
   "metadata": {},
   "outputs": [],
   "source": [
    "!hdfs dfs -put /data/nyse_all /public"
   ]
  },
  {
   "cell_type": "code",
   "execution_count": 6,
   "id": "22da5699-c14f-4df5-a0e3-260a9a6a66f4",
   "metadata": {},
   "outputs": [
    {
     "name": "stdout",
     "output_type": "stream",
     "text": [
      "Found 21 items\n",
      "-rw-r--r--   1 itversity supergroup     519586 2024-01-27 23:11 /public/nyse_all/nyse_data/NYSE_2017.txt.gz\n",
      "-rw-r--r--   1 itversity supergroup   11796756 2024-01-27 23:11 /public/nyse_all/nyse_data/NYSE_2016.txt.gz\n",
      "-rw-r--r--   1 itversity supergroup   11327417 2024-01-27 23:11 /public/nyse_all/nyse_data/NYSE_2015.txt.gz\n",
      "-rw-r--r--   1 itversity supergroup   10552757 2024-01-27 23:11 /public/nyse_all/nyse_data/NYSE_2014.txt.gz\n",
      "-rw-r--r--   1 itversity supergroup    9588984 2024-01-27 23:11 /public/nyse_all/nyse_data/NYSE_2013.txt.gz\n",
      "-rw-r--r--   1 itversity supergroup    8538688 2024-01-27 23:11 /public/nyse_all/nyse_data/NYSE_2012.txt.gz\n",
      "-rw-r--r--   1 itversity supergroup    7980961 2024-01-27 23:11 /public/nyse_all/nyse_data/NYSE_2011.txt.gz\n",
      "-rw-r--r--   1 itversity supergroup    7551218 2024-01-27 23:11 /public/nyse_all/nyse_data/NYSE_2010.txt.gz\n",
      "-rw-r--r--   1 itversity supergroup    7186235 2024-01-27 23:11 /public/nyse_all/nyse_data/NYSE_2009.txt.gz\n",
      "-rw-r--r--   1 itversity supergroup    7179621 2024-01-27 23:11 /public/nyse_all/nyse_data/NYSE_2008.txt.gz\n",
      "-rw-r--r--   1 itversity supergroup    6903056 2024-01-27 23:11 /public/nyse_all/nyse_data/NYSE_2007.txt.gz\n",
      "-rw-r--r--   1 itversity supergroup    6480175 2024-01-27 23:11 /public/nyse_all/nyse_data/NYSE_2006.txt.gz\n",
      "-rw-r--r--   1 itversity supergroup    6207833 2024-01-27 23:11 /public/nyse_all/nyse_data/NYSE_2005.txt.gz\n",
      "-rw-r--r--   1 itversity supergroup    5689069 2024-01-27 23:11 /public/nyse_all/nyse_data/NYSE_2004.txt.gz\n",
      "-rw-r--r--   1 itversity supergroup    5271305 2024-01-27 23:11 /public/nyse_all/nyse_data/NYSE_2003.txt.gz\n",
      "-rw-r--r--   1 itversity supergroup    5021940 2024-01-27 23:11 /public/nyse_all/nyse_data/NYSE_2002.txt.gz\n",
      "-rw-r--r--   1 itversity supergroup    4722623 2024-01-27 23:11 /public/nyse_all/nyse_data/NYSE_2001.txt.gz\n",
      "-rw-r--r--   1 itversity supergroup    4439306 2024-01-27 23:11 /public/nyse_all/nyse_data/NYSE_2000.txt.gz\n",
      "-rw-r--r--   1 itversity supergroup    4297025 2024-01-27 23:11 /public/nyse_all/nyse_data/NYSE_1999.txt.gz\n",
      "-rw-r--r--   1 itversity supergroup    4142942 2024-01-27 23:11 /public/nyse_all/nyse_data/NYSE_1998.txt.gz\n",
      "-rw-r--r--   1 itversity supergroup    3842443 2024-01-27 23:11 /public/nyse_all/nyse_data/NYSE_1997.txt.gz\n"
     ]
    }
   ],
   "source": [
    "%%sh\n",
    "\n",
    "hdfs dfs -ls -r /public/nyse_all/nyse_data"
   ]
  },
  {
   "cell_type": "code",
   "execution_count": 7,
   "id": "d7913ca7-9604-49d9-9713-748bbd10d15b",
   "metadata": {},
   "outputs": [
    {
     "name": "stdout",
     "output_type": "stream",
     "text": [
      "Found 21 items\n",
      "-rw-r--r--   1 itversity supergroup    5021940 2024-01-27 23:11 /public/nyse_all/nyse_data/NYSE_2002.txt.gz\n",
      "-rw-r--r--   1 itversity supergroup     519586 2024-01-27 23:11 /public/nyse_all/nyse_data/NYSE_2017.txt.gz\n",
      "-rw-r--r--   1 itversity supergroup    7551218 2024-01-27 23:11 /public/nyse_all/nyse_data/NYSE_2010.txt.gz\n",
      "-rw-r--r--   1 itversity supergroup    4439306 2024-01-27 23:11 /public/nyse_all/nyse_data/NYSE_2000.txt.gz\n",
      "-rw-r--r--   1 itversity supergroup    4297025 2024-01-27 23:11 /public/nyse_all/nyse_data/NYSE_1999.txt.gz\n",
      "-rw-r--r--   1 itversity supergroup    7179621 2024-01-27 23:11 /public/nyse_all/nyse_data/NYSE_2008.txt.gz\n",
      "-rw-r--r--   1 itversity supergroup    4722623 2024-01-27 23:11 /public/nyse_all/nyse_data/NYSE_2001.txt.gz\n",
      "-rw-r--r--   1 itversity supergroup    3842443 2024-01-27 23:11 /public/nyse_all/nyse_data/NYSE_1997.txt.gz\n",
      "-rw-r--r--   1 itversity supergroup   11796756 2024-01-27 23:11 /public/nyse_all/nyse_data/NYSE_2016.txt.gz\n",
      "-rw-r--r--   1 itversity supergroup    6903056 2024-01-27 23:11 /public/nyse_all/nyse_data/NYSE_2007.txt.gz\n",
      "-rw-r--r--   1 itversity supergroup   11327417 2024-01-27 23:11 /public/nyse_all/nyse_data/NYSE_2015.txt.gz\n",
      "-rw-r--r--   1 itversity supergroup    6480175 2024-01-27 23:11 /public/nyse_all/nyse_data/NYSE_2006.txt.gz\n",
      "-rw-r--r--   1 itversity supergroup    8538688 2024-01-27 23:11 /public/nyse_all/nyse_data/NYSE_2012.txt.gz\n",
      "-rw-r--r--   1 itversity supergroup    6207833 2024-01-27 23:11 /public/nyse_all/nyse_data/NYSE_2005.txt.gz\n",
      "-rw-r--r--   1 itversity supergroup   10552757 2024-01-27 23:11 /public/nyse_all/nyse_data/NYSE_2014.txt.gz\n",
      "-rw-r--r--   1 itversity supergroup    5271305 2024-01-27 23:11 /public/nyse_all/nyse_data/NYSE_2003.txt.gz\n",
      "-rw-r--r--   1 itversity supergroup    4142942 2024-01-27 23:11 /public/nyse_all/nyse_data/NYSE_1998.txt.gz\n",
      "-rw-r--r--   1 itversity supergroup    7186235 2024-01-27 23:11 /public/nyse_all/nyse_data/NYSE_2009.txt.gz\n",
      "-rw-r--r--   1 itversity supergroup    7980961 2024-01-27 23:11 /public/nyse_all/nyse_data/NYSE_2011.txt.gz\n",
      "-rw-r--r--   1 itversity supergroup    9588984 2024-01-27 23:11 /public/nyse_all/nyse_data/NYSE_2013.txt.gz\n",
      "-rw-r--r--   1 itversity supergroup    5689069 2024-01-27 23:11 /public/nyse_all/nyse_data/NYSE_2004.txt.gz\n"
     ]
    }
   ],
   "source": [
    "%%sh\n",
    "\n",
    "hdfs dfs -ls -t /public/nyse_all/nyse_data"
   ]
  },
  {
   "cell_type": "code",
   "execution_count": 8,
   "id": "b1b6e8ea-8996-4d36-9bef-d1789af911e8",
   "metadata": {},
   "outputs": [
    {
     "name": "stdout",
     "output_type": "stream",
     "text": [
      "Found 21 items\n",
      "-rw-r--r--   1 itversity supergroup    5689069 2024-01-27 23:11 /public/nyse_all/nyse_data/NYSE_2004.txt.gz\n",
      "-rw-r--r--   1 itversity supergroup    9588984 2024-01-27 23:11 /public/nyse_all/nyse_data/NYSE_2013.txt.gz\n",
      "-rw-r--r--   1 itversity supergroup    7980961 2024-01-27 23:11 /public/nyse_all/nyse_data/NYSE_2011.txt.gz\n",
      "-rw-r--r--   1 itversity supergroup    7186235 2024-01-27 23:11 /public/nyse_all/nyse_data/NYSE_2009.txt.gz\n",
      "-rw-r--r--   1 itversity supergroup    4142942 2024-01-27 23:11 /public/nyse_all/nyse_data/NYSE_1998.txt.gz\n",
      "-rw-r--r--   1 itversity supergroup    5271305 2024-01-27 23:11 /public/nyse_all/nyse_data/NYSE_2003.txt.gz\n",
      "-rw-r--r--   1 itversity supergroup   10552757 2024-01-27 23:11 /public/nyse_all/nyse_data/NYSE_2014.txt.gz\n",
      "-rw-r--r--   1 itversity supergroup    6207833 2024-01-27 23:11 /public/nyse_all/nyse_data/NYSE_2005.txt.gz\n",
      "-rw-r--r--   1 itversity supergroup    8538688 2024-01-27 23:11 /public/nyse_all/nyse_data/NYSE_2012.txt.gz\n",
      "-rw-r--r--   1 itversity supergroup    6480175 2024-01-27 23:11 /public/nyse_all/nyse_data/NYSE_2006.txt.gz\n",
      "-rw-r--r--   1 itversity supergroup   11327417 2024-01-27 23:11 /public/nyse_all/nyse_data/NYSE_2015.txt.gz\n",
      "-rw-r--r--   1 itversity supergroup    6903056 2024-01-27 23:11 /public/nyse_all/nyse_data/NYSE_2007.txt.gz\n",
      "-rw-r--r--   1 itversity supergroup   11796756 2024-01-27 23:11 /public/nyse_all/nyse_data/NYSE_2016.txt.gz\n",
      "-rw-r--r--   1 itversity supergroup    3842443 2024-01-27 23:11 /public/nyse_all/nyse_data/NYSE_1997.txt.gz\n",
      "-rw-r--r--   1 itversity supergroup    4722623 2024-01-27 23:11 /public/nyse_all/nyse_data/NYSE_2001.txt.gz\n",
      "-rw-r--r--   1 itversity supergroup    7179621 2024-01-27 23:11 /public/nyse_all/nyse_data/NYSE_2008.txt.gz\n",
      "-rw-r--r--   1 itversity supergroup    4297025 2024-01-27 23:11 /public/nyse_all/nyse_data/NYSE_1999.txt.gz\n",
      "-rw-r--r--   1 itversity supergroup    4439306 2024-01-27 23:11 /public/nyse_all/nyse_data/NYSE_2000.txt.gz\n",
      "-rw-r--r--   1 itversity supergroup    7551218 2024-01-27 23:11 /public/nyse_all/nyse_data/NYSE_2010.txt.gz\n",
      "-rw-r--r--   1 itversity supergroup     519586 2024-01-27 23:11 /public/nyse_all/nyse_data/NYSE_2017.txt.gz\n",
      "-rw-r--r--   1 itversity supergroup    5021940 2024-01-27 23:11 /public/nyse_all/nyse_data/NYSE_2002.txt.gz\n"
     ]
    }
   ],
   "source": [
    "%%sh\n",
    "\n",
    "hdfs dfs -ls -t -r /public/nyse_all/nyse_data "
   ]
  },
  {
   "cell_type": "code",
   "execution_count": 9,
   "id": "0680a691-d53f-4a86-acf0-a3afc7fb69f3",
   "metadata": {},
   "outputs": [
    {
     "name": "stdout",
     "output_type": "stream",
     "text": [
      "Found 21 items\n",
      "-rw-r--r--   1 itversity supergroup   11796756 2024-01-27 23:11 /public/nyse_all/nyse_data/NYSE_2016.txt.gz\n",
      "-rw-r--r--   1 itversity supergroup   11327417 2024-01-27 23:11 /public/nyse_all/nyse_data/NYSE_2015.txt.gz\n",
      "-rw-r--r--   1 itversity supergroup   10552757 2024-01-27 23:11 /public/nyse_all/nyse_data/NYSE_2014.txt.gz\n",
      "-rw-r--r--   1 itversity supergroup    9588984 2024-01-27 23:11 /public/nyse_all/nyse_data/NYSE_2013.txt.gz\n",
      "-rw-r--r--   1 itversity supergroup    8538688 2024-01-27 23:11 /public/nyse_all/nyse_data/NYSE_2012.txt.gz\n",
      "-rw-r--r--   1 itversity supergroup    7980961 2024-01-27 23:11 /public/nyse_all/nyse_data/NYSE_2011.txt.gz\n",
      "-rw-r--r--   1 itversity supergroup    7551218 2024-01-27 23:11 /public/nyse_all/nyse_data/NYSE_2010.txt.gz\n",
      "-rw-r--r--   1 itversity supergroup    7186235 2024-01-27 23:11 /public/nyse_all/nyse_data/NYSE_2009.txt.gz\n",
      "-rw-r--r--   1 itversity supergroup    7179621 2024-01-27 23:11 /public/nyse_all/nyse_data/NYSE_2008.txt.gz\n",
      "-rw-r--r--   1 itversity supergroup    6903056 2024-01-27 23:11 /public/nyse_all/nyse_data/NYSE_2007.txt.gz\n",
      "-rw-r--r--   1 itversity supergroup    6480175 2024-01-27 23:11 /public/nyse_all/nyse_data/NYSE_2006.txt.gz\n",
      "-rw-r--r--   1 itversity supergroup    6207833 2024-01-27 23:11 /public/nyse_all/nyse_data/NYSE_2005.txt.gz\n",
      "-rw-r--r--   1 itversity supergroup    5689069 2024-01-27 23:11 /public/nyse_all/nyse_data/NYSE_2004.txt.gz\n",
      "-rw-r--r--   1 itversity supergroup    5271305 2024-01-27 23:11 /public/nyse_all/nyse_data/NYSE_2003.txt.gz\n",
      "-rw-r--r--   1 itversity supergroup    5021940 2024-01-27 23:11 /public/nyse_all/nyse_data/NYSE_2002.txt.gz\n",
      "-rw-r--r--   1 itversity supergroup    4722623 2024-01-27 23:11 /public/nyse_all/nyse_data/NYSE_2001.txt.gz\n",
      "-rw-r--r--   1 itversity supergroup    4439306 2024-01-27 23:11 /public/nyse_all/nyse_data/NYSE_2000.txt.gz\n",
      "-rw-r--r--   1 itversity supergroup    4297025 2024-01-27 23:11 /public/nyse_all/nyse_data/NYSE_1999.txt.gz\n",
      "-rw-r--r--   1 itversity supergroup    4142942 2024-01-27 23:11 /public/nyse_all/nyse_data/NYSE_1998.txt.gz\n",
      "-rw-r--r--   1 itversity supergroup    3842443 2024-01-27 23:11 /public/nyse_all/nyse_data/NYSE_1997.txt.gz\n",
      "-rw-r--r--   1 itversity supergroup     519586 2024-01-27 23:11 /public/nyse_all/nyse_data/NYSE_2017.txt.gz\n"
     ]
    }
   ],
   "source": [
    "%%sh \n",
    "\n",
    "hdfs dfs -ls -S /public/nyse_all/nyse_data"
   ]
  },
  {
   "cell_type": "code",
   "execution_count": 10,
   "id": "f1e7c2ae-b62c-4b3f-990c-cd32f10ac419",
   "metadata": {},
   "outputs": [
    {
     "name": "stdout",
     "output_type": "stream",
     "text": [
      "Found 21 items\n",
      "-rw-r--r--   1 itversity supergroup     519586 2024-01-27 23:11 /public/nyse_all/nyse_data/NYSE_2017.txt.gz\n",
      "-rw-r--r--   1 itversity supergroup    3842443 2024-01-27 23:11 /public/nyse_all/nyse_data/NYSE_1997.txt.gz\n",
      "-rw-r--r--   1 itversity supergroup    4142942 2024-01-27 23:11 /public/nyse_all/nyse_data/NYSE_1998.txt.gz\n",
      "-rw-r--r--   1 itversity supergroup    4297025 2024-01-27 23:11 /public/nyse_all/nyse_data/NYSE_1999.txt.gz\n",
      "-rw-r--r--   1 itversity supergroup    4439306 2024-01-27 23:11 /public/nyse_all/nyse_data/NYSE_2000.txt.gz\n",
      "-rw-r--r--   1 itversity supergroup    4722623 2024-01-27 23:11 /public/nyse_all/nyse_data/NYSE_2001.txt.gz\n",
      "-rw-r--r--   1 itversity supergroup    5021940 2024-01-27 23:11 /public/nyse_all/nyse_data/NYSE_2002.txt.gz\n",
      "-rw-r--r--   1 itversity supergroup    5271305 2024-01-27 23:11 /public/nyse_all/nyse_data/NYSE_2003.txt.gz\n",
      "-rw-r--r--   1 itversity supergroup    5689069 2024-01-27 23:11 /public/nyse_all/nyse_data/NYSE_2004.txt.gz\n",
      "-rw-r--r--   1 itversity supergroup    6207833 2024-01-27 23:11 /public/nyse_all/nyse_data/NYSE_2005.txt.gz\n",
      "-rw-r--r--   1 itversity supergroup    6480175 2024-01-27 23:11 /public/nyse_all/nyse_data/NYSE_2006.txt.gz\n",
      "-rw-r--r--   1 itversity supergroup    6903056 2024-01-27 23:11 /public/nyse_all/nyse_data/NYSE_2007.txt.gz\n",
      "-rw-r--r--   1 itversity supergroup    7179621 2024-01-27 23:11 /public/nyse_all/nyse_data/NYSE_2008.txt.gz\n",
      "-rw-r--r--   1 itversity supergroup    7186235 2024-01-27 23:11 /public/nyse_all/nyse_data/NYSE_2009.txt.gz\n",
      "-rw-r--r--   1 itversity supergroup    7551218 2024-01-27 23:11 /public/nyse_all/nyse_data/NYSE_2010.txt.gz\n",
      "-rw-r--r--   1 itversity supergroup    7980961 2024-01-27 23:11 /public/nyse_all/nyse_data/NYSE_2011.txt.gz\n",
      "-rw-r--r--   1 itversity supergroup    8538688 2024-01-27 23:11 /public/nyse_all/nyse_data/NYSE_2012.txt.gz\n",
      "-rw-r--r--   1 itversity supergroup    9588984 2024-01-27 23:11 /public/nyse_all/nyse_data/NYSE_2013.txt.gz\n",
      "-rw-r--r--   1 itversity supergroup   10552757 2024-01-27 23:11 /public/nyse_all/nyse_data/NYSE_2014.txt.gz\n",
      "-rw-r--r--   1 itversity supergroup   11327417 2024-01-27 23:11 /public/nyse_all/nyse_data/NYSE_2015.txt.gz\n",
      "-rw-r--r--   1 itversity supergroup   11796756 2024-01-27 23:11 /public/nyse_all/nyse_data/NYSE_2016.txt.gz\n"
     ]
    }
   ],
   "source": [
    "%%sh \n",
    "\n",
    "hdfs dfs -ls -S -r /public/nyse_all/nyse_data"
   ]
  },
  {
   "cell_type": "code",
   "execution_count": 12,
   "id": "336f4e63-bc0e-4e82-a271-7e373cc562a3",
   "metadata": {},
   "outputs": [
    {
     "name": "stdout",
     "output_type": "stream",
     "text": [
      "Found 21 items\n",
      "-rw-r--r--   1 itversity supergroup      3.7 M 2024-01-27 23:11 /public/nyse_all/nyse_data/NYSE_1997.txt.gz\n",
      "-rw-r--r--   1 itversity supergroup      4.0 M 2024-01-27 23:11 /public/nyse_all/nyse_data/NYSE_1998.txt.gz\n",
      "-rw-r--r--   1 itversity supergroup      4.1 M 2024-01-27 23:11 /public/nyse_all/nyse_data/NYSE_1999.txt.gz\n",
      "-rw-r--r--   1 itversity supergroup      4.2 M 2024-01-27 23:11 /public/nyse_all/nyse_data/NYSE_2000.txt.gz\n",
      "-rw-r--r--   1 itversity supergroup      4.5 M 2024-01-27 23:11 /public/nyse_all/nyse_data/NYSE_2001.txt.gz\n",
      "-rw-r--r--   1 itversity supergroup      4.8 M 2024-01-27 23:11 /public/nyse_all/nyse_data/NYSE_2002.txt.gz\n",
      "-rw-r--r--   1 itversity supergroup      5.0 M 2024-01-27 23:11 /public/nyse_all/nyse_data/NYSE_2003.txt.gz\n",
      "-rw-r--r--   1 itversity supergroup      5.4 M 2024-01-27 23:11 /public/nyse_all/nyse_data/NYSE_2004.txt.gz\n",
      "-rw-r--r--   1 itversity supergroup      5.9 M 2024-01-27 23:11 /public/nyse_all/nyse_data/NYSE_2005.txt.gz\n",
      "-rw-r--r--   1 itversity supergroup      6.2 M 2024-01-27 23:11 /public/nyse_all/nyse_data/NYSE_2006.txt.gz\n",
      "-rw-r--r--   1 itversity supergroup      6.6 M 2024-01-27 23:11 /public/nyse_all/nyse_data/NYSE_2007.txt.gz\n",
      "-rw-r--r--   1 itversity supergroup      6.8 M 2024-01-27 23:11 /public/nyse_all/nyse_data/NYSE_2008.txt.gz\n",
      "-rw-r--r--   1 itversity supergroup      6.9 M 2024-01-27 23:11 /public/nyse_all/nyse_data/NYSE_2009.txt.gz\n",
      "-rw-r--r--   1 itversity supergroup      7.2 M 2024-01-27 23:11 /public/nyse_all/nyse_data/NYSE_2010.txt.gz\n",
      "-rw-r--r--   1 itversity supergroup      7.6 M 2024-01-27 23:11 /public/nyse_all/nyse_data/NYSE_2011.txt.gz\n",
      "-rw-r--r--   1 itversity supergroup      8.1 M 2024-01-27 23:11 /public/nyse_all/nyse_data/NYSE_2012.txt.gz\n",
      "-rw-r--r--   1 itversity supergroup      9.1 M 2024-01-27 23:11 /public/nyse_all/nyse_data/NYSE_2013.txt.gz\n",
      "-rw-r--r--   1 itversity supergroup     10.1 M 2024-01-27 23:11 /public/nyse_all/nyse_data/NYSE_2014.txt.gz\n",
      "-rw-r--r--   1 itversity supergroup     10.8 M 2024-01-27 23:11 /public/nyse_all/nyse_data/NYSE_2015.txt.gz\n",
      "-rw-r--r--   1 itversity supergroup     11.3 M 2024-01-27 23:11 /public/nyse_all/nyse_data/NYSE_2016.txt.gz\n",
      "-rw-r--r--   1 itversity supergroup    507.4 K 2024-01-27 23:11 /public/nyse_all/nyse_data/NYSE_2017.txt.gz\n"
     ]
    }
   ],
   "source": [
    "%%sh\n",
    "\n",
    "hdfs dfs -ls -h /public/nyse_all/nyse_data"
   ]
  },
  {
   "cell_type": "code",
   "execution_count": 13,
   "id": "07949a51-e939-47a9-9f93-153e43f86de3",
   "metadata": {},
   "outputs": [
    {
     "name": "stdout",
     "output_type": "stream",
     "text": [
      "Found 21 items\n",
      "-rw-r--r--   1 itversity supergroup      4.8 M 2024-01-27 23:11 /public/nyse_all/nyse_data/NYSE_2002.txt.gz\n",
      "-rw-r--r--   1 itversity supergroup    507.4 K 2024-01-27 23:11 /public/nyse_all/nyse_data/NYSE_2017.txt.gz\n",
      "-rw-r--r--   1 itversity supergroup      7.2 M 2024-01-27 23:11 /public/nyse_all/nyse_data/NYSE_2010.txt.gz\n",
      "-rw-r--r--   1 itversity supergroup      4.2 M 2024-01-27 23:11 /public/nyse_all/nyse_data/NYSE_2000.txt.gz\n",
      "-rw-r--r--   1 itversity supergroup      4.1 M 2024-01-27 23:11 /public/nyse_all/nyse_data/NYSE_1999.txt.gz\n",
      "-rw-r--r--   1 itversity supergroup      6.8 M 2024-01-27 23:11 /public/nyse_all/nyse_data/NYSE_2008.txt.gz\n",
      "-rw-r--r--   1 itversity supergroup      4.5 M 2024-01-27 23:11 /public/nyse_all/nyse_data/NYSE_2001.txt.gz\n",
      "-rw-r--r--   1 itversity supergroup      3.7 M 2024-01-27 23:11 /public/nyse_all/nyse_data/NYSE_1997.txt.gz\n",
      "-rw-r--r--   1 itversity supergroup     11.3 M 2024-01-27 23:11 /public/nyse_all/nyse_data/NYSE_2016.txt.gz\n",
      "-rw-r--r--   1 itversity supergroup      6.6 M 2024-01-27 23:11 /public/nyse_all/nyse_data/NYSE_2007.txt.gz\n",
      "-rw-r--r--   1 itversity supergroup     10.8 M 2024-01-27 23:11 /public/nyse_all/nyse_data/NYSE_2015.txt.gz\n",
      "-rw-r--r--   1 itversity supergroup      6.2 M 2024-01-27 23:11 /public/nyse_all/nyse_data/NYSE_2006.txt.gz\n",
      "-rw-r--r--   1 itversity supergroup      8.1 M 2024-01-27 23:11 /public/nyse_all/nyse_data/NYSE_2012.txt.gz\n",
      "-rw-r--r--   1 itversity supergroup      5.9 M 2024-01-27 23:11 /public/nyse_all/nyse_data/NYSE_2005.txt.gz\n",
      "-rw-r--r--   1 itversity supergroup     10.1 M 2024-01-27 23:11 /public/nyse_all/nyse_data/NYSE_2014.txt.gz\n",
      "-rw-r--r--   1 itversity supergroup      5.0 M 2024-01-27 23:11 /public/nyse_all/nyse_data/NYSE_2003.txt.gz\n",
      "-rw-r--r--   1 itversity supergroup      4.0 M 2024-01-27 23:11 /public/nyse_all/nyse_data/NYSE_1998.txt.gz\n",
      "-rw-r--r--   1 itversity supergroup      6.9 M 2024-01-27 23:11 /public/nyse_all/nyse_data/NYSE_2009.txt.gz\n",
      "-rw-r--r--   1 itversity supergroup      7.6 M 2024-01-27 23:11 /public/nyse_all/nyse_data/NYSE_2011.txt.gz\n",
      "-rw-r--r--   1 itversity supergroup      9.1 M 2024-01-27 23:11 /public/nyse_all/nyse_data/NYSE_2013.txt.gz\n",
      "-rw-r--r--   1 itversity supergroup      5.4 M 2024-01-27 23:11 /public/nyse_all/nyse_data/NYSE_2004.txt.gz\n"
     ]
    }
   ],
   "source": [
    "%%sh\n",
    "\n",
    "hdfs dfs -ls -h -t /public/nyse_all/nyse_data"
   ]
  },
  {
   "cell_type": "code",
   "execution_count": 14,
   "id": "cb8b0401-2d57-40ba-89e9-2a3a59ac27f8",
   "metadata": {},
   "outputs": [
    {
     "name": "stdout",
     "output_type": "stream",
     "text": [
      "Found 21 items\n",
      "-rw-r--r--   1 itversity supergroup    507.4 K 2024-01-27 23:11 /public/nyse_all/nyse_data/NYSE_2017.txt.gz\n",
      "-rw-r--r--   1 itversity supergroup      3.7 M 2024-01-27 23:11 /public/nyse_all/nyse_data/NYSE_1997.txt.gz\n",
      "-rw-r--r--   1 itversity supergroup      4.0 M 2024-01-27 23:11 /public/nyse_all/nyse_data/NYSE_1998.txt.gz\n",
      "-rw-r--r--   1 itversity supergroup      4.1 M 2024-01-27 23:11 /public/nyse_all/nyse_data/NYSE_1999.txt.gz\n",
      "-rw-r--r--   1 itversity supergroup      4.2 M 2024-01-27 23:11 /public/nyse_all/nyse_data/NYSE_2000.txt.gz\n",
      "-rw-r--r--   1 itversity supergroup      4.5 M 2024-01-27 23:11 /public/nyse_all/nyse_data/NYSE_2001.txt.gz\n",
      "-rw-r--r--   1 itversity supergroup      4.8 M 2024-01-27 23:11 /public/nyse_all/nyse_data/NYSE_2002.txt.gz\n",
      "-rw-r--r--   1 itversity supergroup      5.0 M 2024-01-27 23:11 /public/nyse_all/nyse_data/NYSE_2003.txt.gz\n",
      "-rw-r--r--   1 itversity supergroup      5.4 M 2024-01-27 23:11 /public/nyse_all/nyse_data/NYSE_2004.txt.gz\n",
      "-rw-r--r--   1 itversity supergroup      5.9 M 2024-01-27 23:11 /public/nyse_all/nyse_data/NYSE_2005.txt.gz\n",
      "-rw-r--r--   1 itversity supergroup      6.2 M 2024-01-27 23:11 /public/nyse_all/nyse_data/NYSE_2006.txt.gz\n",
      "-rw-r--r--   1 itversity supergroup      6.6 M 2024-01-27 23:11 /public/nyse_all/nyse_data/NYSE_2007.txt.gz\n",
      "-rw-r--r--   1 itversity supergroup      6.8 M 2024-01-27 23:11 /public/nyse_all/nyse_data/NYSE_2008.txt.gz\n",
      "-rw-r--r--   1 itversity supergroup      6.9 M 2024-01-27 23:11 /public/nyse_all/nyse_data/NYSE_2009.txt.gz\n",
      "-rw-r--r--   1 itversity supergroup      7.2 M 2024-01-27 23:11 /public/nyse_all/nyse_data/NYSE_2010.txt.gz\n",
      "-rw-r--r--   1 itversity supergroup      7.6 M 2024-01-27 23:11 /public/nyse_all/nyse_data/NYSE_2011.txt.gz\n",
      "-rw-r--r--   1 itversity supergroup      8.1 M 2024-01-27 23:11 /public/nyse_all/nyse_data/NYSE_2012.txt.gz\n",
      "-rw-r--r--   1 itversity supergroup      9.1 M 2024-01-27 23:11 /public/nyse_all/nyse_data/NYSE_2013.txt.gz\n",
      "-rw-r--r--   1 itversity supergroup     10.1 M 2024-01-27 23:11 /public/nyse_all/nyse_data/NYSE_2014.txt.gz\n",
      "-rw-r--r--   1 itversity supergroup     10.8 M 2024-01-27 23:11 /public/nyse_all/nyse_data/NYSE_2015.txt.gz\n",
      "-rw-r--r--   1 itversity supergroup     11.3 M 2024-01-27 23:11 /public/nyse_all/nyse_data/NYSE_2016.txt.gz\n"
     ]
    }
   ],
   "source": [
    "%%sh\n",
    "\n",
    "hdfs dfs -ls -h -S -r /public/nyse_all/nyse_data"
   ]
  },
  {
   "cell_type": "code",
   "execution_count": null,
   "id": "e3cfeaa0-0e3f-4513-92a3-442cd162fc1a",
   "metadata": {},
   "outputs": [],
   "source": []
  }
 ],
 "metadata": {
  "kernelspec": {
   "display_name": "Python 3",
   "language": "python",
   "name": "python3"
  },
  "language_info": {
   "codemirror_mode": {
    "name": "ipython",
    "version": 3
   },
   "file_extension": ".py",
   "mimetype": "text/x-python",
   "name": "python",
   "nbconvert_exporter": "python",
   "pygments_lexer": "ipython3",
   "version": "3.6.9"
  }
 },
 "nbformat": 4,
 "nbformat_minor": 5
}
