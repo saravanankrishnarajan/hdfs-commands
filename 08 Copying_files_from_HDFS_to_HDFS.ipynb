{
 "cells": [
  {
   "cell_type": "markdown",
   "id": "09a5ad78-a036-4e30-b0fe-483aec14eeef",
   "metadata": {},
   "source": [
    "### Copying files from HDFS to HDFS"
   ]
  },
  {
   "cell_type": "markdown",
   "id": "72c7b5bc-1743-4525-a951-a14dec178f37",
   "metadata": {},
   "source": [
    "* hdfs dfs -cp command to copy files with in HDFS."
   ]
  },
  {
   "cell_type": "code",
   "execution_count": 2,
   "id": "44fe6cc1-8d3f-472c-b3ee-d6b006008e67",
   "metadata": {},
   "outputs": [
    {
     "name": "stdout",
     "output_type": "stream",
     "text": [
      "Deleted /user/itversity/retail_db\n"
     ]
    }
   ],
   "source": [
    "%%sh\n",
    "\n",
    "hdfs dfs -rm -R -skipTrash /user/`whoami`/retail_db"
   ]
  },
  {
   "cell_type": "code",
   "execution_count": 3,
   "id": "74524278-fe53-4d18-87f9-e1dbafcb6aff",
   "metadata": {},
   "outputs": [],
   "source": [
    "!hdfs dfs -put /data/retail_db /public"
   ]
  },
  {
   "cell_type": "code",
   "execution_count": 4,
   "id": "66dee7cc-2013-4ddd-901e-c3119f5fb46c",
   "metadata": {},
   "outputs": [
    {
     "name": "stdout",
     "output_type": "stream",
     "text": [
      "Found 9 items\n",
      "drwxr-xr-x   - itversity supergroup          0 2024-01-28 16:56 /public/retail_db/categories\n",
      "-rw-r--r--   1 itversity supergroup   10303297 2024-01-28 16:56 /public/retail_db/create_db.sql\n",
      "-rw-r--r--   1 itversity supergroup       1748 2024-01-28 16:56 /public/retail_db/create_db_tables_pg.sql\n",
      "drwxr-xr-x   - itversity supergroup          0 2024-01-28 16:56 /public/retail_db/customers\n",
      "drwxr-xr-x   - itversity supergroup          0 2024-01-28 16:56 /public/retail_db/departments\n",
      "-rw-r--r--   1 itversity supergroup   10297372 2024-01-28 16:56 /public/retail_db/load_db_tables_pg.sql\n",
      "drwxr-xr-x   - itversity supergroup          0 2024-01-28 16:56 /public/retail_db/order_items\n",
      "drwxr-xr-x   - itversity supergroup          0 2024-01-28 16:56 /public/retail_db/orders\n",
      "drwxr-xr-x   - itversity supergroup          0 2024-01-28 16:56 /public/retail_db/products\n"
     ]
    }
   ],
   "source": [
    "%%sh\n",
    "\n",
    "hdfs dfs -ls /public/retail_db"
   ]
  },
  {
   "cell_type": "code",
   "execution_count": 5,
   "id": "962a2d37-17be-4ed3-bdf1-e2d8dd59fd21",
   "metadata": {},
   "outputs": [],
   "source": [
    "%%sh\n",
    "\n",
    "hdfs dfs -ls /user/`whoami`"
   ]
  },
  {
   "cell_type": "code",
   "execution_count": 6,
   "id": "b111f00f-3d33-40ef-afb8-748e057c9440",
   "metadata": {},
   "outputs": [
    {
     "name": "stdout",
     "output_type": "stream",
     "text": [
      "-cp [-f] [-p | -p[topax]] [-d] <src> ... <dst> :\n",
      "  Copy files that match the file pattern <src> to a destination.  When copying\n",
      "  multiple files, the destination must be a directory. Passing -p preserves status\n",
      "  [topax] (timestamps, ownership, permission, ACLs, XAttr). If -p is specified\n",
      "  with no <arg>, then preserves timestamps, ownership, permission. If -pa is\n",
      "  specified, then preserves permission also because ACL is a super-set of\n",
      "  permission. Passing -f overwrites the destination if it already exists. raw\n",
      "  namespace extended attributes are preserved if (1) they are supported (HDFS\n",
      "  only) and, (2) all of the source and target pathnames are in the /.reserved/raw\n",
      "  hierarchy. raw namespace xattr preservation is determined solely by the presence\n",
      "  (or absence) of the /.reserved/raw prefix and not by the -p option. Passing -d\n",
      "  will skip creation of temporary file(<dst>._COPYING_).\n"
     ]
    }
   ],
   "source": [
    "%%sh\n",
    "\n",
    "hdfs dfs -help cp"
   ]
  },
  {
   "cell_type": "code",
   "execution_count": 7,
   "id": "83e96854-d4a0-4d41-a99e-bd17f2d2ec0f",
   "metadata": {},
   "outputs": [],
   "source": [
    "%%sh\n",
    "\n",
    "hdfs dfs -mkdir /user/`whoami`/retail_db"
   ]
  },
  {
   "cell_type": "code",
   "execution_count": 9,
   "id": "c5995e61-ff5c-4e71-8436-3423a00606a0",
   "metadata": {},
   "outputs": [
    {
     "name": "stdout",
     "output_type": "stream",
     "text": [
      "Found 1 items\n",
      "drwxr-xr-x   - itversity supergroup          0 2024-01-28 18:39 /user/itversity/retail_db\n"
     ]
    }
   ],
   "source": [
    "%%sh\n",
    "\n",
    "hdfs dfs -ls /user/`whoami`"
   ]
  },
  {
   "cell_type": "code",
   "execution_count": 10,
   "id": "ec247504-7350-426a-93aa-17c19ec21d72",
   "metadata": {},
   "outputs": [],
   "source": [
    "%%sh\n",
    "\n",
    "hdfs dfs -cp /public/retail_db/* /user/`whoami`/retail_db"
   ]
  },
  {
   "cell_type": "code",
   "execution_count": 11,
   "id": "6124c3a1-0316-447b-b11c-9f6cd390b774",
   "metadata": {},
   "outputs": [
    {
     "name": "stdout",
     "output_type": "stream",
     "text": [
      "Found 9 items\n",
      "drwxr-xr-x   - itversity supergroup          0 2024-01-28 18:41 /user/itversity/retail_db/categories\n",
      "-rw-r--r--   1 itversity supergroup   10303297 2024-01-28 18:41 /user/itversity/retail_db/create_db.sql\n",
      "-rw-r--r--   1 itversity supergroup       1748 2024-01-28 18:41 /user/itversity/retail_db/create_db_tables_pg.sql\n",
      "drwxr-xr-x   - itversity supergroup          0 2024-01-28 18:41 /user/itversity/retail_db/customers\n",
      "drwxr-xr-x   - itversity supergroup          0 2024-01-28 18:41 /user/itversity/retail_db/departments\n",
      "-rw-r--r--   1 itversity supergroup   10297372 2024-01-28 18:41 /user/itversity/retail_db/load_db_tables_pg.sql\n",
      "drwxr-xr-x   - itversity supergroup          0 2024-01-28 18:41 /user/itversity/retail_db/order_items\n",
      "drwxr-xr-x   - itversity supergroup          0 2024-01-28 18:41 /user/itversity/retail_db/orders\n",
      "drwxr-xr-x   - itversity supergroup          0 2024-01-28 18:41 /user/itversity/retail_db/products\n"
     ]
    }
   ],
   "source": [
    "%%sh\n",
    "\n",
    "hdfs dfs -ls /user/`whoami`/retail_db"
   ]
  },
  {
   "cell_type": "code",
   "execution_count": 12,
   "id": "ef7ea5a2-e348-4473-b793-35d47bc6f753",
   "metadata": {},
   "outputs": [
    {
     "name": "stderr",
     "output_type": "stream",
     "text": [
      "cp: `/user/itversity/retail_db/categories/part-00000': File exists\n",
      "cp: `/user/itversity/retail_db/create_db.sql': File exists\n",
      "cp: `/user/itversity/retail_db/create_db_tables_pg.sql': File exists\n",
      "cp: `/user/itversity/retail_db/customers/part-00000': File exists\n",
      "cp: `/user/itversity/retail_db/departments/part-00000': File exists\n",
      "cp: `/user/itversity/retail_db/load_db_tables_pg.sql': File exists\n",
      "cp: `/user/itversity/retail_db/order_items/part-00000': File exists\n",
      "cp: `/user/itversity/retail_db/orders/part-00000': File exists\n",
      "cp: `/user/itversity/retail_db/products/part-00000': File exists\n"
     ]
    },
    {
     "ename": "CalledProcessError",
     "evalue": "Command 'b'\\nhdfs dfs -cp /public/retail_db /user/`whoami`\\n'' returned non-zero exit status 1.",
     "output_type": "error",
     "traceback": [
      "\u001b[0;31m---------------------------------------------------------------------------\u001b[0m",
      "\u001b[0;31mCalledProcessError\u001b[0m                        Traceback (most recent call last)",
      "\u001b[0;32m<ipython-input-12-a41fddd14079>\u001b[0m in \u001b[0;36m<module>\u001b[0;34m\u001b[0m\n\u001b[0;32m----> 1\u001b[0;31m \u001b[0mget_ipython\u001b[0m\u001b[0;34m(\u001b[0m\u001b[0;34m)\u001b[0m\u001b[0;34m.\u001b[0m\u001b[0mrun_cell_magic\u001b[0m\u001b[0;34m(\u001b[0m\u001b[0;34m'sh'\u001b[0m\u001b[0;34m,\u001b[0m \u001b[0;34m''\u001b[0m\u001b[0;34m,\u001b[0m \u001b[0;34m'\\nhdfs dfs -cp /public/retail_db /user/`whoami`\\n'\u001b[0m\u001b[0;34m)\u001b[0m\u001b[0;34m\u001b[0m\u001b[0;34m\u001b[0m\u001b[0m\n\u001b[0m",
      "\u001b[0;32m~/.local/lib/python3.6/site-packages/IPython/core/interactiveshell.py\u001b[0m in \u001b[0;36mrun_cell_magic\u001b[0;34m(self, magic_name, line, cell)\u001b[0m\n\u001b[1;32m   2369\u001b[0m             \u001b[0;32mwith\u001b[0m \u001b[0mself\u001b[0m\u001b[0;34m.\u001b[0m\u001b[0mbuiltin_trap\u001b[0m\u001b[0;34m:\u001b[0m\u001b[0;34m\u001b[0m\u001b[0;34m\u001b[0m\u001b[0m\n\u001b[1;32m   2370\u001b[0m                 \u001b[0margs\u001b[0m \u001b[0;34m=\u001b[0m \u001b[0;34m(\u001b[0m\u001b[0mmagic_arg_s\u001b[0m\u001b[0;34m,\u001b[0m \u001b[0mcell\u001b[0m\u001b[0;34m)\u001b[0m\u001b[0;34m\u001b[0m\u001b[0;34m\u001b[0m\u001b[0m\n\u001b[0;32m-> 2371\u001b[0;31m                 \u001b[0mresult\u001b[0m \u001b[0;34m=\u001b[0m \u001b[0mfn\u001b[0m\u001b[0;34m(\u001b[0m\u001b[0;34m*\u001b[0m\u001b[0margs\u001b[0m\u001b[0;34m,\u001b[0m \u001b[0;34m**\u001b[0m\u001b[0mkwargs\u001b[0m\u001b[0;34m)\u001b[0m\u001b[0;34m\u001b[0m\u001b[0;34m\u001b[0m\u001b[0m\n\u001b[0m\u001b[1;32m   2372\u001b[0m             \u001b[0;32mreturn\u001b[0m \u001b[0mresult\u001b[0m\u001b[0;34m\u001b[0m\u001b[0;34m\u001b[0m\u001b[0m\n\u001b[1;32m   2373\u001b[0m \u001b[0;34m\u001b[0m\u001b[0m\n",
      "\u001b[0;32m~/.local/lib/python3.6/site-packages/IPython/core/magics/script.py\u001b[0m in \u001b[0;36mnamed_script_magic\u001b[0;34m(line, cell)\u001b[0m\n\u001b[1;32m    140\u001b[0m             \u001b[0;32melse\u001b[0m\u001b[0;34m:\u001b[0m\u001b[0;34m\u001b[0m\u001b[0;34m\u001b[0m\u001b[0m\n\u001b[1;32m    141\u001b[0m                 \u001b[0mline\u001b[0m \u001b[0;34m=\u001b[0m \u001b[0mscript\u001b[0m\u001b[0;34m\u001b[0m\u001b[0;34m\u001b[0m\u001b[0m\n\u001b[0;32m--> 142\u001b[0;31m             \u001b[0;32mreturn\u001b[0m \u001b[0mself\u001b[0m\u001b[0;34m.\u001b[0m\u001b[0mshebang\u001b[0m\u001b[0;34m(\u001b[0m\u001b[0mline\u001b[0m\u001b[0;34m,\u001b[0m \u001b[0mcell\u001b[0m\u001b[0;34m)\u001b[0m\u001b[0;34m\u001b[0m\u001b[0;34m\u001b[0m\u001b[0m\n\u001b[0m\u001b[1;32m    143\u001b[0m \u001b[0;34m\u001b[0m\u001b[0m\n\u001b[1;32m    144\u001b[0m         \u001b[0;31m# write a basic docstring:\u001b[0m\u001b[0;34m\u001b[0m\u001b[0;34m\u001b[0m\u001b[0;34m\u001b[0m\u001b[0m\n",
      "\u001b[0;32m~/.local/lib/python3.6/site-packages/decorator.py\u001b[0m in \u001b[0;36mfun\u001b[0;34m(*args, **kw)\u001b[0m\n\u001b[1;32m    230\u001b[0m             \u001b[0;32mif\u001b[0m \u001b[0;32mnot\u001b[0m \u001b[0mkwsyntax\u001b[0m\u001b[0;34m:\u001b[0m\u001b[0;34m\u001b[0m\u001b[0;34m\u001b[0m\u001b[0m\n\u001b[1;32m    231\u001b[0m                 \u001b[0margs\u001b[0m\u001b[0;34m,\u001b[0m \u001b[0mkw\u001b[0m \u001b[0;34m=\u001b[0m \u001b[0mfix\u001b[0m\u001b[0;34m(\u001b[0m\u001b[0margs\u001b[0m\u001b[0;34m,\u001b[0m \u001b[0mkw\u001b[0m\u001b[0;34m,\u001b[0m \u001b[0msig\u001b[0m\u001b[0;34m)\u001b[0m\u001b[0;34m\u001b[0m\u001b[0;34m\u001b[0m\u001b[0m\n\u001b[0;32m--> 232\u001b[0;31m             \u001b[0;32mreturn\u001b[0m \u001b[0mcaller\u001b[0m\u001b[0;34m(\u001b[0m\u001b[0mfunc\u001b[0m\u001b[0;34m,\u001b[0m \u001b[0;34m*\u001b[0m\u001b[0;34m(\u001b[0m\u001b[0mextras\u001b[0m \u001b[0;34m+\u001b[0m \u001b[0margs\u001b[0m\u001b[0;34m)\u001b[0m\u001b[0;34m,\u001b[0m \u001b[0;34m**\u001b[0m\u001b[0mkw\u001b[0m\u001b[0;34m)\u001b[0m\u001b[0;34m\u001b[0m\u001b[0;34m\u001b[0m\u001b[0m\n\u001b[0m\u001b[1;32m    233\u001b[0m     \u001b[0mfun\u001b[0m\u001b[0;34m.\u001b[0m\u001b[0m__name__\u001b[0m \u001b[0;34m=\u001b[0m \u001b[0mfunc\u001b[0m\u001b[0;34m.\u001b[0m\u001b[0m__name__\u001b[0m\u001b[0;34m\u001b[0m\u001b[0;34m\u001b[0m\u001b[0m\n\u001b[1;32m    234\u001b[0m     \u001b[0mfun\u001b[0m\u001b[0;34m.\u001b[0m\u001b[0m__doc__\u001b[0m \u001b[0;34m=\u001b[0m \u001b[0mfunc\u001b[0m\u001b[0;34m.\u001b[0m\u001b[0m__doc__\u001b[0m\u001b[0;34m\u001b[0m\u001b[0;34m\u001b[0m\u001b[0m\n",
      "\u001b[0;32m~/.local/lib/python3.6/site-packages/IPython/core/magic.py\u001b[0m in \u001b[0;36m<lambda>\u001b[0;34m(f, *a, **k)\u001b[0m\n\u001b[1;32m    185\u001b[0m     \u001b[0;31m# but it's overkill for just that one bit of state.\u001b[0m\u001b[0;34m\u001b[0m\u001b[0;34m\u001b[0m\u001b[0;34m\u001b[0m\u001b[0m\n\u001b[1;32m    186\u001b[0m     \u001b[0;32mdef\u001b[0m \u001b[0mmagic_deco\u001b[0m\u001b[0;34m(\u001b[0m\u001b[0marg\u001b[0m\u001b[0;34m)\u001b[0m\u001b[0;34m:\u001b[0m\u001b[0;34m\u001b[0m\u001b[0;34m\u001b[0m\u001b[0m\n\u001b[0;32m--> 187\u001b[0;31m         \u001b[0mcall\u001b[0m \u001b[0;34m=\u001b[0m \u001b[0;32mlambda\u001b[0m \u001b[0mf\u001b[0m\u001b[0;34m,\u001b[0m \u001b[0;34m*\u001b[0m\u001b[0ma\u001b[0m\u001b[0;34m,\u001b[0m \u001b[0;34m**\u001b[0m\u001b[0mk\u001b[0m\u001b[0;34m:\u001b[0m \u001b[0mf\u001b[0m\u001b[0;34m(\u001b[0m\u001b[0;34m*\u001b[0m\u001b[0ma\u001b[0m\u001b[0;34m,\u001b[0m \u001b[0;34m**\u001b[0m\u001b[0mk\u001b[0m\u001b[0;34m)\u001b[0m\u001b[0;34m\u001b[0m\u001b[0;34m\u001b[0m\u001b[0m\n\u001b[0m\u001b[1;32m    188\u001b[0m \u001b[0;34m\u001b[0m\u001b[0m\n\u001b[1;32m    189\u001b[0m         \u001b[0;32mif\u001b[0m \u001b[0mcallable\u001b[0m\u001b[0;34m(\u001b[0m\u001b[0marg\u001b[0m\u001b[0;34m)\u001b[0m\u001b[0;34m:\u001b[0m\u001b[0;34m\u001b[0m\u001b[0;34m\u001b[0m\u001b[0m\n",
      "\u001b[0;32m~/.local/lib/python3.6/site-packages/IPython/core/magics/script.py\u001b[0m in \u001b[0;36mshebang\u001b[0;34m(self, line, cell)\u001b[0m\n\u001b[1;32m    243\u001b[0m             \u001b[0msys\u001b[0m\u001b[0;34m.\u001b[0m\u001b[0mstderr\u001b[0m\u001b[0;34m.\u001b[0m\u001b[0mflush\u001b[0m\u001b[0;34m(\u001b[0m\u001b[0;34m)\u001b[0m\u001b[0;34m\u001b[0m\u001b[0;34m\u001b[0m\u001b[0m\n\u001b[1;32m    244\u001b[0m         \u001b[0;32mif\u001b[0m \u001b[0margs\u001b[0m\u001b[0;34m.\u001b[0m\u001b[0mraise_error\u001b[0m \u001b[0;32mand\u001b[0m \u001b[0mp\u001b[0m\u001b[0;34m.\u001b[0m\u001b[0mreturncode\u001b[0m\u001b[0;34m!=\u001b[0m\u001b[0;36m0\u001b[0m\u001b[0;34m:\u001b[0m\u001b[0;34m\u001b[0m\u001b[0;34m\u001b[0m\u001b[0m\n\u001b[0;32m--> 245\u001b[0;31m             \u001b[0;32mraise\u001b[0m \u001b[0mCalledProcessError\u001b[0m\u001b[0;34m(\u001b[0m\u001b[0mp\u001b[0m\u001b[0;34m.\u001b[0m\u001b[0mreturncode\u001b[0m\u001b[0;34m,\u001b[0m \u001b[0mcell\u001b[0m\u001b[0;34m,\u001b[0m \u001b[0moutput\u001b[0m\u001b[0;34m=\u001b[0m\u001b[0mout\u001b[0m\u001b[0;34m,\u001b[0m \u001b[0mstderr\u001b[0m\u001b[0;34m=\u001b[0m\u001b[0merr\u001b[0m\u001b[0;34m)\u001b[0m\u001b[0;34m\u001b[0m\u001b[0;34m\u001b[0m\u001b[0m\n\u001b[0m\u001b[1;32m    246\u001b[0m \u001b[0;34m\u001b[0m\u001b[0m\n\u001b[1;32m    247\u001b[0m     \u001b[0;32mdef\u001b[0m \u001b[0m_run_script\u001b[0m\u001b[0;34m(\u001b[0m\u001b[0mself\u001b[0m\u001b[0;34m,\u001b[0m \u001b[0mp\u001b[0m\u001b[0;34m,\u001b[0m \u001b[0mcell\u001b[0m\u001b[0;34m,\u001b[0m \u001b[0mto_close\u001b[0m\u001b[0;34m)\u001b[0m\u001b[0;34m:\u001b[0m\u001b[0;34m\u001b[0m\u001b[0;34m\u001b[0m\u001b[0m\n",
      "\u001b[0;31mCalledProcessError\u001b[0m: Command 'b'\\nhdfs dfs -cp /public/retail_db /user/`whoami`\\n'' returned non-zero exit status 1."
     ]
    }
   ],
   "source": [
    "%%sh\n",
    "\n",
    "hdfs dfs -cp /public/retail_db /user/`whoami`"
   ]
  },
  {
   "cell_type": "code",
   "execution_count": 13,
   "id": "8910511a-51d2-41cc-905a-e37a90358794",
   "metadata": {},
   "outputs": [
    {
     "name": "stdout",
     "output_type": "stream",
     "text": [
      "Deleted /user/itversity/retail_db\n"
     ]
    }
   ],
   "source": [
    "%%sh\n",
    "\n",
    "hdfs dfs -rm -R -skipTrash /user/`whoami`/retail_db"
   ]
  },
  {
   "cell_type": "code",
   "execution_count": 14,
   "id": "f792687e-b892-4431-9e76-4f620c024e22",
   "metadata": {},
   "outputs": [],
   "source": [
    "%%sh\n",
    "\n",
    "hdfs dfs -ls /user/`whoami`"
   ]
  },
  {
   "cell_type": "code",
   "execution_count": 15,
   "id": "aaf34443-d378-4824-a8f3-e2f06c3b5359",
   "metadata": {},
   "outputs": [],
   "source": [
    "%%sh\n",
    "\n",
    "hdfs dfs -cp /public/retail_db /user/`whoami`"
   ]
  },
  {
   "cell_type": "code",
   "execution_count": 16,
   "id": "87dd856b-9000-47b6-95a6-8f869b132dec",
   "metadata": {},
   "outputs": [
    {
     "name": "stdout",
     "output_type": "stream",
     "text": [
      "drwxr-xr-x   - itversity supergroup          0 2024-01-28 18:55 /user/itversity/retail_db/categories\n",
      "-rw-r--r--   1 itversity supergroup       1029 2024-01-28 18:55 /user/itversity/retail_db/categories/part-00000\n",
      "-rw-r--r--   1 itversity supergroup   10303297 2024-01-28 18:55 /user/itversity/retail_db/create_db.sql\n",
      "-rw-r--r--   1 itversity supergroup       1748 2024-01-28 18:55 /user/itversity/retail_db/create_db_tables_pg.sql\n",
      "drwxr-xr-x   - itversity supergroup          0 2024-01-28 18:55 /user/itversity/retail_db/customers\n",
      "-rw-r--r--   1 itversity supergroup     953719 2024-01-28 18:55 /user/itversity/retail_db/customers/part-00000\n",
      "drwxr-xr-x   - itversity supergroup          0 2024-01-28 18:55 /user/itversity/retail_db/departments\n",
      "-rw-r--r--   1 itversity supergroup         60 2024-01-28 18:55 /user/itversity/retail_db/departments/part-00000\n",
      "-rw-r--r--   1 itversity supergroup   10297372 2024-01-28 18:55 /user/itversity/retail_db/load_db_tables_pg.sql\n",
      "drwxr-xr-x   - itversity supergroup          0 2024-01-28 18:55 /user/itversity/retail_db/order_items\n",
      "-rw-r--r--   1 itversity supergroup    5408880 2024-01-28 18:55 /user/itversity/retail_db/order_items/part-00000\n",
      "drwxr-xr-x   - itversity supergroup          0 2024-01-28 18:55 /user/itversity/retail_db/orders\n",
      "-rw-r--r--   1 itversity supergroup    2999944 2024-01-28 18:55 /user/itversity/retail_db/orders/part-00000\n",
      "drwxr-xr-x   - itversity supergroup          0 2024-01-28 18:55 /user/itversity/retail_db/products\n",
      "-rw-r--r--   1 itversity supergroup     174155 2024-01-28 18:55 /user/itversity/retail_db/products/part-00000\n"
     ]
    }
   ],
   "source": [
    "%%sh\n",
    "\n",
    "hdfs dfs -ls -R /user/`whoami`/retail_db"
   ]
  },
  {
   "cell_type": "code",
   "execution_count": 17,
   "id": "7543d0a8-f40b-4eec-87f5-7f4106ec3dd3",
   "metadata": {},
   "outputs": [
    {
     "name": "stdout",
     "output_type": "stream",
     "text": [
      "Deleted /user/itversity/retail_db\n"
     ]
    }
   ],
   "source": [
    "%%sh\n",
    "\n",
    "hdfs dfs -rm -R -skipTrash /user/`whoami`/retail_db"
   ]
  },
  {
   "cell_type": "code",
   "execution_count": 18,
   "id": "709ac250-738f-4b53-aedf-6532073d2d3c",
   "metadata": {},
   "outputs": [],
   "source": [
    "%%sh\n",
    "\n",
    "hdfs dfs -ls /user/`whoami`"
   ]
  },
  {
   "cell_type": "code",
   "execution_count": 20,
   "id": "16d93b1f-e7bc-444b-bf68-348457e392cd",
   "metadata": {},
   "outputs": [],
   "source": [
    "%%sh\n",
    "\n",
    "hdfs dfs -mkdir /user/`whoami`/retail_db"
   ]
  },
  {
   "cell_type": "code",
   "execution_count": 21,
   "id": "c552a14e-2069-4a0e-8e0f-fb2f59a45676",
   "metadata": {},
   "outputs": [],
   "source": [
    "%%sh\n",
    "\n",
    "hdfs dfs -cp /public/retail_db/order* /user/`whoami`/retail_db"
   ]
  },
  {
   "cell_type": "code",
   "execution_count": 22,
   "id": "0a0ac82e-2dec-455a-98f9-675805813505",
   "metadata": {},
   "outputs": [
    {
     "name": "stdout",
     "output_type": "stream",
     "text": [
      "Found 2 items\n",
      "drwxr-xr-x   - itversity supergroup          0 2024-01-28 18:57 /user/itversity/retail_db/order_items\n",
      "drwxr-xr-x   - itversity supergroup          0 2024-01-28 18:57 /user/itversity/retail_db/orders\n"
     ]
    }
   ],
   "source": [
    "%%sh \n",
    "\n",
    "hdfs dfs -ls /user/`whoami`/retail_db"
   ]
  },
  {
   "cell_type": "code",
   "execution_count": 23,
   "id": "32b8a406-66c9-4b1e-afc5-564e1a297618",
   "metadata": {},
   "outputs": [],
   "source": [
    "%%sh\n",
    "\n",
    "hdfs dfs -cp /public/retail_db/departments /public/retail_db/customers /user/`whoami`/retail_db"
   ]
  },
  {
   "cell_type": "code",
   "execution_count": 24,
   "id": "dfffa0ce-905e-4254-8c27-f14bf6862aab",
   "metadata": {},
   "outputs": [],
   "source": [
    "%%sh\n",
    "\n",
    "hdfs dfs -cp /public/retail_db/categories /public/retail_db/products /user/`whoami`/retail_db"
   ]
  },
  {
   "cell_type": "code",
   "execution_count": 25,
   "id": "9e0162e8-7ff9-4965-9f4a-14466c7689c0",
   "metadata": {},
   "outputs": [
    {
     "name": "stdout",
     "output_type": "stream",
     "text": [
      "Found 6 items\n",
      "drwxr-xr-x   - itversity supergroup          0 2024-01-28 19:00 /user/itversity/retail_db/categories\n",
      "drwxr-xr-x   - itversity supergroup          0 2024-01-28 18:59 /user/itversity/retail_db/customers\n",
      "drwxr-xr-x   - itversity supergroup          0 2024-01-28 18:59 /user/itversity/retail_db/departments\n",
      "drwxr-xr-x   - itversity supergroup          0 2024-01-28 18:57 /user/itversity/retail_db/order_items\n",
      "drwxr-xr-x   - itversity supergroup          0 2024-01-28 18:57 /user/itversity/retail_db/orders\n",
      "drwxr-xr-x   - itversity supergroup          0 2024-01-28 19:00 /user/itversity/retail_db/products\n"
     ]
    }
   ],
   "source": [
    "%%sh\n",
    "\n",
    "hdfs dfs -ls /user/`whoami`/retail_db"
   ]
  },
  {
   "cell_type": "code",
   "execution_count": null,
   "id": "1aa7e182-d073-484b-b587-13bad64c1c8e",
   "metadata": {},
   "outputs": [],
   "source": []
  }
 ],
 "metadata": {
  "kernelspec": {
   "display_name": "Python 3",
   "language": "python",
   "name": "python3"
  },
  "language_info": {
   "codemirror_mode": {
    "name": "ipython",
    "version": 3
   },
   "file_extension": ".py",
   "mimetype": "text/x-python",
   "name": "python",
   "nbconvert_exporter": "python",
   "pygments_lexer": "ipython3",
   "version": "3.6.9"
  }
 },
 "nbformat": 4,
 "nbformat_minor": 5
}
