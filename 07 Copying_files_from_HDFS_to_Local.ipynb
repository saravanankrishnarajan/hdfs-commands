{
 "cells": [
  {
   "cell_type": "markdown",
   "id": "38dc0743-d5ab-4777-b3db-64afde22990c",
   "metadata": {},
   "source": [
    "### Copying files from HDFS to Local"
   ]
  },
  {
   "cell_type": "markdown",
   "id": "aa8d389e-cfbd-425e-b47a-fa6839c29df3",
   "metadata": {},
   "source": [
    "* hdfs dfs -copyToLocal or hdfs dfs -get – to copy files or directories from HDFS to local filesystem."
   ]
  },
  {
   "cell_type": "code",
   "execution_count": 1,
   "id": "f6b0b71b-e3ae-4dbc-9241-9006b6b6d727",
   "metadata": {},
   "outputs": [
    {
     "name": "stdout",
     "output_type": "stream",
     "text": [
      "-get [-f] [-p] [-ignoreCrc] [-crc] <src> ... <localdst> :\n",
      "  Copy files that match the file pattern <src> to the local name.  <src> is kept. \n",
      "  When copying multiple files, the destination must be a directory. Passing -f\n",
      "  overwrites the destination if it already exists and -p preserves access and\n",
      "  modification times, ownership and the mode.\n"
     ]
    }
   ],
   "source": [
    "%%sh\n",
    "\n",
    "hdfs dfs -help get"
   ]
  },
  {
   "cell_type": "code",
   "execution_count": 2,
   "id": "3ad8e05b-98bc-441a-943a-d932a6b84171",
   "metadata": {},
   "outputs": [
    {
     "name": "stdout",
     "output_type": "stream",
     "text": [
      "-copyToLocal [-f] [-p] [-ignoreCrc] [-crc] <src> ... <localdst> :\n",
      "  Identical to the -get command.\n"
     ]
    }
   ],
   "source": [
    "%%sh \n",
    "\n",
    "hdfs dfs -help copyToLocal"
   ]
  },
  {
   "cell_type": "code",
   "execution_count": 3,
   "id": "5b1f14aa-6154-4ed9-a815-f07b0ee460e5",
   "metadata": {},
   "outputs": [
    {
     "name": "stdout",
     "output_type": "stream",
     "text": [
      "Found 9 items\n",
      "drwxr-xr-x   - itversity supergroup          0 2024-01-28 02:48 /user/itversity/retail_db/categories\n",
      "-rw-r--r--   1 itversity supergroup   10303297 2024-01-28 02:48 /user/itversity/retail_db/create_db.sql\n",
      "-rw-r--r--   1 itversity supergroup       1748 2024-01-28 02:49 /user/itversity/retail_db/create_db_tables_pg.sql\n",
      "drwxr-xr-x   - itversity supergroup          0 2024-01-28 02:49 /user/itversity/retail_db/customers\n",
      "drwxr-xr-x   - itversity supergroup          0 2024-01-28 02:49 /user/itversity/retail_db/departments\n",
      "-rw-r--r--   1 itversity supergroup   10297372 2024-01-28 02:48 /user/itversity/retail_db/load_db_tables_pg.sql\n",
      "drwxr-xr-x   - itversity supergroup          0 2024-01-28 02:48 /user/itversity/retail_db/order_items\n",
      "drwxr-xr-x   - itversity supergroup          0 2024-01-28 02:48 /user/itversity/retail_db/orders\n",
      "drwxr-xr-x   - itversity supergroup          0 2024-01-28 02:49 /user/itversity/retail_db/products\n"
     ]
    }
   ],
   "source": [
    "%%sh\n",
    "\n",
    "hdfs dfs -ls /user/`whoami`/retail_db"
   ]
  },
  {
   "cell_type": "code",
   "execution_count": 4,
   "id": "79b499c7-2a5a-4efc-bf82-9e9a9d65b90a",
   "metadata": {},
   "outputs": [
    {
     "name": "stdout",
     "output_type": "stream",
     "text": [
      "total 8\n",
      "drwxr-xr-x 18 itversity itversity 4096 Jan 26 05:06 itversity-material\n",
      "drwxr-xr-x  3 itversity itversity 4096 Jan 28 02:53 hdfs_commands\n"
     ]
    }
   ],
   "source": [
    "%%sh\n",
    "\n",
    "ls -ltr /home/`whoami`"
   ]
  },
  {
   "cell_type": "code",
   "execution_count": 5,
   "id": "f66896d8-e522-4695-98b0-8ccc45274ca9",
   "metadata": {},
   "outputs": [],
   "source": [
    "mkdir /home/`whoami`/retail_db"
   ]
  },
  {
   "cell_type": "code",
   "execution_count": 6,
   "id": "4aa719ce-a1b3-45fa-beda-01fac6301305",
   "metadata": {},
   "outputs": [],
   "source": [
    "%%sh\n",
    "\n",
    "hdfs dfs -get /user/`whoami`/retail_db/* /home/`whoami`/retail_db"
   ]
  },
  {
   "cell_type": "code",
   "execution_count": 7,
   "id": "4a9d7d23-d14a-41d1-b015-171cd6af2b21",
   "metadata": {},
   "outputs": [
    {
     "name": "stdout",
     "output_type": "stream",
     "text": [
      "total 20152\n",
      "drwxr-xr-x 2 itversity itversity     4096 Jan 28 03:07 categories\n",
      "-rw-r--r-- 1 itversity itversity 10303297 Jan 28 03:07 create_db.sql\n",
      "-rw-r--r-- 1 itversity itversity     1748 Jan 28 03:07 create_db_tables_pg.sql\n",
      "drwxr-xr-x 2 itversity itversity     4096 Jan 28 03:07 departments\n",
      "drwxr-xr-x 2 itversity itversity     4096 Jan 28 03:07 customers\n",
      "-rw-r--r-- 1 itversity itversity 10297372 Jan 28 03:07 load_db_tables_pg.sql\n",
      "drwxr-xr-x 2 itversity itversity     4096 Jan 28 03:07 order_items\n",
      "drwxr-xr-x 2 itversity itversity     4096 Jan 28 03:07 products\n",
      "drwxr-xr-x 2 itversity itversity     4096 Jan 28 03:07 orders\n"
     ]
    }
   ],
   "source": [
    "%%sh\n",
    "\n",
    "ls -ltr /home/`whoami`/retail_db"
   ]
  },
  {
   "cell_type": "code",
   "execution_count": 8,
   "id": "39b16865-5e7f-49bd-85c3-200721dadf9d",
   "metadata": {},
   "outputs": [
    {
     "name": "stderr",
     "output_type": "stream",
     "text": [
      "get: `/home/itversity/retail_db/categories/part-00000': File exists\n",
      "get: `/home/itversity/retail_db/create_db.sql': File exists\n",
      "get: `/home/itversity/retail_db/create_db_tables_pg.sql': File exists\n",
      "get: `/home/itversity/retail_db/customers/part-00000': File exists\n",
      "get: `/home/itversity/retail_db/departments/part-00000': File exists\n",
      "get: `/home/itversity/retail_db/load_db_tables_pg.sql': File exists\n",
      "get: `/home/itversity/retail_db/order_items/part-00000': File exists\n",
      "get: `/home/itversity/retail_db/orders/part-00000': File exists\n",
      "get: `/home/itversity/retail_db/products/part-00000': File exists\n"
     ]
    },
    {
     "ename": "CalledProcessError",
     "evalue": "Command 'b'\\nhdfs dfs -get /user/`whoami`/retail_db/* /home/`whoami`/retail_db\\n'' returned non-zero exit status 1.",
     "output_type": "error",
     "traceback": [
      "\u001b[0;31m---------------------------------------------------------------------------\u001b[0m",
      "\u001b[0;31mCalledProcessError\u001b[0m                        Traceback (most recent call last)",
      "\u001b[0;32m<ipython-input-8-bf158620d9ce>\u001b[0m in \u001b[0;36m<module>\u001b[0;34m\u001b[0m\n\u001b[0;32m----> 1\u001b[0;31m \u001b[0mget_ipython\u001b[0m\u001b[0;34m(\u001b[0m\u001b[0;34m)\u001b[0m\u001b[0;34m.\u001b[0m\u001b[0mrun_cell_magic\u001b[0m\u001b[0;34m(\u001b[0m\u001b[0;34m'sh'\u001b[0m\u001b[0;34m,\u001b[0m \u001b[0;34m''\u001b[0m\u001b[0;34m,\u001b[0m \u001b[0;34m'\\nhdfs dfs -get /user/`whoami`/retail_db/* /home/`whoami`/retail_db\\n'\u001b[0m\u001b[0;34m)\u001b[0m\u001b[0;34m\u001b[0m\u001b[0;34m\u001b[0m\u001b[0m\n\u001b[0m",
      "\u001b[0;32m~/.local/lib/python3.6/site-packages/IPython/core/interactiveshell.py\u001b[0m in \u001b[0;36mrun_cell_magic\u001b[0;34m(self, magic_name, line, cell)\u001b[0m\n\u001b[1;32m   2369\u001b[0m             \u001b[0;32mwith\u001b[0m \u001b[0mself\u001b[0m\u001b[0;34m.\u001b[0m\u001b[0mbuiltin_trap\u001b[0m\u001b[0;34m:\u001b[0m\u001b[0;34m\u001b[0m\u001b[0;34m\u001b[0m\u001b[0m\n\u001b[1;32m   2370\u001b[0m                 \u001b[0margs\u001b[0m \u001b[0;34m=\u001b[0m \u001b[0;34m(\u001b[0m\u001b[0mmagic_arg_s\u001b[0m\u001b[0;34m,\u001b[0m \u001b[0mcell\u001b[0m\u001b[0;34m)\u001b[0m\u001b[0;34m\u001b[0m\u001b[0;34m\u001b[0m\u001b[0m\n\u001b[0;32m-> 2371\u001b[0;31m                 \u001b[0mresult\u001b[0m \u001b[0;34m=\u001b[0m \u001b[0mfn\u001b[0m\u001b[0;34m(\u001b[0m\u001b[0;34m*\u001b[0m\u001b[0margs\u001b[0m\u001b[0;34m,\u001b[0m \u001b[0;34m**\u001b[0m\u001b[0mkwargs\u001b[0m\u001b[0;34m)\u001b[0m\u001b[0;34m\u001b[0m\u001b[0;34m\u001b[0m\u001b[0m\n\u001b[0m\u001b[1;32m   2372\u001b[0m             \u001b[0;32mreturn\u001b[0m \u001b[0mresult\u001b[0m\u001b[0;34m\u001b[0m\u001b[0;34m\u001b[0m\u001b[0m\n\u001b[1;32m   2373\u001b[0m \u001b[0;34m\u001b[0m\u001b[0m\n",
      "\u001b[0;32m~/.local/lib/python3.6/site-packages/IPython/core/magics/script.py\u001b[0m in \u001b[0;36mnamed_script_magic\u001b[0;34m(line, cell)\u001b[0m\n\u001b[1;32m    140\u001b[0m             \u001b[0;32melse\u001b[0m\u001b[0;34m:\u001b[0m\u001b[0;34m\u001b[0m\u001b[0;34m\u001b[0m\u001b[0m\n\u001b[1;32m    141\u001b[0m                 \u001b[0mline\u001b[0m \u001b[0;34m=\u001b[0m \u001b[0mscript\u001b[0m\u001b[0;34m\u001b[0m\u001b[0;34m\u001b[0m\u001b[0m\n\u001b[0;32m--> 142\u001b[0;31m             \u001b[0;32mreturn\u001b[0m \u001b[0mself\u001b[0m\u001b[0;34m.\u001b[0m\u001b[0mshebang\u001b[0m\u001b[0;34m(\u001b[0m\u001b[0mline\u001b[0m\u001b[0;34m,\u001b[0m \u001b[0mcell\u001b[0m\u001b[0;34m)\u001b[0m\u001b[0;34m\u001b[0m\u001b[0;34m\u001b[0m\u001b[0m\n\u001b[0m\u001b[1;32m    143\u001b[0m \u001b[0;34m\u001b[0m\u001b[0m\n\u001b[1;32m    144\u001b[0m         \u001b[0;31m# write a basic docstring:\u001b[0m\u001b[0;34m\u001b[0m\u001b[0;34m\u001b[0m\u001b[0;34m\u001b[0m\u001b[0m\n",
      "\u001b[0;32m~/.local/lib/python3.6/site-packages/decorator.py\u001b[0m in \u001b[0;36mfun\u001b[0;34m(*args, **kw)\u001b[0m\n\u001b[1;32m    230\u001b[0m             \u001b[0;32mif\u001b[0m \u001b[0;32mnot\u001b[0m \u001b[0mkwsyntax\u001b[0m\u001b[0;34m:\u001b[0m\u001b[0;34m\u001b[0m\u001b[0;34m\u001b[0m\u001b[0m\n\u001b[1;32m    231\u001b[0m                 \u001b[0margs\u001b[0m\u001b[0;34m,\u001b[0m \u001b[0mkw\u001b[0m \u001b[0;34m=\u001b[0m \u001b[0mfix\u001b[0m\u001b[0;34m(\u001b[0m\u001b[0margs\u001b[0m\u001b[0;34m,\u001b[0m \u001b[0mkw\u001b[0m\u001b[0;34m,\u001b[0m \u001b[0msig\u001b[0m\u001b[0;34m)\u001b[0m\u001b[0;34m\u001b[0m\u001b[0;34m\u001b[0m\u001b[0m\n\u001b[0;32m--> 232\u001b[0;31m             \u001b[0;32mreturn\u001b[0m \u001b[0mcaller\u001b[0m\u001b[0;34m(\u001b[0m\u001b[0mfunc\u001b[0m\u001b[0;34m,\u001b[0m \u001b[0;34m*\u001b[0m\u001b[0;34m(\u001b[0m\u001b[0mextras\u001b[0m \u001b[0;34m+\u001b[0m \u001b[0margs\u001b[0m\u001b[0;34m)\u001b[0m\u001b[0;34m,\u001b[0m \u001b[0;34m**\u001b[0m\u001b[0mkw\u001b[0m\u001b[0;34m)\u001b[0m\u001b[0;34m\u001b[0m\u001b[0;34m\u001b[0m\u001b[0m\n\u001b[0m\u001b[1;32m    233\u001b[0m     \u001b[0mfun\u001b[0m\u001b[0;34m.\u001b[0m\u001b[0m__name__\u001b[0m \u001b[0;34m=\u001b[0m \u001b[0mfunc\u001b[0m\u001b[0;34m.\u001b[0m\u001b[0m__name__\u001b[0m\u001b[0;34m\u001b[0m\u001b[0;34m\u001b[0m\u001b[0m\n\u001b[1;32m    234\u001b[0m     \u001b[0mfun\u001b[0m\u001b[0;34m.\u001b[0m\u001b[0m__doc__\u001b[0m \u001b[0;34m=\u001b[0m \u001b[0mfunc\u001b[0m\u001b[0;34m.\u001b[0m\u001b[0m__doc__\u001b[0m\u001b[0;34m\u001b[0m\u001b[0;34m\u001b[0m\u001b[0m\n",
      "\u001b[0;32m~/.local/lib/python3.6/site-packages/IPython/core/magic.py\u001b[0m in \u001b[0;36m<lambda>\u001b[0;34m(f, *a, **k)\u001b[0m\n\u001b[1;32m    185\u001b[0m     \u001b[0;31m# but it's overkill for just that one bit of state.\u001b[0m\u001b[0;34m\u001b[0m\u001b[0;34m\u001b[0m\u001b[0;34m\u001b[0m\u001b[0m\n\u001b[1;32m    186\u001b[0m     \u001b[0;32mdef\u001b[0m \u001b[0mmagic_deco\u001b[0m\u001b[0;34m(\u001b[0m\u001b[0marg\u001b[0m\u001b[0;34m)\u001b[0m\u001b[0;34m:\u001b[0m\u001b[0;34m\u001b[0m\u001b[0;34m\u001b[0m\u001b[0m\n\u001b[0;32m--> 187\u001b[0;31m         \u001b[0mcall\u001b[0m \u001b[0;34m=\u001b[0m \u001b[0;32mlambda\u001b[0m \u001b[0mf\u001b[0m\u001b[0;34m,\u001b[0m \u001b[0;34m*\u001b[0m\u001b[0ma\u001b[0m\u001b[0;34m,\u001b[0m \u001b[0;34m**\u001b[0m\u001b[0mk\u001b[0m\u001b[0;34m:\u001b[0m \u001b[0mf\u001b[0m\u001b[0;34m(\u001b[0m\u001b[0;34m*\u001b[0m\u001b[0ma\u001b[0m\u001b[0;34m,\u001b[0m \u001b[0;34m**\u001b[0m\u001b[0mk\u001b[0m\u001b[0;34m)\u001b[0m\u001b[0;34m\u001b[0m\u001b[0;34m\u001b[0m\u001b[0m\n\u001b[0m\u001b[1;32m    188\u001b[0m \u001b[0;34m\u001b[0m\u001b[0m\n\u001b[1;32m    189\u001b[0m         \u001b[0;32mif\u001b[0m \u001b[0mcallable\u001b[0m\u001b[0;34m(\u001b[0m\u001b[0marg\u001b[0m\u001b[0;34m)\u001b[0m\u001b[0;34m:\u001b[0m\u001b[0;34m\u001b[0m\u001b[0;34m\u001b[0m\u001b[0m\n",
      "\u001b[0;32m~/.local/lib/python3.6/site-packages/IPython/core/magics/script.py\u001b[0m in \u001b[0;36mshebang\u001b[0;34m(self, line, cell)\u001b[0m\n\u001b[1;32m    243\u001b[0m             \u001b[0msys\u001b[0m\u001b[0;34m.\u001b[0m\u001b[0mstderr\u001b[0m\u001b[0;34m.\u001b[0m\u001b[0mflush\u001b[0m\u001b[0;34m(\u001b[0m\u001b[0;34m)\u001b[0m\u001b[0;34m\u001b[0m\u001b[0;34m\u001b[0m\u001b[0m\n\u001b[1;32m    244\u001b[0m         \u001b[0;32mif\u001b[0m \u001b[0margs\u001b[0m\u001b[0;34m.\u001b[0m\u001b[0mraise_error\u001b[0m \u001b[0;32mand\u001b[0m \u001b[0mp\u001b[0m\u001b[0;34m.\u001b[0m\u001b[0mreturncode\u001b[0m\u001b[0;34m!=\u001b[0m\u001b[0;36m0\u001b[0m\u001b[0;34m:\u001b[0m\u001b[0;34m\u001b[0m\u001b[0;34m\u001b[0m\u001b[0m\n\u001b[0;32m--> 245\u001b[0;31m             \u001b[0;32mraise\u001b[0m \u001b[0mCalledProcessError\u001b[0m\u001b[0;34m(\u001b[0m\u001b[0mp\u001b[0m\u001b[0;34m.\u001b[0m\u001b[0mreturncode\u001b[0m\u001b[0;34m,\u001b[0m \u001b[0mcell\u001b[0m\u001b[0;34m,\u001b[0m \u001b[0moutput\u001b[0m\u001b[0;34m=\u001b[0m\u001b[0mout\u001b[0m\u001b[0;34m,\u001b[0m \u001b[0mstderr\u001b[0m\u001b[0;34m=\u001b[0m\u001b[0merr\u001b[0m\u001b[0;34m)\u001b[0m\u001b[0;34m\u001b[0m\u001b[0;34m\u001b[0m\u001b[0m\n\u001b[0m\u001b[1;32m    246\u001b[0m \u001b[0;34m\u001b[0m\u001b[0m\n\u001b[1;32m    247\u001b[0m     \u001b[0;32mdef\u001b[0m \u001b[0m_run_script\u001b[0m\u001b[0;34m(\u001b[0m\u001b[0mself\u001b[0m\u001b[0;34m,\u001b[0m \u001b[0mp\u001b[0m\u001b[0;34m,\u001b[0m \u001b[0mcell\u001b[0m\u001b[0;34m,\u001b[0m \u001b[0mto_close\u001b[0m\u001b[0;34m)\u001b[0m\u001b[0;34m:\u001b[0m\u001b[0;34m\u001b[0m\u001b[0;34m\u001b[0m\u001b[0m\n",
      "\u001b[0;31mCalledProcessError\u001b[0m: Command 'b'\\nhdfs dfs -get /user/`whoami`/retail_db/* /home/`whoami`/retail_db\\n'' returned non-zero exit status 1."
     ]
    }
   ],
   "source": [
    "%%sh\n",
    "\n",
    "hdfs dfs -get /user/`whoami`/retail_db/* /home/`whoami`/retail_db"
   ]
  },
  {
   "cell_type": "code",
   "execution_count": 9,
   "id": "c58cea19-31ba-446a-a99d-284b91beeb5d",
   "metadata": {},
   "outputs": [],
   "source": [
    "%%sh\n",
    "\n",
    "rm -rf /home/`whoami`/retail_db"
   ]
  },
  {
   "cell_type": "code",
   "execution_count": 10,
   "id": "8e8439bc-5464-4997-add6-fbf537b11c00",
   "metadata": {},
   "outputs": [
    {
     "name": "stdout",
     "output_type": "stream",
     "text": [
      "total 8\n",
      "drwxr-xr-x 18 itversity itversity 4096 Jan 26 05:06 itversity-material\n",
      "drwxr-xr-x  3 itversity itversity 4096 Jan 28 03:07 hdfs_commands\n"
     ]
    }
   ],
   "source": [
    "%%sh\n",
    "\n",
    "ls -ltr /home/`whoami`"
   ]
  },
  {
   "cell_type": "code",
   "execution_count": 11,
   "id": "bca17e80-4ec7-4387-8963-dad76c2c1a95",
   "metadata": {},
   "outputs": [],
   "source": [
    "%%sh\n",
    "\n",
    "hdfs dfs -get /user/`whoami`/retail_db /home/`whoami`"
   ]
  },
  {
   "cell_type": "code",
   "execution_count": 12,
   "id": "cef9bc5c-7e24-49b3-ae02-7b2afdb78db6",
   "metadata": {},
   "outputs": [
    {
     "name": "stdout",
     "output_type": "stream",
     "text": [
      "-rw-r--r-- 1 itversity itversity 10303297 Jan 28 03:09 /home/itversity/retail_db/create_db.sql\n",
      "-rw-r--r-- 1 itversity itversity     1748 Jan 28 03:09 /home/itversity/retail_db/create_db_tables_pg.sql\n",
      "-rw-r--r-- 1 itversity itversity 10297372 Jan 28 03:09 /home/itversity/retail_db/load_db_tables_pg.sql\n",
      "\n",
      "/home/itversity/retail_db/categories:\n",
      "total 4\n",
      "-rw-r--r-- 1 itversity itversity 1029 Jan 28 03:09 part-00000\n",
      "\n",
      "/home/itversity/retail_db/customers:\n",
      "total 932\n",
      "-rw-r--r-- 1 itversity itversity 953719 Jan 28 03:09 part-00000\n",
      "\n",
      "/home/itversity/retail_db/departments:\n",
      "total 4\n",
      "-rw-r--r-- 1 itversity itversity 60 Jan 28 03:09 part-00000\n",
      "\n",
      "/home/itversity/retail_db/order_items:\n",
      "total 5284\n",
      "-rw-r--r-- 1 itversity itversity 5408880 Jan 28 03:09 part-00000\n",
      "\n",
      "/home/itversity/retail_db/orders:\n",
      "total 2932\n",
      "-rw-r--r-- 1 itversity itversity 2999944 Jan 28 03:09 part-00000\n",
      "\n",
      "/home/itversity/retail_db/products:\n",
      "total 172\n",
      "-rw-r--r-- 1 itversity itversity 174155 Jan 28 03:09 part-00000\n"
     ]
    }
   ],
   "source": [
    "%%sh\n",
    "\n",
    "ls -ltr /home/`whoami`/retail_db/*"
   ]
  },
  {
   "cell_type": "code",
   "execution_count": 13,
   "id": "0d99e4c5-143a-45bb-9545-510a09bab99a",
   "metadata": {},
   "outputs": [],
   "source": [
    "%%sh\n",
    "\n",
    "rm -rf /home/`whoami`/retail_db"
   ]
  },
  {
   "cell_type": "code",
   "execution_count": 14,
   "id": "28a6f785-6eee-4f9a-9e7e-19e73f1db39a",
   "metadata": {},
   "outputs": [
    {
     "name": "stdout",
     "output_type": "stream",
     "text": [
      "total 8\n",
      "drwxr-xr-x 18 itversity itversity 4096 Jan 26 05:06 itversity-material\n",
      "drwxr-xr-x  3 itversity itversity 4096 Jan 28 03:09 hdfs_commands\n"
     ]
    }
   ],
   "source": [
    "%%sh \n",
    "\n",
    "ls -ltr /home/`whoami`"
   ]
  },
  {
   "cell_type": "code",
   "execution_count": 15,
   "id": "8b8e75d7-0adc-4d7b-9a94-c1158db02fd2",
   "metadata": {},
   "outputs": [],
   "source": [
    "%%sh\n",
    "\n",
    "mkdir /home/`whoami`/retail_db"
   ]
  },
  {
   "cell_type": "code",
   "execution_count": 16,
   "id": "14e7d668-744e-40fb-95e8-dcbc8e22bcbe",
   "metadata": {},
   "outputs": [],
   "source": [
    "%%sh\n",
    "\n",
    "hdfs dfs -get /user/`whoami`/retail_db/order* /home/`whoami`/retail_db"
   ]
  },
  {
   "cell_type": "code",
   "execution_count": 17,
   "id": "990394f6-3c0c-4713-ac00-c0eb89e0ca99",
   "metadata": {},
   "outputs": [
    {
     "name": "stdout",
     "output_type": "stream",
     "text": [
      "total 8\n",
      "drwxr-xr-x 2 itversity itversity 4096 Jan 28 03:16 order_items\n",
      "drwxr-xr-x 2 itversity itversity 4096 Jan 28 03:16 orders\n"
     ]
    }
   ],
   "source": [
    "%%sh \n",
    "\n",
    "ls -ltr /home/`whoami`/retail_db"
   ]
  },
  {
   "cell_type": "code",
   "execution_count": 26,
   "id": "a2c9339c-c559-4369-8c75-55d9fc14d9f5",
   "metadata": {},
   "outputs": [],
   "source": [
    "rm -rf /home/`whoami`/retail_db/departments"
   ]
  },
  {
   "cell_type": "code",
   "execution_count": 27,
   "id": "9f8877ab-8025-4e31-87d5-4cfb5a37b6ee",
   "metadata": {},
   "outputs": [],
   "source": [
    "%%sh\n",
    "\n",
    "hdfs dfs -get /user/`whoami`/retail_db/departments /user/`whoami`/retail_db/products  /home/`whoami`/retail_db"
   ]
  },
  {
   "cell_type": "code",
   "execution_count": 28,
   "id": "9c9af94e-015e-4874-b099-6f9310e69461",
   "metadata": {},
   "outputs": [
    {
     "name": "stdout",
     "output_type": "stream",
     "text": [
      "total 16\n",
      "drwxr-xr-x 2 itversity itversity 4096 Jan 28 03:16 order_items\n",
      "drwxr-xr-x 2 itversity itversity 4096 Jan 28 03:16 orders\n",
      "drwxr-xr-x 2 itversity itversity 4096 Jan 28 03:20 departments\n",
      "drwxr-xr-x 2 itversity itversity 4096 Jan 28 03:20 products\n"
     ]
    }
   ],
   "source": [
    "%%sh\n",
    "\n",
    "ls -ltr /home/`whoami`/retail_db"
   ]
  },
  {
   "cell_type": "code",
   "execution_count": 29,
   "id": "26166f6c-0d15-4296-852c-edf6ed996b81",
   "metadata": {},
   "outputs": [],
   "source": [
    "%%sh \n",
    "\n",
    "hdfs dfs -get /user/`whoami`/retail_db/categories /user/`whoami`/retail_db/customers /home/`whoami`/retail_db"
   ]
  },
  {
   "cell_type": "code",
   "execution_count": 30,
   "id": "293fe71f-1a6a-4320-8eff-02e49024d087",
   "metadata": {},
   "outputs": [
    {
     "name": "stdout",
     "output_type": "stream",
     "text": [
      "total 24\n",
      "drwxr-xr-x 2 itversity itversity 4096 Jan 28 03:16 order_items\n",
      "drwxr-xr-x 2 itversity itversity 4096 Jan 28 03:16 orders\n",
      "drwxr-xr-x 2 itversity itversity 4096 Jan 28 03:20 departments\n",
      "drwxr-xr-x 2 itversity itversity 4096 Jan 28 03:20 products\n",
      "drwxr-xr-x 2 itversity itversity 4096 Jan 28 03:21 categories\n",
      "drwxr-xr-x 2 itversity itversity 4096 Jan 28 03:21 customers\n"
     ]
    }
   ],
   "source": [
    "%%sh\n",
    "\n",
    "ls -ltr /home/`whoami`/retail_db"
   ]
  },
  {
   "cell_type": "code",
   "execution_count": null,
   "id": "9bdcfe80-c4f0-4b6b-9c6b-8527e9c4cd28",
   "metadata": {},
   "outputs": [],
   "source": []
  }
 ],
 "metadata": {
  "kernelspec": {
   "display_name": "Python 3",
   "language": "python",
   "name": "python3"
  },
  "language_info": {
   "codemirror_mode": {
    "name": "ipython",
    "version": 3
   },
   "file_extension": ".py",
   "mimetype": "text/x-python",
   "name": "python",
   "nbconvert_exporter": "python",
   "pygments_lexer": "ipython3",
   "version": "3.6.9"
  }
 },
 "nbformat": 4,
 "nbformat_minor": 5
}
