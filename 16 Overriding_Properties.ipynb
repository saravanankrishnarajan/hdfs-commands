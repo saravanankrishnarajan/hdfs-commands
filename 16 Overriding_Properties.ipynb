{
 "cells": [
  {
   "cell_type": "markdown",
   "id": "ec65ae22-546c-4c5e-a8ee-f9d353e0ee66",
   "metadata": {},
   "source": [
    "### Overriding Properties"
   ]
  },
  {
   "cell_type": "markdown",
   "id": "09904de1-262b-4805-bcfc-cded011fc19c",
   "metadata": {},
   "source": [
    "* We can change any property which is not defined as final in **core-site.xml** or **hdfs-site.xml**.\n",
    "* We can change `blocksize` as well as `replication` while copying the files. We can also change them after copying the files as well.\n",
    "* We can either pass individual properties using `-D` or bunch of properties by passing xml similar to **core-site.xml** or **hdfs-site.xml** as part of `--conf`.\n",
    "* Let's copy a file **/data/crime/csv/rows.csv** with default values. The file is splitted into 12 blocks with 2 copies each (as our default blocksize is 128 MB and replication factor is 2)."
   ]
  },
  {
   "cell_type": "code",
   "execution_count": 9,
   "id": "4b510869-85d7-42ae-abde-5f6e8db55825",
   "metadata": {},
   "outputs": [
    {
     "name": "stdout",
     "output_type": "stream",
     "text": [
      "total 52K\n",
      "drwxr-xr-x  2 itversity itversity 4.0K Jan 26 05:06 sms_db\n",
      "drwxr-xr-x  8 itversity itversity 4.0K Jan 26 05:06 retail_db_json\n",
      "drwxr-xr-x  8 itversity itversity 4.0K Jan 26 05:06 retail_db\n",
      "drwxr-xr-x  4 itversity itversity 4.0K Jan 26 05:06 nyse_all\n",
      "drwxr-xr-x  2 itversity itversity 4.0K Jan 26 05:06 nyse\n",
      "drwxr-xr-x  2 itversity itversity 4.0K Jan 26 05:06 lca\n",
      "drwxr-xr-x 10 itversity itversity 4.0K Jan 26 05:06 hr_db\n",
      "drwxr-xr-x  2 itversity itversity 4.0K Jan 26 05:06 hr\n",
      "drwxr-xr-x  2 itversity itversity 4.0K Jan 26 05:06 electionresults\n",
      "drwxr-xr-x  2 root      root      4.0K Jan 28 21:58 crims\n",
      "drwxr-xr-x  3 itversity itversity 4.0K Jan 28 21:59 crime\n",
      "drwxr-xr-x  4 itversity itversity 4.0K Jan 26 05:06 cards\n",
      "-rw-r--r--  1 itversity itversity  160 Jan 26 05:06 README.md\n"
     ]
    }
   ],
   "source": [
    "! ls -lh -r  /data/"
   ]
  },
  {
   "cell_type": "code",
   "execution_count": 10,
   "id": "e4903f67-0e80-4557-bcf9-a02d8fb12aa3",
   "metadata": {
    "tags": []
   },
   "outputs": [
    {
     "name": "stdout",
     "output_type": "stream",
     "text": [
      "Found 2 items\n",
      "drwxr-xr-x   - itversity supergroup          0 2024-01-27 23:11 /public/nyse_all\n",
      "drwxr-xr-x   - itversity supergroup          0 2024-01-28 16:56 /public/retail_db\n"
     ]
    }
   ],
   "source": [
    "%%sh\n",
    "\n",
    "hdfs dfs -ls /public "
   ]
  },
  {
   "cell_type": "code",
   "execution_count": 11,
   "id": "91c9a522-ca0c-4624-83d0-01b61c9a7541",
   "metadata": {},
   "outputs": [
    {
     "name": "stdout",
     "output_type": "stream",
     "text": [
      "Found 1 items\n",
      "drwxr-xr-x   - itversity supergroup          0 2024-01-28 22:40 /user/itversity/crime/csv\n"
     ]
    }
   ],
   "source": [
    "%%sh\n",
    "\n",
    "hdfs dfs -ls /user/`whoami`/crime"
   ]
  },
  {
   "cell_type": "code",
   "execution_count": 12,
   "id": "0ffc837d-dad7-44f9-82ce-09782caa0bce",
   "metadata": {},
   "outputs": [
    {
     "name": "stdout",
     "output_type": "stream",
     "text": [
      "Deleted /user/itversity/crime\n"
     ]
    }
   ],
   "source": [
    "%%sh\n",
    "\n",
    "hdfs dfs -rm -R -skipTrash /user/`whoami`/crime"
   ]
  },
  {
   "cell_type": "code",
   "execution_count": 13,
   "id": "f5450c5a-51c8-411d-ae7e-bfe2880cdb0f",
   "metadata": {},
   "outputs": [],
   "source": [
    "%%sh\n",
    "\n",
    "hdfs dfs -mkdir -p /user/`whoami`/crime/csv"
   ]
  },
  {
   "cell_type": "code",
   "execution_count": 14,
   "id": "556ef975-a0d3-4352-95fe-85af2cfc4b3b",
   "metadata": {},
   "outputs": [
    {
     "name": "stdout",
     "output_type": "stream",
     "text": [
      "total 1.8G\n",
      "-rw-r--r-- 1 root root 1.8G Jan 28 20:57 rows.csv\n",
      "-rw-r--r-- 1 root root   67 Jan 28 20:57 Crimes_-_2001_to_Present_20240128.csv:Zone.Identifier\n"
     ]
    }
   ],
   "source": [
    "%%sh\n",
    "\n",
    "ls -lhtr /data/crime/csv"
   ]
  },
  {
   "cell_type": "code",
   "execution_count": 15,
   "id": "f4b1df8c-1b37-49d6-9d58-33f2a69c0d6f",
   "metadata": {},
   "outputs": [],
   "source": [
    "%%sh\n",
    "\n",
    "hdfs dfs -put /data/crime/csv/rows.csv /user/`whoami`/crime/csv"
   ]
  },
  {
   "cell_type": "code",
   "execution_count": 16,
   "id": "cf8dd688-2f25-47d9-bc89-1599aea79005",
   "metadata": {},
   "outputs": [
    {
     "name": "stdout",
     "output_type": "stream",
     "text": [
      "1\n"
     ]
    }
   ],
   "source": [
    "%%sh\n",
    "\n",
    "hdfs dfs -stat %r /user/`whoami`/crime/csv/rows.csv"
   ]
  },
  {
   "cell_type": "code",
   "execution_count": 17,
   "id": "76b83ef9-360f-4b15-ab89-c9ec9ff1d388",
   "metadata": {},
   "outputs": [
    {
     "name": "stdout",
     "output_type": "stream",
     "text": [
      "134217728\n"
     ]
    }
   ],
   "source": [
    "%%sh\n",
    "\n",
    "hdfs dfs -stat %o /user/`whoami`/crime/csv/rows.csv"
   ]
  },
  {
   "cell_type": "code",
   "execution_count": 18,
   "id": "2d3e85fb-f2d9-4b99-bfe1-30704e21f977",
   "metadata": {},
   "outputs": [
    {
     "name": "stdout",
     "output_type": "stream",
     "text": [
      "1885779202\n"
     ]
    }
   ],
   "source": [
    "%%sh\n",
    "\n",
    "hdfs dfs -stat %b /user/`whoami`/crime/csv/rows.csv"
   ]
  },
  {
   "cell_type": "code",
   "execution_count": 19,
   "id": "1c4efd48-53d4-4017-8691-ae0193cbc069",
   "metadata": {},
   "outputs": [
    {
     "name": "stdout",
     "output_type": "stream",
     "text": [
      "Deleted /user/itversity/crime/csv/rows.csv\n"
     ]
    }
   ],
   "source": [
    "%%sh\n",
    "\n",
    "hdfs dfs -rm -R -skipTrash /user/`whoami`/crime/csv/rows.csv"
   ]
  },
  {
   "cell_type": "code",
   "execution_count": 20,
   "id": "81bb895e-cf8f-4479-81a1-8e9b713be69d",
   "metadata": {},
   "outputs": [],
   "source": [
    "%%sh\n",
    "\n",
    "hdfs dfs -put /data/crime/csv/rows.csv /user/`whoami`/crime/csv"
   ]
  },
  {
   "cell_type": "code",
   "execution_count": 21,
   "id": "f6df4aa9-ebf5-4d66-aed9-0be8d8bba76a",
   "metadata": {},
   "outputs": [
    {
     "name": "stdout",
     "output_type": "stream",
     "text": [
      "FSCK started by itversity (auth:SIMPLE) from /127.0.0.1 for path /user/itversity/crime/csv at Sun Jan 28 22:49:41 GMT 2024\n",
      "\n",
      "\n",
      "Status: HEALTHY\n",
      " Number of data-nodes:\t1\n",
      " Number of racks:\t\t1\n",
      " Total dirs:\t\t\t1\n",
      " Total symlinks:\t\t0\n",
      "\n",
      "Replicated Blocks:\n",
      " Total size:\t1885779202 B\n",
      " Total files:\t1\n",
      " Total blocks (validated):\t15 (avg. block size 125718613 B)\n",
      " Minimally replicated blocks:\t15 (100.0 %)\n",
      " Over-replicated blocks:\t0 (0.0 %)\n",
      " Under-replicated blocks:\t0 (0.0 %)\n",
      " Mis-replicated blocks:\t\t0 (0.0 %)\n",
      " Default replication factor:\t1\n",
      " Average block replication:\t1.0\n",
      " Missing blocks:\t\t0\n",
      " Corrupt blocks:\t\t0\n",
      " Missing replicas:\t\t0 (0.0 %)\n",
      " Blocks queued for replication:\t0\n",
      "\n",
      "Erasure Coded Block Groups:\n",
      " Total size:\t0 B\n",
      " Total files:\t0\n",
      " Total block groups (validated):\t0\n",
      " Minimally erasure-coded block groups:\t0\n",
      " Over-erasure-coded block groups:\t0\n",
      " Under-erasure-coded block groups:\t0\n",
      " Unsatisfactory placement block groups:\t0\n",
      " Average block group size:\t0.0\n",
      " Missing block groups:\t\t0\n",
      " Corrupt block groups:\t\t0\n",
      " Missing internal blocks:\t0\n",
      " Blocks queued for replication:\t0\n",
      "FSCK ended at Sun Jan 28 22:49:41 GMT 2024 in 3 milliseconds\n",
      "\n",
      "\n",
      "The filesystem under path '/user/itversity/crime/csv' is HEALTHY\n"
     ]
    },
    {
     "name": "stderr",
     "output_type": "stream",
     "text": [
      "Connecting to namenode via http://localhost:9870/fsck?ugi=itversity&path=%2Fuser%2Fitversity%2Fcrime%2Fcsv\n"
     ]
    }
   ],
   "source": [
    "%%sh\n",
    "\n",
    "hdfs fsck /user/`whoami`/crime/csv"
   ]
  },
  {
   "cell_type": "code",
   "execution_count": 23,
   "id": "74f11679-e9e4-4f37-a26a-a60ef5c43ed4",
   "metadata": {},
   "outputs": [
    {
     "name": "stdout",
     "output_type": "stream",
     "text": [
      "FSCK started by itversity (auth:SIMPLE) from /127.0.0.1 for path /user/itversity/crime/csv at Sun Jan 28 22:50:34 GMT 2024\n",
      "\n",
      "/user/itversity/crime/csv <dir>\n",
      "/user/itversity/crime/csv/rows.csv 1885779202 bytes, replicated: replication=1, 15 block(s):  OK\n",
      "0. BP-1463716262-172.19.0.3-1706254608807:blk_1073742486_1662 len=134217728 Live_repl=1  [DatanodeInfoWithStorage[127.0.0.1:9866,DS-16774d13-cf92-478b-9b30-c7794943f0f1,DISK]]\n",
      "1. BP-1463716262-172.19.0.3-1706254608807:blk_1073742487_1663 len=134217728 Live_repl=1  [DatanodeInfoWithStorage[127.0.0.1:9866,DS-16774d13-cf92-478b-9b30-c7794943f0f1,DISK]]\n",
      "2. BP-1463716262-172.19.0.3-1706254608807:blk_1073742488_1664 len=134217728 Live_repl=1  [DatanodeInfoWithStorage[127.0.0.1:9866,DS-16774d13-cf92-478b-9b30-c7794943f0f1,DISK]]\n",
      "3. BP-1463716262-172.19.0.3-1706254608807:blk_1073742489_1665 len=134217728 Live_repl=1  [DatanodeInfoWithStorage[127.0.0.1:9866,DS-16774d13-cf92-478b-9b30-c7794943f0f1,DISK]]\n",
      "4. BP-1463716262-172.19.0.3-1706254608807:blk_1073742490_1666 len=134217728 Live_repl=1  [DatanodeInfoWithStorage[127.0.0.1:9866,DS-16774d13-cf92-478b-9b30-c7794943f0f1,DISK]]\n",
      "5. BP-1463716262-172.19.0.3-1706254608807:blk_1073742491_1667 len=134217728 Live_repl=1  [DatanodeInfoWithStorage[127.0.0.1:9866,DS-16774d13-cf92-478b-9b30-c7794943f0f1,DISK]]\n",
      "6. BP-1463716262-172.19.0.3-1706254608807:blk_1073742492_1668 len=134217728 Live_repl=1  [DatanodeInfoWithStorage[127.0.0.1:9866,DS-16774d13-cf92-478b-9b30-c7794943f0f1,DISK]]\n",
      "7. BP-1463716262-172.19.0.3-1706254608807:blk_1073742493_1669 len=134217728 Live_repl=1  [DatanodeInfoWithStorage[127.0.0.1:9866,DS-16774d13-cf92-478b-9b30-c7794943f0f1,DISK]]\n",
      "8. BP-1463716262-172.19.0.3-1706254608807:blk_1073742494_1670 len=134217728 Live_repl=1  [DatanodeInfoWithStorage[127.0.0.1:9866,DS-16774d13-cf92-478b-9b30-c7794943f0f1,DISK]]\n",
      "9. BP-1463716262-172.19.0.3-1706254608807:blk_1073742495_1671 len=134217728 Live_repl=1  [DatanodeInfoWithStorage[127.0.0.1:9866,DS-16774d13-cf92-478b-9b30-c7794943f0f1,DISK]]\n",
      "10. BP-1463716262-172.19.0.3-1706254608807:blk_1073742496_1672 len=134217728 Live_repl=1  [DatanodeInfoWithStorage[127.0.0.1:9866,DS-16774d13-cf92-478b-9b30-c7794943f0f1,DISK]]\n",
      "11. BP-1463716262-172.19.0.3-1706254608807:blk_1073742497_1673 len=134217728 Live_repl=1  [DatanodeInfoWithStorage[127.0.0.1:9866,DS-16774d13-cf92-478b-9b30-c7794943f0f1,DISK]]\n",
      "12. BP-1463716262-172.19.0.3-1706254608807:blk_1073742498_1674 len=134217728 Live_repl=1  [DatanodeInfoWithStorage[127.0.0.1:9866,DS-16774d13-cf92-478b-9b30-c7794943f0f1,DISK]]\n",
      "13. BP-1463716262-172.19.0.3-1706254608807:blk_1073742499_1675 len=134217728 Live_repl=1  [DatanodeInfoWithStorage[127.0.0.1:9866,DS-16774d13-cf92-478b-9b30-c7794943f0f1,DISK]]\n",
      "14. BP-1463716262-172.19.0.3-1706254608807:blk_1073742500_1676 len=6731010 Live_repl=1  [DatanodeInfoWithStorage[127.0.0.1:9866,DS-16774d13-cf92-478b-9b30-c7794943f0f1,DISK]]\n",
      "\n",
      "\n",
      "Status: HEALTHY\n",
      " Number of data-nodes:\t1\n",
      " Number of racks:\t\t1\n",
      " Total dirs:\t\t\t1\n",
      " Total symlinks:\t\t0\n",
      "\n",
      "Replicated Blocks:\n",
      " Total size:\t1885779202 B\n",
      " Total files:\t1\n",
      " Total blocks (validated):\t15 (avg. block size 125718613 B)\n",
      " Minimally replicated blocks:\t15 (100.0 %)\n",
      " Over-replicated blocks:\t0 (0.0 %)\n",
      " Under-replicated blocks:\t0 (0.0 %)\n",
      " Mis-replicated blocks:\t\t0 (0.0 %)\n",
      " Default replication factor:\t1\n",
      " Average block replication:\t1.0\n",
      " Missing blocks:\t\t0\n",
      " Corrupt blocks:\t\t0\n",
      " Missing replicas:\t\t0 (0.0 %)\n",
      " Blocks queued for replication:\t0\n",
      "\n",
      "Erasure Coded Block Groups:\n",
      " Total size:\t0 B\n",
      " Total files:\t0\n",
      " Total block groups (validated):\t0\n",
      " Minimally erasure-coded block groups:\t0\n",
      " Over-erasure-coded block groups:\t0\n",
      " Under-erasure-coded block groups:\t0\n",
      " Unsatisfactory placement block groups:\t0\n",
      " Average block group size:\t0.0\n",
      " Missing block groups:\t\t0\n",
      " Corrupt block groups:\t\t0\n",
      " Missing internal blocks:\t0\n",
      " Blocks queued for replication:\t0\n",
      "FSCK ended at Sun Jan 28 22:50:34 GMT 2024 in 2 milliseconds\n",
      "\n",
      "\n",
      "The filesystem under path '/user/itversity/crime/csv' is HEALTHY\n"
     ]
    },
    {
     "name": "stderr",
     "output_type": "stream",
     "text": [
      "Connecting to namenode via http://localhost:9870/fsck?ugi=itversity&files=1&blocks=1&locations=1&path=%2Fuser%2Fitversity%2Fcrime%2Fcsv\n"
     ]
    }
   ],
   "source": [
    "%%sh\n",
    "\n",
    "hdfs fsck /user/`whoami`/crime/csv -files -blocks -locations"
   ]
  },
  {
   "cell_type": "code",
   "execution_count": 44,
   "id": "0c5aece2-39b8-4a4a-ab50-48921088e6a1",
   "metadata": {},
   "outputs": [
    {
     "name": "stdout",
     "output_type": "stream",
     "text": [
      "Deleted /user/itversity/crime/csv/rows.csv\n"
     ]
    }
   ],
   "source": [
    "%%sh\n",
    "\n",
    "hdfs dfs -rm -R -skipTrash /user/`whoami`/crime/csv/rows.csv"
   ]
  },
  {
   "cell_type": "code",
   "execution_count": 35,
   "id": "d2e30917-9931-4800-8b52-149df324003d",
   "metadata": {},
   "outputs": [],
   "source": [
    "%%sh\n",
    "\n",
    "hdfs dfs -Ddfs.blocksize=64M -Ddfs.replication=2 -put /data/crime/csv/rows.csv /user/`whoami`/crime/csv"
   ]
  },
  {
   "cell_type": "code",
   "execution_count": 36,
   "id": "d9d3a6a8-d378-4578-a77b-7f3d387cd528",
   "metadata": {},
   "outputs": [
    {
     "name": "stdout",
     "output_type": "stream",
     "text": [
      "Found 1 items\n",
      "-rw-r--r--   2 itversity supergroup 1885779202 2024-01-28 22:55 /user/itversity/crime/csv/rows.csv\n"
     ]
    }
   ],
   "source": [
    "%%sh\n",
    "\n",
    "hdfs dfs -ls /user/`whoami`/crime/csv/"
   ]
  },
  {
   "cell_type": "code",
   "execution_count": 37,
   "id": "08182356-8679-46d4-ab6b-896209c00dfb",
   "metadata": {},
   "outputs": [
    {
     "name": "stdout",
     "output_type": "stream",
     "text": [
      "FSCK started by itversity (auth:SIMPLE) from /127.0.0.1 for path /user/itversity/crime/csv at Sun Jan 28 22:56:08 GMT 2024\n",
      "\n",
      "/user/itversity/crime/csv <dir>\n",
      "/user/itversity/crime/csv/rows.csv 1885779202 bytes, replicated: replication=2, 29 block(s):  Under replicated BP-1463716262-172.19.0.3-1706254608807:blk_1073742530_1706. Target Replicas is 2 but found 1 live replica(s), 0 decommissioned replica(s), 0 decommissioning replica(s).\n",
      " Under replicated BP-1463716262-172.19.0.3-1706254608807:blk_1073742531_1707. Target Replicas is 2 but found 1 live replica(s), 0 decommissioned replica(s), 0 decommissioning replica(s).\n",
      " Under replicated BP-1463716262-172.19.0.3-1706254608807:blk_1073742532_1708. Target Replicas is 2 but found 1 live replica(s), 0 decommissioned replica(s), 0 decommissioning replica(s).\n",
      " Under replicated BP-1463716262-172.19.0.3-1706254608807:blk_1073742533_1709. Target Replicas is 2 but found 1 live replica(s), 0 decommissioned replica(s), 0 decommissioning replica(s).\n",
      " Under replicated BP-1463716262-172.19.0.3-1706254608807:blk_1073742534_1710. Target Replicas is 2 but found 1 live replica(s), 0 decommissioned replica(s), 0 decommissioning replica(s).\n",
      " Under replicated BP-1463716262-172.19.0.3-1706254608807:blk_1073742535_1711. Target Replicas is 2 but found 1 live replica(s), 0 decommissioned replica(s), 0 decommissioning replica(s).\n",
      " Under replicated BP-1463716262-172.19.0.3-1706254608807:blk_1073742536_1712. Target Replicas is 2 but found 1 live replica(s), 0 decommissioned replica(s), 0 decommissioning replica(s).\n",
      " Under replicated BP-1463716262-172.19.0.3-1706254608807:blk_1073742537_1713. Target Replicas is 2 but found 1 live replica(s), 0 decommissioned replica(s), 0 decommissioning replica(s).\n",
      " Under replicated BP-1463716262-172.19.0.3-1706254608807:blk_1073742538_1714. Target Replicas is 2 but found 1 live replica(s), 0 decommissioned replica(s), 0 decommissioning replica(s).\n",
      " Under replicated BP-1463716262-172.19.0.3-1706254608807:blk_1073742539_1715. Target Replicas is 2 but found 1 live replica(s), 0 decommissioned replica(s), 0 decommissioning replica(s).\n",
      " Under replicated BP-1463716262-172.19.0.3-1706254608807:blk_1073742540_1716. Target Replicas is 2 but found 1 live replica(s), 0 decommissioned replica(s), 0 decommissioning replica(s).\n",
      " Under replicated BP-1463716262-172.19.0.3-1706254608807:blk_1073742541_1717. Target Replicas is 2 but found 1 live replica(s), 0 decommissioned replica(s), 0 decommissioning replica(s).\n",
      " Under replicated BP-1463716262-172.19.0.3-1706254608807:blk_1073742542_1718. Target Replicas is 2 but found 1 live replica(s), 0 decommissioned replica(s), 0 decommissioning replica(s).\n",
      " Under replicated BP-1463716262-172.19.0.3-1706254608807:blk_1073742543_1719. Target Replicas is 2 but found 1 live replica(s), 0 decommissioned replica(s), 0 decommissioning replica(s).\n",
      " Under replicated BP-1463716262-172.19.0.3-1706254608807:blk_1073742544_1720. Target Replicas is 2 but found 1 live replica(s), 0 decommissioned replica(s), 0 decommissioning replica(s).\n",
      " Under replicated BP-1463716262-172.19.0.3-1706254608807:blk_1073742545_1721. Target Replicas is 2 but found 1 live replica(s), 0 decommissioned replica(s), 0 decommissioning replica(s).\n",
      " Under replicated BP-1463716262-172.19.0.3-1706254608807:blk_1073742546_1722. Target Replicas is 2 but found 1 live replica(s), 0 decommissioned replica(s), 0 decommissioning replica(s).\n",
      " Under replicated BP-1463716262-172.19.0.3-1706254608807:blk_1073742547_1723. Target Replicas is 2 but found 1 live replica(s), 0 decommissioned replica(s), 0 decommissioning replica(s).\n",
      " Under replicated BP-1463716262-172.19.0.3-1706254608807:blk_1073742548_1724. Target Replicas is 2 but found 1 live replica(s), 0 decommissioned replica(s), 0 decommissioning replica(s).\n",
      " Under replicated BP-1463716262-172.19.0.3-1706254608807:blk_1073742549_1725. Target Replicas is 2 but found 1 live replica(s), 0 decommissioned replica(s), 0 decommissioning replica(s).\n",
      " Under replicated BP-1463716262-172.19.0.3-1706254608807:blk_1073742550_1726. Target Replicas is 2 but found 1 live replica(s), 0 decommissioned replica(s), 0 decommissioning replica(s).\n",
      " Under replicated BP-1463716262-172.19.0.3-1706254608807:blk_1073742551_1727. Target Replicas is 2 but found 1 live replica(s), 0 decommissioned replica(s), 0 decommissioning replica(s).\n",
      " Under replicated BP-1463716262-172.19.0.3-1706254608807:blk_1073742552_1728. Target Replicas is 2 but found 1 live replica(s), 0 decommissioned replica(s), 0 decommissioning replica(s).\n",
      " Under replicated BP-1463716262-172.19.0.3-1706254608807:blk_1073742553_1729. Target Replicas is 2 but found 1 live replica(s), 0 decommissioned replica(s), 0 decommissioning replica(s).\n",
      " Under replicated BP-1463716262-172.19.0.3-1706254608807:blk_1073742554_1730. Target Replicas is 2 but found 1 live replica(s), 0 decommissioned replica(s), 0 decommissioning replica(s).\n",
      " Under replicated BP-1463716262-172.19.0.3-1706254608807:blk_1073742555_1731. Target Replicas is 2 but found 1 live replica(s), 0 decommissioned replica(s), 0 decommissioning replica(s).\n",
      " Under replicated BP-1463716262-172.19.0.3-1706254608807:blk_1073742556_1732. Target Replicas is 2 but found 1 live replica(s), 0 decommissioned replica(s), 0 decommissioning replica(s).\n",
      " Under replicated BP-1463716262-172.19.0.3-1706254608807:blk_1073742557_1733. Target Replicas is 2 but found 1 live replica(s), 0 decommissioned replica(s), 0 decommissioning replica(s).\n",
      " Under replicated BP-1463716262-172.19.0.3-1706254608807:blk_1073742558_1734. Target Replicas is 2 but found 1 live replica(s), 0 decommissioned replica(s), 0 decommissioning replica(s).\n",
      "0. BP-1463716262-172.19.0.3-1706254608807:blk_1073742530_1706 len=67108864 Live_repl=1  [DatanodeInfoWithStorage[127.0.0.1:9866,DS-16774d13-cf92-478b-9b30-c7794943f0f1,DISK]]\n",
      "1. BP-1463716262-172.19.0.3-1706254608807:blk_1073742531_1707 len=67108864 Live_repl=1  [DatanodeInfoWithStorage[127.0.0.1:9866,DS-16774d13-cf92-478b-9b30-c7794943f0f1,DISK]]\n",
      "2. BP-1463716262-172.19.0.3-1706254608807:blk_1073742532_1708 len=67108864 Live_repl=1  [DatanodeInfoWithStorage[127.0.0.1:9866,DS-16774d13-cf92-478b-9b30-c7794943f0f1,DISK]]\n",
      "3. BP-1463716262-172.19.0.3-1706254608807:blk_1073742533_1709 len=67108864 Live_repl=1  [DatanodeInfoWithStorage[127.0.0.1:9866,DS-16774d13-cf92-478b-9b30-c7794943f0f1,DISK]]\n",
      "4. BP-1463716262-172.19.0.3-1706254608807:blk_1073742534_1710 len=67108864 Live_repl=1  [DatanodeInfoWithStorage[127.0.0.1:9866,DS-16774d13-cf92-478b-9b30-c7794943f0f1,DISK]]\n",
      "5. BP-1463716262-172.19.0.3-1706254608807:blk_1073742535_1711 len=67108864 Live_repl=1  [DatanodeInfoWithStorage[127.0.0.1:9866,DS-16774d13-cf92-478b-9b30-c7794943f0f1,DISK]]\n",
      "6. BP-1463716262-172.19.0.3-1706254608807:blk_1073742536_1712 len=67108864 Live_repl=1  [DatanodeInfoWithStorage[127.0.0.1:9866,DS-16774d13-cf92-478b-9b30-c7794943f0f1,DISK]]\n",
      "7. BP-1463716262-172.19.0.3-1706254608807:blk_1073742537_1713 len=67108864 Live_repl=1  [DatanodeInfoWithStorage[127.0.0.1:9866,DS-16774d13-cf92-478b-9b30-c7794943f0f1,DISK]]\n",
      "8. BP-1463716262-172.19.0.3-1706254608807:blk_1073742538_1714 len=67108864 Live_repl=1  [DatanodeInfoWithStorage[127.0.0.1:9866,DS-16774d13-cf92-478b-9b30-c7794943f0f1,DISK]]\n",
      "9. BP-1463716262-172.19.0.3-1706254608807:blk_1073742539_1715 len=67108864 Live_repl=1  [DatanodeInfoWithStorage[127.0.0.1:9866,DS-16774d13-cf92-478b-9b30-c7794943f0f1,DISK]]\n",
      "10. BP-1463716262-172.19.0.3-1706254608807:blk_1073742540_1716 len=67108864 Live_repl=1  [DatanodeInfoWithStorage[127.0.0.1:9866,DS-16774d13-cf92-478b-9b30-c7794943f0f1,DISK]]\n",
      "11. BP-1463716262-172.19.0.3-1706254608807:blk_1073742541_1717 len=67108864 Live_repl=1  [DatanodeInfoWithStorage[127.0.0.1:9866,DS-16774d13-cf92-478b-9b30-c7794943f0f1,DISK]]\n",
      "12. BP-1463716262-172.19.0.3-1706254608807:blk_1073742542_1718 len=67108864 Live_repl=1  [DatanodeInfoWithStorage[127.0.0.1:9866,DS-16774d13-cf92-478b-9b30-c7794943f0f1,DISK]]\n",
      "13. BP-1463716262-172.19.0.3-1706254608807:blk_1073742543_1719 len=67108864 Live_repl=1  [DatanodeInfoWithStorage[127.0.0.1:9866,DS-16774d13-cf92-478b-9b30-c7794943f0f1,DISK]]\n",
      "14. BP-1463716262-172.19.0.3-1706254608807:blk_1073742544_1720 len=67108864 Live_repl=1  [DatanodeInfoWithStorage[127.0.0.1:9866,DS-16774d13-cf92-478b-9b30-c7794943f0f1,DISK]]\n",
      "15. BP-1463716262-172.19.0.3-1706254608807:blk_1073742545_1721 len=67108864 Live_repl=1  [DatanodeInfoWithStorage[127.0.0.1:9866,DS-16774d13-cf92-478b-9b30-c7794943f0f1,DISK]]\n",
      "16. BP-1463716262-172.19.0.3-1706254608807:blk_1073742546_1722 len=67108864 Live_repl=1  [DatanodeInfoWithStorage[127.0.0.1:9866,DS-16774d13-cf92-478b-9b30-c7794943f0f1,DISK]]\n",
      "17. BP-1463716262-172.19.0.3-1706254608807:blk_1073742547_1723 len=67108864 Live_repl=1  [DatanodeInfoWithStorage[127.0.0.1:9866,DS-16774d13-cf92-478b-9b30-c7794943f0f1,DISK]]\n",
      "18. BP-1463716262-172.19.0.3-1706254608807:blk_1073742548_1724 len=67108864 Live_repl=1  [DatanodeInfoWithStorage[127.0.0.1:9866,DS-16774d13-cf92-478b-9b30-c7794943f0f1,DISK]]\n",
      "19. BP-1463716262-172.19.0.3-1706254608807:blk_1073742549_1725 len=67108864 Live_repl=1  [DatanodeInfoWithStorage[127.0.0.1:9866,DS-16774d13-cf92-478b-9b30-c7794943f0f1,DISK]]\n",
      "20. BP-1463716262-172.19.0.3-1706254608807:blk_1073742550_1726 len=67108864 Live_repl=1  [DatanodeInfoWithStorage[127.0.0.1:9866,DS-16774d13-cf92-478b-9b30-c7794943f0f1,DISK]]\n",
      "21. BP-1463716262-172.19.0.3-1706254608807:blk_1073742551_1727 len=67108864 Live_repl=1  [DatanodeInfoWithStorage[127.0.0.1:9866,DS-16774d13-cf92-478b-9b30-c7794943f0f1,DISK]]\n",
      "22. BP-1463716262-172.19.0.3-1706254608807:blk_1073742552_1728 len=67108864 Live_repl=1  [DatanodeInfoWithStorage[127.0.0.1:9866,DS-16774d13-cf92-478b-9b30-c7794943f0f1,DISK]]\n",
      "23. BP-1463716262-172.19.0.3-1706254608807:blk_1073742553_1729 len=67108864 Live_repl=1  [DatanodeInfoWithStorage[127.0.0.1:9866,DS-16774d13-cf92-478b-9b30-c7794943f0f1,DISK]]\n",
      "24. BP-1463716262-172.19.0.3-1706254608807:blk_1073742554_1730 len=67108864 Live_repl=1  [DatanodeInfoWithStorage[127.0.0.1:9866,DS-16774d13-cf92-478b-9b30-c7794943f0f1,DISK]]\n",
      "25. BP-1463716262-172.19.0.3-1706254608807:blk_1073742555_1731 len=67108864 Live_repl=1  [DatanodeInfoWithStorage[127.0.0.1:9866,DS-16774d13-cf92-478b-9b30-c7794943f0f1,DISK]]\n",
      "26. BP-1463716262-172.19.0.3-1706254608807:blk_1073742556_1732 len=67108864 Live_repl=1  [DatanodeInfoWithStorage[127.0.0.1:9866,DS-16774d13-cf92-478b-9b30-c7794943f0f1,DISK]]\n",
      "27. BP-1463716262-172.19.0.3-1706254608807:blk_1073742557_1733 len=67108864 Live_repl=1  [DatanodeInfoWithStorage[127.0.0.1:9866,DS-16774d13-cf92-478b-9b30-c7794943f0f1,DISK]]\n",
      "28. BP-1463716262-172.19.0.3-1706254608807:blk_1073742558_1734 len=6731010 Live_repl=1  [DatanodeInfoWithStorage[127.0.0.1:9866,DS-16774d13-cf92-478b-9b30-c7794943f0f1,DISK]]\n",
      "\n",
      "\n",
      "Status: HEALTHY\n",
      " Number of data-nodes:\t1\n",
      " Number of racks:\t\t1\n",
      " Total dirs:\t\t\t1\n",
      " Total symlinks:\t\t0\n",
      "\n",
      "Replicated Blocks:\n",
      " Total size:\t1885779202 B\n",
      " Total files:\t1\n",
      " Total blocks (validated):\t29 (avg. block size 65026869 B)\n",
      " Minimally replicated blocks:\t29 (100.0 %)\n",
      " Over-replicated blocks:\t0 (0.0 %)\n",
      " Under-replicated blocks:\t29 (100.0 %)\n",
      " Mis-replicated blocks:\t\t0 (0.0 %)\n",
      " Default replication factor:\t1\n",
      " Average block replication:\t1.0\n",
      " Missing blocks:\t\t0\n",
      " Corrupt blocks:\t\t0\n",
      " Missing replicas:\t\t29 (50.0 %)\n",
      " Blocks queued for replication:\t0\n",
      "\n",
      "Erasure Coded Block Groups:\n",
      " Total size:\t0 B\n",
      " Total files:\t0\n",
      " Total block groups (validated):\t0\n",
      " Minimally erasure-coded block groups:\t0\n",
      " Over-erasure-coded block groups:\t0\n",
      " Under-erasure-coded block groups:\t0\n",
      " Unsatisfactory placement block groups:\t0\n",
      " Average block group size:\t0.0\n",
      " Missing block groups:\t\t0\n",
      " Corrupt block groups:\t\t0\n",
      " Missing internal blocks:\t0\n",
      " Blocks queued for replication:\t0\n",
      "FSCK ended at Sun Jan 28 22:56:08 GMT 2024 in 2 milliseconds\n",
      "\n",
      "\n",
      "The filesystem under path '/user/itversity/crime/csv' is HEALTHY\n"
     ]
    },
    {
     "name": "stderr",
     "output_type": "stream",
     "text": [
      "Connecting to namenode via http://localhost:9870/fsck?ugi=itversity&files=1&blocks=1&locations=1&path=%2Fuser%2Fitversity%2Fcrime%2Fcsv\n"
     ]
    }
   ],
   "source": [
    "%%sh\n",
    "\n",
    "hdfs fsck /user/`whoami`/crime/csv -files -blocks -locations"
   ]
  },
  {
   "cell_type": "code",
   "execution_count": 39,
   "id": "6436f955-d67f-4e38-bda4-79b5de237fed",
   "metadata": {},
   "outputs": [
    {
     "name": "stdout",
     "output_type": "stream",
     "text": [
      "2\n"
     ]
    }
   ],
   "source": [
    "%%sh\n",
    "\n",
    "hdfs dfs -stat %r /user/`whoami`/crime/csv/rows.csv"
   ]
  },
  {
   "cell_type": "code",
   "execution_count": 40,
   "id": "69b14163-b144-4be0-b08c-c6714e9fa71f",
   "metadata": {},
   "outputs": [
    {
     "name": "stdout",
     "output_type": "stream",
     "text": [
      "67108864\n"
     ]
    }
   ],
   "source": [
    "%%sh\n",
    "\n",
    "hdfs dfs -stat %o /user/`whoami`/crime/csv/rows.csv"
   ]
  },
  {
   "cell_type": "code",
   "execution_count": 41,
   "id": "059507c5-9937-4c7a-8353-e8afd204dfc1",
   "metadata": {},
   "outputs": [
    {
     "name": "stdout",
     "output_type": "stream",
     "text": [
      "1885779202\n"
     ]
    }
   ],
   "source": [
    "%%sh\n",
    "\n",
    "hdfs dfs -stat %b /user/`whoami`/crime/csv/rows.csv"
   ]
  },
  {
   "cell_type": "code",
   "execution_count": 42,
   "id": "08279811-40d5-4103-a768-603676af23be",
   "metadata": {},
   "outputs": [
    {
     "name": "stdout",
     "output_type": "stream",
     "text": [
      "total 164\n",
      "-rw-r--r-- 1 itversity itversity    10 Jul  6  2020 workers\n",
      "-rw-r--r-- 1 itversity itversity  2697 Jul  6  2020 ssl-server.xml.example\n",
      "-rw-r--r-- 1 itversity itversity  2316 Jul  6  2020 ssl-client.xml.example\n",
      "drwxr-xr-x 2 itversity itversity  4096 Jul  6  2020 shellprofile.d\n",
      "-rw-r--r-- 1 itversity itversity 14032 Jul  6  2020 log4j.properties\n",
      "-rw-r--r-- 1 itversity itversity  3414 Jul  6  2020 hadoop-user-functions.sh.example\n",
      "-rw-r--r-- 1 itversity itversity 11765 Jul  6  2020 hadoop-policy.xml\n",
      "-rw-r--r-- 1 itversity itversity  3321 Jul  6  2020 hadoop-metrics2.properties\n",
      "-rw-r--r-- 1 itversity itversity  3999 Jul  6  2020 hadoop-env.cmd\n",
      "-rw-r--r-- 1 itversity itversity   682 Jul  6  2020 kms-site.xml\n",
      "-rw-r--r-- 1 itversity itversity  1860 Jul  6  2020 kms-log4j.properties\n",
      "-rw-r--r-- 1 itversity itversity  1351 Jul  6  2020 kms-env.sh\n",
      "-rw-r--r-- 1 itversity itversity  3518 Jul  6  2020 kms-acls.xml\n",
      "-rw-r--r-- 1 itversity itversity  2681 Jul  6  2020 user_ec_policies.xml.template\n",
      "-rw-r--r-- 1 itversity itversity   620 Jul  6  2020 httpfs-site.xml\n",
      "-rw-r--r-- 1 itversity itversity  1657 Jul  6  2020 httpfs-log4j.properties\n",
      "-rw-r--r-- 1 itversity itversity  1484 Jul  6  2020 httpfs-env.sh\n",
      "-rw-r--r-- 1 itversity itversity   683 Jul  6  2020 hdfs-rbf-site.xml\n",
      "-rw-r--r-- 1 itversity itversity  2591 Jul  6  2020 yarnservice-log4j.properties\n",
      "-rw-r--r-- 1 itversity itversity  6329 Jul  6  2020 yarn-env.sh\n",
      "-rw-r--r-- 1 itversity itversity  2250 Jul  6  2020 yarn-env.cmd\n",
      "-rw-r--r-- 1 itversity itversity  2567 Jul  6  2020 container-executor.cfg\n",
      "-rw-r--r-- 1 itversity itversity  9213 Jul  6  2020 capacity-scheduler.xml\n",
      "-rw-r--r-- 1 itversity itversity  4113 Jul  6  2020 mapred-queues.xml.template\n",
      "-rw-r--r-- 1 itversity itversity  1764 Jul  6  2020 mapred-env.sh\n",
      "-rw-r--r-- 1 itversity itversity   951 Jul  6  2020 mapred-env.cmd\n",
      "-rw-r--r-- 1 itversity itversity  1335 Jul  6  2020 configuration.xsl\n",
      "-rw-r--r-- 1 itversity itversity   388 Jan 26 07:36 yarn-site.xml\n",
      "-rw-r--r-- 1 itversity itversity   323 Jan 26 07:36 mapred-site.xml\n",
      "-rw-r--r-- 1 itversity itversity   495 Jan 26 07:36 hdfs-site.xml\n",
      "-rw-r--r-- 1 itversity itversity   108 Jan 26 07:36 hadoop-env.sh\n",
      "-rw-r--r-- 1 itversity itversity   143 Jan 26 07:36 core-site.xml\n"
     ]
    }
   ],
   "source": [
    "%%sh\n",
    "\n",
    "ls -ltr /etc/hadoop/conf/"
   ]
  },
  {
   "cell_type": "code",
   "execution_count": 43,
   "id": "0155ee59-097e-4cc5-8c9f-8c44f42a17db",
   "metadata": {},
   "outputs": [
    {
     "name": "stdout",
     "output_type": "stream",
     "text": [
      "<configuration>\n",
      "    <property>\n",
      "        <name>dfs.namenode.name.dir</name>\n",
      "        <value>/opt/hadoop/dfs/name</value>\n",
      "    </property>\n",
      "    <property>\n",
      "        <name>dfs.namenode.checkpoint.dir</name>\n",
      "        <value>/opt/hadoop/dfs/namesecondary</value>\n",
      "    </property>\n",
      "    <property>\n",
      "        <name>dfs.datanode.data.dir</name>\n",
      "        <value>/opt/hadoop/dfs/data</value>\n",
      "    </property>\n",
      "    <property>\n",
      "        <name>dfs.replication</name>\n",
      "        <value>1</value>\n",
      "    </property>\n",
      "</configuration>\n"
     ]
    }
   ],
   "source": [
    "%%sh \n",
    "\n",
    "cat /etc/hadoop/conf/hdfs-site.xml"
   ]
  },
  {
   "cell_type": "markdown",
   "id": "a6a2fb2d-71cb-41db-952d-72b9e93116ae",
   "metadata": {},
   "source": [
    "*************************************************************"
   ]
  },
  {
   "cell_type": "markdown",
   "id": "010cd359-a4ce-4c7e-be94-c01b6b63a4ec",
   "metadata": {},
   "source": [
    "*** configuration file example"
   ]
  },
  {
   "cell_type": "markdown",
   "id": "2b92ac8b-c556-474f-9d0a-812864075ba5",
   "metadata": {},
   "source": [
    "*************************************************************"
   ]
  },
  {
   "cell_type": "markdown",
   "id": "4365cbec-e9b8-450f-8fa6-d21402208de1",
   "metadata": {},
   "source": [
    "  <configuration>\n",
    "    \n",
    "    <property>\n",
    "      <name>dfs.block.access.token.enable</name>\n",
    "      <value>true</value>\n",
    "    </property>\n",
    "    \n",
    "    <property>\n",
    "      <name>dfs.blockreport.initialDelay</name>\n",
    "      <value>120</value>\n",
    "    </property>\n",
    "    \n",
    "    <property>\n",
    "      <name>dfs.blocksize</name>\n",
    "      <value>134217728</value>\n",
    "    </property>\n",
    "    \n",
    "    <property>\n",
    "      <name>dfs.client.read.shortcircuit</name>\n",
    "      <value>true</value>\n",
    "    </property>\n",
    "    \n",
    "    <property>\n",
    "      <name>dfs.client.read.shortcircuit.streams.cache.size</name>\n",
    "      <value>4096</value>\n",
    "    </property>\n",
    "    \n",
    "    <property>\n",
    "      <name>dfs.client.retry.policy.enabled</name>\n",
    "      <value>false</value>\n",
    "    </property>\n",
    "    \n",
    "    <property>\n",
    "      <name>dfs.cluster.administrators</name>\n",
    "      <value> hdfs</value>\n",
    "    </property>\n",
    "    \n",
    "    <property>\n",
    "      <name>dfs.content-summary.limit</name>\n",
    "      <value>5000</value>\n",
    "    </property>\n",
    "    \n",
    "    <property>\n",
    "      <name>dfs.datanode.address</name>\n",
    "      <value>0.0.0.0:50010</value>\n",
    "    </property>\n",
    "    \n",
    "    <property>\n",
    "      <name>dfs.datanode.balance.bandwidthPerSec</name>\n",
    "      <value>6250000</value>\n",
    "    </property>\n",
    "    \n",
    "    <property>\n",
    "      <name>dfs.datanode.data.dir</name>\n",
    "      <value>/hdp01/hadoop/hdfs/data,/hdp02/hadoop/hdfs/data</value>\n",
    "    </property>\n",
    "    \n",
    "    <property>\n",
    "      <name>dfs.datanode.data.dir.perm</name>\n",
    "      <value>750</value>\n",
    "    </property>\n",
    "    \n",
    "    <property>\n",
    "      <name>dfs.datanode.du.reserved</name>\n",
    "      <value>2563350016</value>\n",
    "    </property>\n",
    "    \n",
    "    <property>\n",
    "      <name>dfs.datanode.failed.volumes.tolerated</name>\n",
    "      <value>0</value>\n",
    "    </property>\n",
    "    \n",
    "    <property>\n",
    "      <name>dfs.datanode.http.address</name>\n",
    "      <value>0.0.0.0:50075</value>\n",
    "    </property>\n",
    "    \n",
    "    <property>\n",
    "      <name>dfs.datanode.https.address</name>\n",
    "      <value>0.0.0.0:50475</value>\n",
    "    </property>\n",
    "    \n",
    "    <property>\n",
    "      <name>dfs.datanode.ipc.address</name>\n",
    "      <value>0.0.0.0:8010</value>\n",
    "    </property>\n",
    "    \n",
    "    <property>\n",
    "      <name>dfs.datanode.max.transfer.threads</name>\n",
    "      <value>4096</value>\n",
    "    </property>\n",
    "    \n",
    "    <property>\n",
    "      <name>dfs.domain.socket.path</name>\n",
    "      <value>/var/lib/hadoop-hdfs/dn_socket</value>\n",
    "    </property>\n",
    "    \n",
    "    <property>\n",
    "      <name>dfs.encrypt.data.transfer.cipher.suites</name>\n",
    "      <value>AES/CTR/NoPadding</value>\n",
    "    </property>\n",
    "    \n",
    "    <property>\n",
    "      <name>dfs.heartbeat.interval</name>\n",
    "      <value>3</value>\n",
    "    </property>\n",
    "    \n",
    "    <property>\n",
    "      <name>dfs.hosts.exclude</name>\n",
    "      <value>/etc/hadoop/conf/dfs.exclude</value>\n",
    "    </property>\n",
    "    \n",
    "    <property>\n",
    "      <name>dfs.http.policy</name>\n",
    "      <value>HTTP_ONLY</value>\n",
    "    </property>\n",
    "    \n",
    "    <property>\n",
    "      <name>dfs.https.port</name>\n",
    "      <value>50470</value>\n",
    "    </property>\n",
    "    \n",
    "    <property>\n",
    "      <name>dfs.journalnode.edits.dir</name>\n",
    "      <value>/hadoop/hdfs/journalnode</value>\n",
    "    </property>\n",
    "    \n",
    "    <property>\n",
    "      <name>dfs.journalnode.http-address</name>\n",
    "      <value>0.0.0.0:8480</value>\n",
    "    </property>\n",
    "    \n",
    "    <property>\n",
    "      <name>dfs.journalnode.https-address</name>\n",
    "      <value>0.0.0.0:8481</value>\n",
    "    </property>\n",
    "    \n",
    "    <property>\n",
    "      <name>dfs.namenode.accesstime.precision</name>\n",
    "      <value>3600000</value>\n",
    "    </property>\n",
    "    \n",
    "    <property>\n",
    "      <name>dfs.namenode.audit.log.async</name>\n",
    "      <value>true</value>\n",
    "    </property>\n",
    "    \n",
    "    <property>\n",
    "      <name>dfs.namenode.avoid.read.stale.datanode</name>\n",
    "      <value>true</value>\n",
    "    </property>\n",
    "    \n",
    "    <property>\n",
    "      <name>dfs.namenode.avoid.write.stale.datanode</name>\n",
    "      <value>true</value>\n",
    "    </property>\n",
    "    \n",
    "    <property>\n",
    "      <name>dfs.namenode.checkpoint.dir</name>\n",
    "      <value>/var/hadoop/hdfs/namesecondary</value>\n",
    "    </property>\n",
    "    \n",
    "    <property>\n",
    "      <name>dfs.namenode.checkpoint.edits.dir</name>\n",
    "      <value>${dfs.namenode.checkpoint.dir}</value>\n",
    "    </property>\n",
    "    \n",
    "    <property>\n",
    "      <name>dfs.namenode.checkpoint.period</name>\n",
    "      <value>21600</value>\n",
    "    </property>\n",
    "    \n",
    "    <property>\n",
    "      <name>dfs.namenode.checkpoint.txns</name>\n",
    "      <value>1000000</value>\n",
    "    </property>\n",
    "    \n",
    "    <property>\n",
    "      <name>dfs.namenode.fslock.fair</name>\n",
    "      <value>false</value>\n",
    "    </property>\n",
    "    \n",
    "    <property>\n",
    "      <name>dfs.namenode.handler.count</name>\n",
    "      <value>200</value>\n",
    "    </property>\n",
    "    \n",
    "    <property>\n",
    "      <name>dfs.namenode.http-address</name>\n",
    "      <value>172.16.1.101:50070</value>\n",
    "    </property>\n",
    "    \n",
    "    <property>\n",
    "      <name>dfs.namenode.https-address</name>\n",
    "      <value>nn01.itversity.com:50470</value>\n",
    "    </property>\n",
    "    \n",
    "    <property>\n",
    "      <name>dfs.namenode.name.dir</name>\n",
    "      <value>/hdp01/hadoop/hdfs/namenode,/hdp02/hadoop/hdfs/namenode</value>\n",
    "    </property>\n",
    "    \n",
    "    <property>\n",
    "      <name>dfs.namenode.name.dir.restore</name>\n",
    "      <value>true</value>\n",
    "    </property>\n",
    "    \n",
    "    <property>\n",
    "      <name>dfs.namenode.rpc-address</name>\n",
    "      <value>nn01.itversity.com:8020</value>\n",
    "    </property>\n",
    "    \n",
    "    <property>\n",
    "      <name>dfs.namenode.safemode.threshold-pct</name>\n",
    "      <value>1</value>\n",
    "    </property>\n",
    "    \n",
    "    <property>\n",
    "      <name>dfs.namenode.secondary.http-address</name>\n",
    "      <value>nn02.itversity.com:50090</value>\n",
    "    </property>\n",
    "    \n",
    "    <property>\n",
    "      <name>dfs.namenode.stale.datanode.interval</name>\n",
    "      <value>30000</value>\n",
    "    </property>\n",
    "    \n",
    "    <property>\n",
    "      <name>dfs.namenode.startup.delay.block.deletion.sec</name>\n",
    "      <value>3600</value>\n",
    "    </property>\n",
    "    \n",
    "    <property>\n",
    "      <name>dfs.namenode.write.stale.datanode.ratio</name>\n",
    "      <value>1.0f</value>\n",
    "    </property>\n",
    "    \n",
    "    <property>\n",
    "      <name>dfs.permissions.enabled</name>\n",
    "      <value>true</value>\n",
    "    </property>\n",
    "    \n",
    "    <property>\n",
    "      <name>dfs.permissions.superusergroup</name>\n",
    "      <value>hdfs</value>\n",
    "    </property>\n",
    "    \n",
    "    <property>\n",
    "      <name>dfs.replication</name>\n",
    "      <value>2</value>\n",
    "    </property>\n",
    "    \n",
    "    <property>\n",
    "      <name>dfs.replication.max</name>\n",
    "      <value>50</value>\n",
    "    </property>\n",
    "    \n",
    "    <property>\n",
    "      <name>dfs.support.append</name>\n",
    "      <value>true</value>\n",
    "    </property>\n",
    "    \n",
    "    <property>\n",
    "      <name>dfs.webhdfs.enabled</name>\n",
    "      <value>true</value>\n",
    "    </property>\n",
    "    \n",
    "    <property>\n",
    "      <name>fs.permissions.umask-mode</name>\n",
    "      <value>022</value>\n",
    "    </property>\n",
    "    \n",
    "    <property>\n",
    "      <name>nfs.exports.allowed.hosts</name>\n",
    "      <value>* rw</value>\n",
    "    </property>\n",
    "    \n",
    "    <property>\n",
    "      <name>nfs.file.dump.dir</name>\n",
    "      <value>/tmp/.hdfs-nfs</value>\n",
    "    </property>\n",
    "    \n",
    "  </configuration>"
   ]
  },
  {
   "cell_type": "code",
   "execution_count": null,
   "id": "fe9eb71a-dc8d-45b3-b897-5de810ddc8ca",
   "metadata": {},
   "outputs": [],
   "source": []
  },
  {
   "cell_type": "code",
   "execution_count": null,
   "id": "89a2c994-4a42-4fba-a855-1d376cdcc19a",
   "metadata": {},
   "outputs": [],
   "source": []
  }
 ],
 "metadata": {
  "kernelspec": {
   "display_name": "Python 3",
   "language": "python",
   "name": "python3"
  },
  "language_info": {
   "codemirror_mode": {
    "name": "ipython",
    "version": 3
   },
   "file_extension": ".py",
   "mimetype": "text/x-python",
   "name": "python",
   "nbconvert_exporter": "python",
   "pygments_lexer": "ipython3",
   "version": "3.6.9"
  }
 },
 "nbformat": 4,
 "nbformat_minor": 5
}
