{
 "cells": [
  {
   "cell_type": "markdown",
   "id": "e7794d49-a976-4c9f-bd34-b340b8fdfc89",
   "metadata": {},
   "source": [
    "### HDFS Replication Factor"
   ]
  },
  {
   "cell_type": "markdown",
   "id": "4f5da354-b14b-4f46-b791-f34a849eb9d8",
   "metadata": {},
   "source": [
    "** hdfs fsck command to find the blocks to used by files in HDFS files system."
   ]
  },
  {
   "cell_type": "code",
   "execution_count": 2,
   "id": "d94b587a-701b-4471-b222-cf8631d97614",
   "metadata": {},
   "outputs": [
    {
     "name": "stdout",
     "output_type": "stream",
     "text": [
      "Found 1 items\n",
      "-rw-r--r--   1 itversity supergroup      2.9 M 2024-01-28 16:56 /public/retail_db/orders/part-00000\n"
     ]
    }
   ],
   "source": [
    "%%sh\n",
    "\n",
    "hdfs dfs -ls -h /public/retail_db/orders"
   ]
  },
  {
   "cell_type": "code",
   "execution_count": 4,
   "id": "16d36371-47b6-4f3d-a5b9-4e91d03a61ef",
   "metadata": {},
   "outputs": [
    {
     "name": "stdout",
     "output_type": "stream",
     "text": [
      "FSCK started by itversity (auth:SIMPLE) from /127.0.0.1 for path /public/retail_db/orders/part-00000 at Sun Jan 28 19:45:37 GMT 2024\n",
      "\n",
      "/public/retail_db/orders/part-00000 2999944 bytes, replicated: replication=1, 1 block(s):  OK\n",
      "0. BP-1463716262-172.19.0.3-1706254608807:blk_1073742414_1590 len=2999944 Live_repl=1  [DatanodeInfoWithStorage[127.0.0.1:9866,DS-16774d13-cf92-478b-9b30-c7794943f0f1,DISK]]\n",
      "\n",
      "\n",
      "Status: HEALTHY\n",
      " Number of data-nodes:\t1\n",
      " Number of racks:\t\t1\n",
      " Total dirs:\t\t\t0\n",
      " Total symlinks:\t\t0\n",
      "\n",
      "Replicated Blocks:\n",
      " Total size:\t2999944 B\n",
      " Total files:\t1\n",
      " Total blocks (validated):\t1 (avg. block size 2999944 B)\n",
      " Minimally replicated blocks:\t1 (100.0 %)\n",
      " Over-replicated blocks:\t0 (0.0 %)\n",
      " Under-replicated blocks:\t0 (0.0 %)\n",
      " Mis-replicated blocks:\t\t0 (0.0 %)\n",
      " Default replication factor:\t1\n",
      " Average block replication:\t1.0\n",
      " Missing blocks:\t\t0\n",
      " Corrupt blocks:\t\t0\n",
      " Missing replicas:\t\t0 (0.0 %)\n",
      " Blocks queued for replication:\t0\n",
      "\n",
      "Erasure Coded Block Groups:\n",
      " Total size:\t0 B\n",
      " Total files:\t0\n",
      " Total block groups (validated):\t0\n",
      " Minimally erasure-coded block groups:\t0\n",
      " Over-erasure-coded block groups:\t0\n",
      " Under-erasure-coded block groups:\t0\n",
      " Unsatisfactory placement block groups:\t0\n",
      " Average block group size:\t0.0\n",
      " Missing block groups:\t\t0\n",
      " Corrupt block groups:\t\t0\n",
      " Missing internal blocks:\t0\n",
      " Blocks queued for replication:\t0\n",
      "FSCK ended at Sun Jan 28 19:45:37 GMT 2024 in 2 milliseconds\n",
      "\n",
      "\n",
      "The filesystem under path '/public/retail_db/orders/part-00000' is HEALTHY\n"
     ]
    },
    {
     "name": "stderr",
     "output_type": "stream",
     "text": [
      "Connecting to namenode via http://localhost:9870/fsck?ugi=itversity&files=1&blocks=1&locations=1&path=%2Fpublic%2Fretail_db%2Forders%2Fpart-00000\n"
     ]
    }
   ],
   "source": [
    "%%sh\n",
    "\n",
    "hdfs fsck /public/retail_db/orders/part-00000 \\\n",
    "    -files \\\n",
    "    -blocks \\\n",
    "    -locations"
   ]
  },
  {
   "cell_type": "code",
   "execution_count": 5,
   "id": "d848538c-07a3-41dc-a545-8adea083dba8",
   "metadata": {},
   "outputs": [
    {
     "name": "stdout",
     "output_type": "stream",
     "text": [
      "    <property>\n",
      "        <name>dfs.replication</name>\n",
      "        <value>1</value>\n",
      "    </property>\n",
      "</configuration>\n"
     ]
    }
   ],
   "source": [
    "%%sh\n",
    "\n",
    "grep -B 1 -A 3 replication /etc/hadoop/conf/hdfs-site.xml"
   ]
  },
  {
   "cell_type": "markdown",
   "id": "6db43b97-c761-42c6-831f-a28c3d1fa398",
   "metadata": {},
   "source": [
    "* Let us determine overall size occupied by /data/retail_db/orders/part-00000 when it is copied to HDFS.\n",
    "* It occupies 5.8 MB storage in HDFS (if our replication factor is 2)."
   ]
  },
  {
   "cell_type": "code",
   "execution_count": 6,
   "id": "70d86afa-73fa-4f00-80ea-28a9f0c625c2",
   "metadata": {},
   "outputs": [
    {
     "name": "stdout",
     "output_type": "stream",
     "text": [
      "-rw-r--r-- 1 itversity itversity 2.9M Jan 26 05:06 /data/retail_db/orders/part-00000\n"
     ]
    }
   ],
   "source": [
    "%%sh\n",
    "\n",
    "ls -lhtr /data/retail_db/orders/part-00000"
   ]
  },
  {
   "cell_type": "code",
   "execution_count": 7,
   "id": "9e0d1e57-4a33-41de-a915-38dded38ae35",
   "metadata": {},
   "outputs": [
    {
     "name": "stdout",
     "output_type": "stream",
     "text": [
      "-stat [format] <path> ... :\n",
      "  Print statistics about the file/directory at <path>\n",
      "  in the specified format. Format accepts permissions in\n",
      "  octal (%a) and symbolic (%A), filesize in\n",
      "  bytes (%b), type (%F), group name of owner (%g),\n",
      "  name (%n), block size (%o), replication (%r), user name\n",
      "  of owner (%u), access date (%x, %X).\n",
      "  modification date (%y, %Y).\n",
      "  %x and %y show UTC date as \"yyyy-MM-dd HH:mm:ss\" and\n",
      "  %X and %Y show milliseconds since January 1, 1970 UTC.\n",
      "  If the format is not specified, %y is used by default.\n"
     ]
    }
   ],
   "source": [
    "%%sh\n",
    "\n",
    "hdfs dfs -help stat"
   ]
  },
  {
   "cell_type": "code",
   "execution_count": null,
   "id": "8bd3887c-b072-4da1-83be-e18396cbc860",
   "metadata": {},
   "outputs": [],
   "source": [
    "# %r for replication count"
   ]
  },
  {
   "cell_type": "code",
   "execution_count": 12,
   "id": "6fe11cee-3bc4-4a7c-8ffc-73b75362f372",
   "metadata": {},
   "outputs": [
    {
     "name": "stdout",
     "output_type": "stream",
     "text": [
      "1\n"
     ]
    }
   ],
   "source": [
    "%%sh\n",
    "\n",
    "hdfs dfs -stat %r /user/`whoami`/retail_db/orders/part-00000"
   ]
  },
  {
   "cell_type": "code",
   "execution_count": null,
   "id": "5de38f02-cf60-4c84-8525-8b7b4aa58193",
   "metadata": {},
   "outputs": [],
   "source": [
    "# %o for block size. in this it is using 128MB as block size"
   ]
  },
  {
   "cell_type": "code",
   "execution_count": 10,
   "id": "bfb6a139-c164-4419-b1e4-cddc9823c46b",
   "metadata": {},
   "outputs": [
    {
     "name": "stdout",
     "output_type": "stream",
     "text": [
      "134217728\n"
     ]
    }
   ],
   "source": [
    "%%sh\n",
    "\n",
    "hdfs dfs -stat %o /user/`whoami`/retail_db/orders/part-00000"
   ]
  },
  {
   "cell_type": "code",
   "execution_count": null,
   "id": "aa8c0e96-e8e7-40bf-9f7d-626d2423a0bb",
   "metadata": {},
   "outputs": [],
   "source": [
    "# %b for file size in bytes \n",
    "\n",
    "it actually take only 2.8 MB size of space as it is smaller than blocksize"
   ]
  },
  {
   "cell_type": "code",
   "execution_count": 14,
   "id": "f6a458a9-0781-44d3-a6ba-2c4ace281b61",
   "metadata": {},
   "outputs": [
    {
     "name": "stdout",
     "output_type": "stream",
     "text": [
      "2999944\n"
     ]
    }
   ],
   "source": [
    "%%sh\n",
    "\n",
    "hdfs dfs -stat %b /user/`whoami`/retail_db/orders/part-00000"
   ]
  },
  {
   "cell_type": "code",
   "execution_count": null,
   "id": "d4288d61-9388-4198-bd90-a31f3d00edcc",
   "metadata": {},
   "outputs": [],
   "source": [
    "%%sh\n",
    "\n",
    "ls -lhtr /data/yelp-dataset-json/yelp_academic_dataset_user.json"
   ]
  },
  {
   "cell_type": "code",
   "execution_count": null,
   "id": "b69fd3b2-3266-4e8c-ad00-92cdd3512340",
   "metadata": {},
   "outputs": [],
   "source": []
  }
 ],
 "metadata": {
  "kernelspec": {
   "display_name": "Python 3",
   "language": "python",
   "name": "python3"
  },
  "language_info": {
   "codemirror_mode": {
    "name": "ipython",
    "version": 3
   },
   "file_extension": ".py",
   "mimetype": "text/x-python",
   "name": "python",
   "nbconvert_exporter": "python",
   "pygments_lexer": "ipython3",
   "version": "3.6.9"
  }
 },
 "nbformat": 4,
 "nbformat_minor": 5
}
