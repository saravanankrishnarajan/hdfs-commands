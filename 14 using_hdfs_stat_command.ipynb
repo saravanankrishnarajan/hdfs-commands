{
 "cells": [
  {
   "cell_type": "markdown",
   "id": "ab406964-c5a9-4b2a-9ce0-de601164cd63",
   "metadata": {},
   "source": [
    "### Using HDFS Stat Commands"
   ]
  },
  {
   "cell_type": "markdown",
   "id": "376258bb-6227-423d-8046-78ff9db863e1",
   "metadata": {},
   "source": [
    "* hdfs dfs -stat can be used to get the statistics related to file or directory."
   ]
  },
  {
   "cell_type": "code",
   "execution_count": 1,
   "id": "d137a831-43fa-4b83-b2d2-dacc291982cb",
   "metadata": {},
   "outputs": [
    {
     "name": "stdout",
     "output_type": "stream",
     "text": [
      "-stat [format] <path> ... :\n",
      "  Print statistics about the file/directory at <path>\n",
      "  in the specified format. Format accepts permissions in\n",
      "  octal (%a) and symbolic (%A), filesize in\n",
      "  bytes (%b), type (%F), group name of owner (%g),\n",
      "  name (%n), block size (%o), replication (%r), user name\n",
      "  of owner (%u), access date (%x, %X).\n",
      "  modification date (%y, %Y).\n",
      "  %x and %y show UTC date as \"yyyy-MM-dd HH:mm:ss\" and\n",
      "  %X and %Y show milliseconds since January 1, 1970 UTC.\n",
      "  If the format is not specified, %y is used by default.\n"
     ]
    }
   ],
   "source": [
    "%%sh\n",
    "\n",
    "hdfs dfs -help stat"
   ]
  },
  {
   "cell_type": "code",
   "execution_count": 3,
   "id": "052d9cff-79c7-45aa-9758-12514c28cccc",
   "metadata": {},
   "outputs": [
    {
     "name": "stdout",
     "output_type": "stream",
     "text": [
      "2024-01-28 19:11:09\n"
     ]
    }
   ],
   "source": [
    "%%sh \n",
    "\n",
    "hdfs dfs -stat /user/`whoami`/retail_db/orders"
   ]
  },
  {
   "cell_type": "code",
   "execution_count": 4,
   "id": "3952518f-cf70-4b9e-afd2-a7d68df81cda",
   "metadata": {},
   "outputs": [
    {
     "name": "stdout",
     "output_type": "stream",
     "text": [
      "2999944\n"
     ]
    }
   ],
   "source": [
    "%%sh \n",
    "\n",
    "hdfs dfs -stat %b /user/`whoami`/retail_db/orders/part-00000"
   ]
  },
  {
   "cell_type": "code",
   "execution_count": 6,
   "id": "c084b64d-4eb0-4813-800d-f5883f0253bd",
   "metadata": {},
   "outputs": [
    {
     "name": "stdout",
     "output_type": "stream",
     "text": [
      "regular file\n"
     ]
    }
   ],
   "source": [
    "%%sh \n",
    "\n",
    "hdfs dfs -stat %F /user/`whoami`/retail_db/orders/part-00000"
   ]
  },
  {
   "cell_type": "code",
   "execution_count": 7,
   "id": "1034808f-118d-4ab5-85b1-8a1892cedf94",
   "metadata": {},
   "outputs": [
    {
     "name": "stdout",
     "output_type": "stream",
     "text": [
      "0\n"
     ]
    }
   ],
   "source": [
    "%%sh \n",
    "\n",
    "hdfs dfs -stat %b /user/`whoami`/retail_db/orders/"
   ]
  },
  {
   "cell_type": "code",
   "execution_count": 8,
   "id": "3b217d29-0659-4775-a157-0956f80b08d9",
   "metadata": {},
   "outputs": [
    {
     "name": "stdout",
     "output_type": "stream",
     "text": [
      "134217728\n"
     ]
    }
   ],
   "source": [
    "%%sh \n",
    "\n",
    "hdfs dfs -stat %o /user/`whoami`/retail_db/orders/part-00000"
   ]
  },
  {
   "cell_type": "code",
   "execution_count": 9,
   "id": "c8cf1ca5-2ca7-4fa3-ab99-fab56d7a7472",
   "metadata": {},
   "outputs": [
    {
     "name": "stdout",
     "output_type": "stream",
     "text": [
      "1\n"
     ]
    }
   ],
   "source": [
    "%%sh \n",
    "\n",
    "hdfs dfs -stat %r /user/`whoami`/retail_db/orders/part-00000"
   ]
  },
  {
   "cell_type": "code",
   "execution_count": null,
   "id": "17582de8-13ce-4bed-977b-d7ad6f08d49e",
   "metadata": {},
   "outputs": [],
   "source": []
  }
 ],
 "metadata": {
  "kernelspec": {
   "display_name": "Python 3",
   "language": "python",
   "name": "python3"
  },
  "language_info": {
   "codemirror_mode": {
    "name": "ipython",
    "version": 3
   },
   "file_extension": ".py",
   "mimetype": "text/x-python",
   "name": "python",
   "nbconvert_exporter": "python",
   "pygments_lexer": "ipython3",
   "version": "3.6.9"
  }
 },
 "nbformat": 4,
 "nbformat_minor": 5
}
