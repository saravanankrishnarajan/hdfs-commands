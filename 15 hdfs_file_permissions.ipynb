{
 "cells": [
  {
   "cell_type": "markdown",
   "id": "774d55cd-63ef-44e5-944c-3f48d2b33a6a",
   "metadata": {},
   "source": [
    "### HDFS File Permission"
   ]
  },
  {
   "cell_type": "markdown",
   "id": "d487ad03-8d36-4e04-8961-6ef49653c78c",
   "metadata": {},
   "source": [
    "* hadoop fs -chmod or hdfs dfs -chmod command to change the permission of files in HDFS "
   ]
  },
  {
   "cell_type": "code",
   "execution_count": 7,
   "id": "c007a38a-2733-416e-bb8d-722aa66564d3",
   "metadata": {},
   "outputs": [
    {
     "name": "stdout",
     "output_type": "stream",
     "text": [
      "-chmod [-R] <MODE[,MODE]... | OCTALMODE> PATH... :\n",
      "  Changes permissions of a file. This works similar to the shell's chmod command\n",
      "  with a few exceptions.\n",
      "                                                                                 \n",
      "  -R           modifies the files recursively. This is the only option currently \n",
      "               supported.                                                        \n",
      "  <MODE>       Mode is the same as mode used for the shell's command. The only   \n",
      "               letters recognized are 'rwxXt', e.g. +t,a+r,g-w,+rwx,o=r.         \n",
      "  <OCTALMODE>  Mode specifed in 3 or 4 digits. If 4 digits, the first may be 1 or\n",
      "               0 to turn the sticky bit on or off, respectively.  Unlike the     \n",
      "               shell command, it is not possible to specify only part of the     \n",
      "               mode, e.g. 754 is same as u=rwx,g=rx,o=r.                         \n",
      "  \n",
      "  If none of 'augo' is specified, 'a' is assumed and unlike the shell command, no\n",
      "  umask is applied.\n"
     ]
    }
   ],
   "source": [
    "%%sh\n",
    "\n",
    "hdfs dfs -help chmod"
   ]
  },
  {
   "cell_type": "code",
   "execution_count": 1,
   "id": "5718f315-0957-4aed-b9dc-9a45fa934c0e",
   "metadata": {},
   "outputs": [
    {
     "name": "stdout",
     "output_type": "stream",
     "text": [
      "Found 9 items\n",
      "drwxr-xr-x   - itversity supergroup          0 2024-01-28 19:11 /user/itversity/retail_db/categories\n",
      "-rw-r--r--   1 itversity supergroup   10303297 2024-01-28 19:11 /user/itversity/retail_db/create_db.sql\n",
      "-rw-r--r--   1 itversity supergroup       1748 2024-01-28 19:11 /user/itversity/retail_db/create_db_tables_pg.sql\n",
      "drwxr-xr-x   - itversity supergroup          0 2024-01-28 19:11 /user/itversity/retail_db/customers\n",
      "drwxr-xr-x   - itversity supergroup          0 2024-01-28 19:11 /user/itversity/retail_db/departments\n",
      "-rw-r--r--   1 itversity supergroup   10297372 2024-01-28 19:11 /user/itversity/retail_db/load_db_tables_pg.sql\n",
      "drwxr-xr-x   - itversity supergroup          0 2024-01-28 19:11 /user/itversity/retail_db/order_items\n",
      "drwxr-xr-x   - itversity supergroup          0 2024-01-28 19:11 /user/itversity/retail_db/orders\n",
      "drwxr-xr-x   - itversity supergroup          0 2024-01-28 19:11 /user/itversity/retail_db/products\n"
     ]
    }
   ],
   "source": [
    "%%sh\n",
    "\n",
    "hdfs dfs -ls /user/`whoami`/retail_db"
   ]
  },
  {
   "cell_type": "markdown",
   "id": "ed521cc1-a09a-44ae-8fd9-513bac6f0f99",
   "metadata": {},
   "source": [
    "* Granting write permissions on the folder to others."
   ]
  },
  {
   "cell_type": "code",
   "execution_count": 2,
   "id": "4a8e3664-c3a0-4ff2-b402-46133506323d",
   "metadata": {},
   "outputs": [],
   "source": [
    "%%sh\n",
    "\n",
    "hdfs dfs -chmod -R o+w /user/`whoami`/retail_db/orders"
   ]
  },
  {
   "cell_type": "code",
   "execution_count": 3,
   "id": "1cff99fd-3be6-472f-9f12-5600b946ba36",
   "metadata": {},
   "outputs": [
    {
     "name": "stdout",
     "output_type": "stream",
     "text": [
      "Found 9 items\n",
      "drwxr-xr-x   - itversity supergroup          0 2024-01-28 19:11 /user/itversity/retail_db/categories\n",
      "-rw-r--r--   1 itversity supergroup   10303297 2024-01-28 19:11 /user/itversity/retail_db/create_db.sql\n",
      "-rw-r--r--   1 itversity supergroup       1748 2024-01-28 19:11 /user/itversity/retail_db/create_db_tables_pg.sql\n",
      "drwxr-xr-x   - itversity supergroup          0 2024-01-28 19:11 /user/itversity/retail_db/customers\n",
      "drwxr-xr-x   - itversity supergroup          0 2024-01-28 19:11 /user/itversity/retail_db/departments\n",
      "-rw-r--r--   1 itversity supergroup   10297372 2024-01-28 19:11 /user/itversity/retail_db/load_db_tables_pg.sql\n",
      "drwxr-xr-x   - itversity supergroup          0 2024-01-28 19:11 /user/itversity/retail_db/order_items\n",
      "drwxr-xrwx   - itversity supergroup          0 2024-01-28 19:11 /user/itversity/retail_db/orders\n",
      "drwxr-xr-x   - itversity supergroup          0 2024-01-28 19:11 /user/itversity/retail_db/products\n"
     ]
    }
   ],
   "source": [
    "%%sh\n",
    "\n",
    "hdfs dfs -ls /user/`whoami`/retail_db"
   ]
  },
  {
   "cell_type": "markdown",
   "id": "f47c3274-3190-4ed8-93e6-3c56307fdd32",
   "metadata": {},
   "source": [
    "* Granting write permissions on the folder to group."
   ]
  },
  {
   "cell_type": "code",
   "execution_count": 4,
   "id": "2c224c51-5c38-4eee-bce2-a841afca6168",
   "metadata": {},
   "outputs": [],
   "source": [
    "%%sh\n",
    "\n",
    "hdfs dfs -chmod g+w /user/`whoami`/retail_db/order_items"
   ]
  },
  {
   "cell_type": "code",
   "execution_count": 5,
   "id": "ade1ff3e-4f86-479e-8446-d0e8026c348b",
   "metadata": {},
   "outputs": [
    {
     "name": "stdout",
     "output_type": "stream",
     "text": [
      "Found 9 items\n",
      "drwxr-xr-x   - itversity supergroup          0 2024-01-28 19:11 /user/itversity/retail_db/categories\n",
      "-rw-r--r--   1 itversity supergroup   10303297 2024-01-28 19:11 /user/itversity/retail_db/create_db.sql\n",
      "-rw-r--r--   1 itversity supergroup       1748 2024-01-28 19:11 /user/itversity/retail_db/create_db_tables_pg.sql\n",
      "drwxr-xr-x   - itversity supergroup          0 2024-01-28 19:11 /user/itversity/retail_db/customers\n",
      "drwxr-xr-x   - itversity supergroup          0 2024-01-28 19:11 /user/itversity/retail_db/departments\n",
      "-rw-r--r--   1 itversity supergroup   10297372 2024-01-28 19:11 /user/itversity/retail_db/load_db_tables_pg.sql\n",
      "drwxrwxr-x   - itversity supergroup          0 2024-01-28 19:11 /user/itversity/retail_db/order_items\n",
      "drwxr-xrwx   - itversity supergroup          0 2024-01-28 19:11 /user/itversity/retail_db/orders\n",
      "drwxr-xr-x   - itversity supergroup          0 2024-01-28 19:11 /user/itversity/retail_db/products\n"
     ]
    }
   ],
   "source": [
    "%%sh\n",
    "\n",
    "hdfs dfs -ls /user/`whoami`/retail_db"
   ]
  },
  {
   "cell_type": "markdown",
   "id": "e3f4508b-9fec-4326-829e-90fd87517a1a",
   "metadata": {},
   "source": [
    "* We can remove write permissions for every one."
   ]
  },
  {
   "cell_type": "code",
   "execution_count": 13,
   "id": "8bd8e69c-93bc-41e1-8864-b6b4bc7917ed",
   "metadata": {},
   "outputs": [],
   "source": [
    "%%sh\n",
    "\n",
    "hdfs dfs -chmod -R -w /user/`whoami`/retail_db/orders"
   ]
  },
  {
   "cell_type": "code",
   "execution_count": 9,
   "id": "e739ba89-2696-4adb-9b8c-9bce4cf3bbbc",
   "metadata": {},
   "outputs": [
    {
     "name": "stdout",
     "output_type": "stream",
     "text": [
      "Found 9 items\n",
      "drwxr-xr-x   - itversity supergroup          0 2024-01-28 19:11 /user/itversity/retail_db/categories\n",
      "-rw-r--r--   1 itversity supergroup   10303297 2024-01-28 19:11 /user/itversity/retail_db/create_db.sql\n",
      "-rw-r--r--   1 itversity supergroup       1748 2024-01-28 19:11 /user/itversity/retail_db/create_db_tables_pg.sql\n",
      "drwxr-xr-x   - itversity supergroup          0 2024-01-28 19:11 /user/itversity/retail_db/customers\n",
      "drwxr-xr-x   - itversity supergroup          0 2024-01-28 19:11 /user/itversity/retail_db/departments\n",
      "-rw-r--r--   1 itversity supergroup   10297372 2024-01-28 19:11 /user/itversity/retail_db/load_db_tables_pg.sql\n",
      "drwxrwxr-x   - itversity supergroup          0 2024-01-28 19:11 /user/itversity/retail_db/order_items\n",
      "dr-xr-xr-x   - itversity supergroup          0 2024-01-28 19:11 /user/itversity/retail_db/orders\n",
      "drwxr-xr-x   - itversity supergroup          0 2024-01-28 19:11 /user/itversity/retail_db/products\n"
     ]
    }
   ],
   "source": [
    "%%sh\n",
    "\n",
    "hdfs dfs -ls /user/`whoami`/retail_db"
   ]
  },
  {
   "cell_type": "markdown",
   "id": "e3d8b19d-d969-4a83-bfd2-dd55dabae5f8",
   "metadata": {},
   "source": [
    "* No files can be copied to the folder or can be deleted from the folder. Below command will fail."
   ]
  },
  {
   "cell_type": "code",
   "execution_count": 10,
   "id": "81cb4879-ce2f-46a4-8a67-8624492a0047",
   "metadata": {},
   "outputs": [
    {
     "name": "stdout",
     "output_type": "stream",
     "text": [
      "Deleted /user/itversity/retail_db/orders/part-00000\n"
     ]
    }
   ],
   "source": [
    "%%sh\n",
    "\n",
    "hdfs dfs -rm /user/`whoami`/retail_db/orders/part-00000"
   ]
  },
  {
   "cell_type": "code",
   "execution_count": 11,
   "id": "28a107c2-f54b-4c3e-bfb2-ad5684b84465",
   "metadata": {},
   "outputs": [],
   "source": [
    "%%sh \n",
    "\n",
    "hdfs dfs -cp /public/retail_db/orders/part-00000 /user/`whoami`/retail_db/orders/"
   ]
  },
  {
   "cell_type": "code",
   "execution_count": 14,
   "id": "b2a58c81-4576-43b1-b086-81ab903294e8",
   "metadata": {},
   "outputs": [
    {
     "name": "stdout",
     "output_type": "stream",
     "text": [
      "Found 1 items\n",
      "-r--r--r--   1 itversity supergroup    2999944 2024-01-28 20:16 /user/itversity/retail_db/orders/part-00000\n"
     ]
    }
   ],
   "source": [
    "%%sh \n",
    "\n",
    "hdfs dfs -ls /user/itversity/retail_db/orders/"
   ]
  },
  {
   "cell_type": "markdown",
   "id": "a5a28d73-2118-44fc-9818-762ecf4d37b9",
   "metadata": {},
   "source": [
    "* Adding write permissions only to owner. Now the owner will be able to delete the file, but others cannot."
   ]
  },
  {
   "cell_type": "code",
   "execution_count": 15,
   "id": "dd67fcb0-845f-4662-9564-e8a5ceb76492",
   "metadata": {},
   "outputs": [],
   "source": [
    "%%sh\n",
    "\n",
    "hdfs dfs -chmod -R u+w /user/`whoami`/retail_db/orders "
   ]
  },
  {
   "cell_type": "code",
   "execution_count": 17,
   "id": "7036536d-f6bc-4fca-a631-b31c742e0e82",
   "metadata": {},
   "outputs": [
    {
     "name": "stdout",
     "output_type": "stream",
     "text": [
      "Deleted /user/itversity/retail_db/orders/part-00000\n"
     ]
    }
   ],
   "source": [
    "%%sh\n",
    "\n",
    "hdfs dfs -rm /user/`whoami`/retail_db/orders/part-00000"
   ]
  },
  {
   "cell_type": "code",
   "execution_count": 18,
   "id": "0c7c86d5-4e82-4010-8313-202fd8b455a5",
   "metadata": {},
   "outputs": [],
   "source": [
    "%%sh\n",
    "\n",
    "hdfs dfs -chmod -R u+w /user/`whoami`/retail_db/order_items"
   ]
  },
  {
   "cell_type": "markdown",
   "id": "a09fec84-0e96-4536-bbda-6812380d3e27",
   "metadata": {},
   "source": [
    "#### Octal format"
   ]
  },
  {
   "cell_type": "markdown",
   "id": "a7ed00e9-14d4-4187-96e1-f75fe77c11b7",
   "metadata": {},
   "source": [
    "* Granting write permissions on the folder to others. We can set these permissions for owner, group and other.\n",
    "\n",
    "|Binary Value|Permissions Mode|Decimal Value\n",
    "|---|---|---|\n",
    "|000|---|0|\n",
    "|001|--x|1|\n",
    "|010|-w-|2|\n",
    "|011|-wx|3|\n",
    "|100|r--|4|\n",
    "|101|r-x|5|\n",
    "|110|rw-|6|\n",
    "|111|rwx|7|\n"
   ]
  },
  {
   "cell_type": "code",
   "execution_count": 20,
   "id": "349b353d-6f90-45f3-ad2c-8378cce278a8",
   "metadata": {},
   "outputs": [],
   "source": [
    "%%sh\n",
    "\n",
    "hdfs dfs -chmod -R 757  /user/`whoami`/retail_db/orders"
   ]
  },
  {
   "cell_type": "code",
   "execution_count": 21,
   "id": "93a793dd-264e-4587-91aa-c9b0c8c0c756",
   "metadata": {},
   "outputs": [
    {
     "name": "stdout",
     "output_type": "stream",
     "text": [
      "Found 9 items\n",
      "drwxr-xr-x   - itversity supergroup          0 2024-01-28 19:11 /user/itversity/retail_db/categories\n",
      "-rw-r--r--   1 itversity supergroup   10303297 2024-01-28 19:11 /user/itversity/retail_db/create_db.sql\n",
      "-rw-r--r--   1 itversity supergroup       1748 2024-01-28 19:11 /user/itversity/retail_db/create_db_tables_pg.sql\n",
      "drwxr-xr-x   - itversity supergroup          0 2024-01-28 19:11 /user/itversity/retail_db/customers\n",
      "drwxr-xr-x   - itversity supergroup          0 2024-01-28 19:11 /user/itversity/retail_db/departments\n",
      "-rw-r--r--   1 itversity supergroup   10297372 2024-01-28 19:11 /user/itversity/retail_db/load_db_tables_pg.sql\n",
      "drwxrwxr-x   - itversity supergroup          0 2024-01-28 19:11 /user/itversity/retail_db/order_items\n",
      "drwxr-xrwx   - itversity supergroup          0 2024-01-28 20:20 /user/itversity/retail_db/orders\n",
      "drwxr-xr-x   - itversity supergroup          0 2024-01-28 19:11 /user/itversity/retail_db/products\n"
     ]
    }
   ],
   "source": [
    "%%sh\n",
    "\n",
    "hdfs dfs -ls /user/`whoami`/retail_db"
   ]
  },
  {
   "cell_type": "markdown",
   "id": "ec991aff-bd49-40f0-8142-863409963918",
   "metadata": {},
   "source": [
    "* Granting write permissions on the folder to group."
   ]
  },
  {
   "cell_type": "code",
   "execution_count": 22,
   "id": "92ac6939-7b9c-4b42-a832-5b51f45d1874",
   "metadata": {},
   "outputs": [],
   "source": [
    "%%sh\n",
    "\n",
    "hdfs dfs -chmod -R 775  /user/`whoami`/retail_db/order_items"
   ]
  },
  {
   "cell_type": "code",
   "execution_count": 23,
   "id": "d93e2ab1-1cef-47cb-8d75-329efa76cedd",
   "metadata": {},
   "outputs": [
    {
     "name": "stdout",
     "output_type": "stream",
     "text": [
      "Found 9 items\n",
      "drwxr-xr-x   - itversity supergroup          0 2024-01-28 19:11 /user/itversity/retail_db/categories\n",
      "-rw-r--r--   1 itversity supergroup   10303297 2024-01-28 19:11 /user/itversity/retail_db/create_db.sql\n",
      "-rw-r--r--   1 itversity supergroup       1748 2024-01-28 19:11 /user/itversity/retail_db/create_db_tables_pg.sql\n",
      "drwxr-xr-x   - itversity supergroup          0 2024-01-28 19:11 /user/itversity/retail_db/customers\n",
      "drwxr-xr-x   - itversity supergroup          0 2024-01-28 19:11 /user/itversity/retail_db/departments\n",
      "-rw-r--r--   1 itversity supergroup   10297372 2024-01-28 19:11 /user/itversity/retail_db/load_db_tables_pg.sql\n",
      "drwxrwxr-x   - itversity supergroup          0 2024-01-28 19:11 /user/itversity/retail_db/order_items\n",
      "drwxr-xrwx   - itversity supergroup          0 2024-01-28 20:20 /user/itversity/retail_db/orders\n",
      "drwxr-xr-x   - itversity supergroup          0 2024-01-28 19:11 /user/itversity/retail_db/products\n"
     ]
    }
   ],
   "source": [
    "%%sh\n",
    "\n",
    "hdfs dfs -ls /user/`whoami`/retail_db"
   ]
  },
  {
   "cell_type": "markdown",
   "id": "57684831-3585-4dd3-8185-ff473212ebb6",
   "metadata": {},
   "source": [
    "* We can remove write permissions for every one."
   ]
  },
  {
   "cell_type": "code",
   "execution_count": 24,
   "id": "86cccf3b-87dc-41f3-8b22-c4e6e7a5c9c1",
   "metadata": {},
   "outputs": [],
   "source": [
    "%%sh\n",
    "\n",
    "hdfs dfs -chmod -R 555 /user/`whoami`/retail_db/orders"
   ]
  },
  {
   "cell_type": "code",
   "execution_count": 25,
   "id": "8bce392d-5538-4b33-8ba9-ede4160e2c2c",
   "metadata": {},
   "outputs": [],
   "source": [
    "%%sh\n",
    "\n",
    "hdfs dfs -chmod -R 555 /user/`whoami`/retail_db/order_items"
   ]
  },
  {
   "cell_type": "code",
   "execution_count": 26,
   "id": "3ef04997-7175-4eb2-84b9-e125779c720b",
   "metadata": {},
   "outputs": [
    {
     "name": "stdout",
     "output_type": "stream",
     "text": [
      "Found 9 items\n",
      "drwxr-xr-x   - itversity supergroup          0 2024-01-28 19:11 /user/itversity/retail_db/categories\n",
      "-rw-r--r--   1 itversity supergroup   10303297 2024-01-28 19:11 /user/itversity/retail_db/create_db.sql\n",
      "-rw-r--r--   1 itversity supergroup       1748 2024-01-28 19:11 /user/itversity/retail_db/create_db_tables_pg.sql\n",
      "drwxr-xr-x   - itversity supergroup          0 2024-01-28 19:11 /user/itversity/retail_db/customers\n",
      "drwxr-xr-x   - itversity supergroup          0 2024-01-28 19:11 /user/itversity/retail_db/departments\n",
      "-rw-r--r--   1 itversity supergroup   10297372 2024-01-28 19:11 /user/itversity/retail_db/load_db_tables_pg.sql\n",
      "dr-xr-xr-x   - itversity supergroup          0 2024-01-28 19:11 /user/itversity/retail_db/order_items\n",
      "dr-xr-xr-x   - itversity supergroup          0 2024-01-28 20:20 /user/itversity/retail_db/orders\n",
      "drwxr-xr-x   - itversity supergroup          0 2024-01-28 19:11 /user/itversity/retail_db/products\n"
     ]
    }
   ],
   "source": [
    "%%sh\n",
    "\n",
    "hdfs dfs -ls /user/`whoami`/retail_db"
   ]
  },
  {
   "cell_type": "markdown",
   "id": "daa0a4ba-10aa-4ef4-8c88-20ffe76c2df0",
   "metadata": {},
   "source": [
    "* Adding write permissions only to owner."
   ]
  },
  {
   "cell_type": "code",
   "execution_count": 27,
   "id": "3cfabad7-890e-4f06-bf10-3311ceab363f",
   "metadata": {},
   "outputs": [],
   "source": [
    "%%sh\n",
    "\n",
    "hdfs dfs -chmod -R 755 /user/`whoami`/retail_db/orders"
   ]
  },
  {
   "cell_type": "code",
   "execution_count": 28,
   "id": "6f55efb1-7df9-4471-af84-2f846548cdf6",
   "metadata": {},
   "outputs": [],
   "source": [
    "%%sh\n",
    "\n",
    "hdfs dfs -chmod -R 755 /user/`whoami`/retail_db/order_items"
   ]
  },
  {
   "cell_type": "code",
   "execution_count": 29,
   "id": "76f63c1c-6940-4935-b618-b8b872163a92",
   "metadata": {},
   "outputs": [
    {
     "name": "stdout",
     "output_type": "stream",
     "text": [
      "Found 9 items\n",
      "drwxr-xr-x   - itversity supergroup          0 2024-01-28 19:11 /user/itversity/retail_db/categories\n",
      "-rw-r--r--   1 itversity supergroup   10303297 2024-01-28 19:11 /user/itversity/retail_db/create_db.sql\n",
      "-rw-r--r--   1 itversity supergroup       1748 2024-01-28 19:11 /user/itversity/retail_db/create_db_tables_pg.sql\n",
      "drwxr-xr-x   - itversity supergroup          0 2024-01-28 19:11 /user/itversity/retail_db/customers\n",
      "drwxr-xr-x   - itversity supergroup          0 2024-01-28 19:11 /user/itversity/retail_db/departments\n",
      "-rw-r--r--   1 itversity supergroup   10297372 2024-01-28 19:11 /user/itversity/retail_db/load_db_tables_pg.sql\n",
      "drwxr-xr-x   - itversity supergroup          0 2024-01-28 19:11 /user/itversity/retail_db/order_items\n",
      "drwxr-xr-x   - itversity supergroup          0 2024-01-28 20:20 /user/itversity/retail_db/orders\n",
      "drwxr-xr-x   - itversity supergroup          0 2024-01-28 19:11 /user/itversity/retail_db/products\n"
     ]
    }
   ],
   "source": [
    "%%sh\n",
    "\n",
    "hdfs dfs -ls /user/`whoami`/retail_db"
   ]
  },
  {
   "cell_type": "code",
   "execution_count": null,
   "id": "e40e1745-0bc3-4877-b43a-e0a8441bc0be",
   "metadata": {},
   "outputs": [],
   "source": []
  }
 ],
 "metadata": {
  "kernelspec": {
   "display_name": "Python 3",
   "language": "python",
   "name": "python3"
  },
  "language_info": {
   "codemirror_mode": {
    "name": "ipython",
    "version": 3
   },
   "file_extension": ".py",
   "mimetype": "text/x-python",
   "name": "python",
   "nbconvert_exporter": "python",
   "pygments_lexer": "ipython3",
   "version": "3.6.9"
  }
 },
 "nbformat": 4,
 "nbformat_minor": 5
}
