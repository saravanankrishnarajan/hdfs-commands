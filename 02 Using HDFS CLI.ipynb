{
 "cells": [
  {
   "cell_type": "markdown",
   "id": "43f4c8f3-ae7a-4e56-8bba-0eb5f58c402e",
   "metadata": {},
   "source": [
    "### Using HDFS CLI ###"
   ]
  },
  {
   "cell_type": "code",
   "execution_count": null,
   "id": "875181ed-c08e-47d9-ba33-505fe737cfc2",
   "metadata": {},
   "outputs": [],
   "source": [
    "%%sh\n",
    "\n",
    "hadoop"
   ]
  },
  {
   "cell_type": "code",
   "execution_count": null,
   "id": "49f56862-24fb-47a1-bfb1-dff436f5eead",
   "metadata": {},
   "outputs": [],
   "source": [
    "%%sh\n",
    "\n",
    "hadoop fs -usage"
   ]
  },
  {
   "cell_type": "code",
   "execution_count": null,
   "id": "53ceeaac-2700-4713-8f6b-12e0bd2a66c3",
   "metadata": {},
   "outputs": [],
   "source": [
    "%%sh\n",
    "\n",
    "hdfs"
   ]
  },
  {
   "cell_type": "code",
   "execution_count": null,
   "id": "ce6088ef-cdb7-4adc-b0da-33a910d2d028",
   "metadata": {},
   "outputs": [],
   "source": [
    "%%sh\n",
    "\n",
    "hdfs dfs -usage"
   ]
  },
  {
   "cell_type": "code",
   "execution_count": null,
   "id": "a564c5ac-b6b9-490a-b863-0383009f7ce6",
   "metadata": {},
   "outputs": [],
   "source": []
  }
 ],
 "metadata": {
  "kernelspec": {
   "display_name": "Python 3",
   "language": "python",
   "name": "python3"
  },
  "language_info": {
   "codemirror_mode": {
    "name": "ipython",
    "version": 3
   },
   "file_extension": ".py",
   "mimetype": "text/x-python",
   "name": "python",
   "nbconvert_exporter": "python",
   "pygments_lexer": "ipython3",
   "version": "3.6.9"
  }
 },
 "nbformat": 4,
 "nbformat_minor": 5
}
