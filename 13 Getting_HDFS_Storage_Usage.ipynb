{
 "cells": [
  {
   "cell_type": "markdown",
   "id": "d612d73f-9ae0-4ac4-94e5-e614ddbdb911",
   "metadata": {},
   "source": [
    "### Getting HDFS Storage Usage"
   ]
  },
  {
   "cell_type": "markdown",
   "id": "601de6d9-ed31-47f5-b6f9-6a18dcdd44cf",
   "metadata": {},
   "source": [
    "* hdfs dfs -df to find disk free size\n",
    "* hdfs dfs -du to find disk usage size"
   ]
  },
  {
   "cell_type": "code",
   "execution_count": 1,
   "id": "7caa4342-d875-4491-8a25-d9153853c11f",
   "metadata": {},
   "outputs": [
    {
     "name": "stdout",
     "output_type": "stream",
     "text": [
      "-df [-h] [<path> ...] :\n",
      "  Shows the capacity, free and used space of the filesystem. If the filesystem has\n",
      "  multiple partitions, and no path to a particular partition is specified, then\n",
      "  the status of the root partitions will be shown.\n",
      "                                                                                 \n",
      "  -h  Formats the sizes of files in a human-readable fashion rather than a number\n",
      "      of bytes.                                                                  \n"
     ]
    }
   ],
   "source": [
    "%%sh\n",
    "\n",
    "hdfs dfs -help df"
   ]
  },
  {
   "cell_type": "code",
   "execution_count": 2,
   "id": "10e3680a-d456-4543-9f28-07528dcb5b5a",
   "metadata": {},
   "outputs": [
    {
     "name": "stdout",
     "output_type": "stream",
     "text": [
      "Filesystem                     Size       Used     Available  Use%\n",
      "hdfs://localhost:9000  269490393088  682414080  248223264768    0%\n"
     ]
    }
   ],
   "source": [
    "%%sh\n",
    "\n",
    "hdfs dfs -df"
   ]
  },
  {
   "cell_type": "code",
   "execution_count": 3,
   "id": "46fcddef-6615-4fc5-a7d0-3d177b07e335",
   "metadata": {},
   "outputs": [
    {
     "name": "stdout",
     "output_type": "stream",
     "text": [
      "Filesystem                Size     Used  Available  Use%\n",
      "hdfs://localhost:9000  251.0 G  650.8 M    231.2 G    0%\n"
     ]
    }
   ],
   "source": [
    "%%sh\n",
    "\n",
    "hdfs dfs -df -h"
   ]
  },
  {
   "cell_type": "code",
   "execution_count": 4,
   "id": "021b66b2-315b-4369-98d9-4b352e6caa66",
   "metadata": {},
   "outputs": [
    {
     "name": "stdout",
     "output_type": "stream",
     "text": [
      "-du [-s] [-h] [-v] [-x] <path> ... :\n",
      "  Show the amount of space, in bytes, used by the files that match the specified\n",
      "  file pattern. The following flags are optional:\n",
      "                                                                                 \n",
      "  -s  Rather than showing the size of each individual file that matches the      \n",
      "      pattern, shows the total (summary) size.                                   \n",
      "  -h  Formats the sizes of files in a human-readable fashion rather than a number\n",
      "      of bytes.                                                                  \n",
      "  -v  option displays a header line.                                             \n",
      "  -x  Excludes snapshots from being counted.                                     \n",
      "  \n",
      "  Note that, even without the -s option, this only shows size summaries one level\n",
      "  deep into a directory.\n",
      "  \n",
      "  The output is in the form \n",
      "  \tsize\tdisk space consumed\tname(full path)\n"
     ]
    }
   ],
   "source": [
    "%%sh \n",
    "hdfs dfs -help du"
   ]
  },
  {
   "cell_type": "code",
   "execution_count": 5,
   "id": "3b4b8bfd-c89d-4aa6-9ff4-165a5507fd68",
   "metadata": {},
   "outputs": [
    {
     "name": "stdout",
     "output_type": "stream",
     "text": [
      "139631635  139631635  /public/nyse_all\n",
      "30140204   30140204   /public/retail_db\n"
     ]
    }
   ],
   "source": [
    "%%sh\n",
    "\n",
    "hdfs dfs -du /public/"
   ]
  },
  {
   "cell_type": "code",
   "execution_count": 6,
   "id": "228a3e8d-bb45-4590-8e1a-0d2a7f7fb880",
   "metadata": {},
   "outputs": [
    {
     "name": "stdout",
     "output_type": "stream",
     "text": [
      "133.2 M  133.2 M  /public/nyse_all\n",
      "28.7 M   28.7 M   /public/retail_db\n"
     ]
    }
   ],
   "source": [
    "%%sh\n",
    "\n",
    "hdfs dfs -du -h /public/"
   ]
  },
  {
   "cell_type": "code",
   "execution_count": 7,
   "id": "18532b6c-7cb6-46ca-b0c8-1a07e40de161",
   "metadata": {},
   "outputs": [
    {
     "name": "stdout",
     "output_type": "stream",
     "text": [
      "28.7 M  28.7 M  /user/itversity\n",
      "0       0       /user/retail_db\n"
     ]
    }
   ],
   "source": [
    "%%sh\n",
    "\n",
    "hdfs dfs -du -h /user/"
   ]
  },
  {
   "cell_type": "code",
   "execution_count": 8,
   "id": "4e567547-58f5-4110-80c3-1b3aea14410c",
   "metadata": {},
   "outputs": [
    {
     "name": "stdout",
     "output_type": "stream",
     "text": [
      "161.9 M  161.9 M  /public\n",
      "233.5 M  233.5 M  /spark2-jars\n",
      "84.5 K   84.5 K   /spark2-logs\n",
      "218.8 M  218.8 M  /spark3-jars\n",
      "142.6 K  142.6 K  /spark3-logs\n",
      "0        0        /tmp\n",
      "28.7 M   28.7 M   /user\n"
     ]
    }
   ],
   "source": [
    "%%sh\n",
    "\n",
    "hdfs dfs -du -h /"
   ]
  },
  {
   "cell_type": "code",
   "execution_count": 9,
   "id": "24ee6abe-b4b6-4aef-92ff-97c38af37658",
   "metadata": {},
   "outputs": [
    {
     "name": "stdout",
     "output_type": "stream",
     "text": [
      "1029      1029      /user/itversity/retail_db/categories\n",
      "10303297  10303297  /user/itversity/retail_db/create_db.sql\n",
      "1748      1748      /user/itversity/retail_db/create_db_tables_pg.sql\n",
      "953719    953719    /user/itversity/retail_db/customers\n",
      "60        60        /user/itversity/retail_db/departments\n",
      "10297372  10297372  /user/itversity/retail_db/load_db_tables_pg.sql\n",
      "5408880   5408880   /user/itversity/retail_db/order_items\n",
      "2999944   2999944   /user/itversity/retail_db/orders\n",
      "174155    174155    /user/itversity/retail_db/products\n"
     ]
    }
   ],
   "source": [
    "%%sh\n",
    "\n",
    "hdfs dfs -du /user/`whoami`/retail_db"
   ]
  },
  {
   "cell_type": "code",
   "execution_count": 10,
   "id": "35629667-e266-4d0b-a96c-b41dd803297e",
   "metadata": {},
   "outputs": [
    {
     "name": "stdout",
     "output_type": "stream",
     "text": [
      "30140204  30140204  /user/itversity/retail_db\n"
     ]
    }
   ],
   "source": [
    "%%sh\n",
    "\n",
    "hdfs dfs -du -s /user/`whoami`/retail_db"
   ]
  },
  {
   "cell_type": "code",
   "execution_count": 11,
   "id": "768ad231-3226-4a36-ad1f-05c3526122ec",
   "metadata": {
    "tags": []
   },
   "outputs": [
    {
     "name": "stdout",
     "output_type": "stream",
     "text": [
      "1.0 K    1.0 K    /user/itversity/retail_db/categories\n",
      "9.8 M    9.8 M    /user/itversity/retail_db/create_db.sql\n",
      "1.7 K    1.7 K    /user/itversity/retail_db/create_db_tables_pg.sql\n",
      "931.4 K  931.4 K  /user/itversity/retail_db/customers\n",
      "60       60       /user/itversity/retail_db/departments\n",
      "9.8 M    9.8 M    /user/itversity/retail_db/load_db_tables_pg.sql\n",
      "5.2 M    5.2 M    /user/itversity/retail_db/order_items\n",
      "2.9 M    2.9 M    /user/itversity/retail_db/orders\n",
      "170.1 K  170.1 K  /user/itversity/retail_db/products\n"
     ]
    }
   ],
   "source": [
    "%%sh\n",
    "\n",
    "hdfs dfs -du -h /user/`whoami`/retail_db"
   ]
  },
  {
   "cell_type": "code",
   "execution_count": 12,
   "id": "c90325bc-6039-4aaf-9bcb-4a1936e74979",
   "metadata": {},
   "outputs": [
    {
     "name": "stdout",
     "output_type": "stream",
     "text": [
      "28.7 M  28.7 M  /user/itversity/retail_db\n"
     ]
    }
   ],
   "source": [
    "%%sh\n",
    "\n",
    "hdfs dfs -du -s -h /user/`whoami`/retail_db"
   ]
  },
  {
   "cell_type": "code",
   "execution_count": null,
   "id": "09aebc7a-72c3-496b-9d8f-2437bacca0bd",
   "metadata": {
    "tags": []
   },
   "outputs": [],
   "source": []
  }
 ],
 "metadata": {
  "kernelspec": {
   "display_name": "Python 3",
   "language": "python",
   "name": "python3"
  },
  "language_info": {
   "codemirror_mode": {
    "name": "ipython",
    "version": 3
   },
   "file_extension": ".py",
   "mimetype": "text/x-python",
   "name": "python",
   "nbconvert_exporter": "python",
   "pygments_lexer": "ipython3",
   "version": "3.6.9"
  }
 },
 "nbformat": 4,
 "nbformat_minor": 5
}
