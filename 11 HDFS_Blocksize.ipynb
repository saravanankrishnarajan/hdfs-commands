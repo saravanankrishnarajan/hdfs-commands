{
 "cells": [
  {
   "cell_type": "markdown",
   "id": "2aac67be-3a78-416d-a297-8dafca8eb20f",
   "metadata": {},
   "source": [
    "### HDFS Blocksize"
   ]
  },
  {
   "cell_type": "markdown",
   "id": "a5da1f39-c228-429f-b53c-95e3d241b4b9",
   "metadata": {},
   "source": [
    "* check files stored in hdfs as blocks"
   ]
  },
  {
   "cell_type": "code",
   "execution_count": null,
   "id": "50da2549-b508-4a36-bf96-8020413d8408",
   "metadata": {},
   "outputs": [],
   "source": [
    "%%sh \n",
    "\n",
    "hdfs dfs -ls -h /public/randomtextwriter/part-m-00000"
   ]
  },
  {
   "cell_type": "code",
   "execution_count": 2,
   "id": "564f1c4b-d5a6-4904-b730-db4d6341db20",
   "metadata": {},
   "outputs": [
    {
     "name": "stdout",
     "output_type": "stream",
     "text": [
      "<configuration>\n",
      "    <property>\n",
      "        <name>dfs.namenode.name.dir</name>\n",
      "        <value>/opt/hadoop/dfs/name</value>\n",
      "    </property>\n",
      "    <property>\n",
      "        <name>dfs.namenode.checkpoint.dir</name>\n",
      "        <value>/opt/hadoop/dfs/namesecondary</value>\n",
      "    </property>\n",
      "    <property>\n",
      "        <name>dfs.datanode.data.dir</name>\n",
      "        <value>/opt/hadoop/dfs/data</value>\n",
      "    </property>\n",
      "    <property>\n",
      "        <name>dfs.replication</name>\n",
      "        <value>1</value>\n",
      "    </property>\n",
      "</configuration>\n"
     ]
    }
   ],
   "source": [
    "%%sh\n",
    "\n",
    "cat /etc/hadoop/conf/hdfs-site.xml"
   ]
  },
  {
   "cell_type": "code",
   "execution_count": 3,
   "id": "315f8c2a-9861-4a1a-afba-4c3f8d012885",
   "metadata": {},
   "outputs": [
    {
     "name": "stdout",
     "output_type": "stream",
     "text": [
      "-rw-r--r-- 1 itversity itversity 2.9M Jan 26 05:06 /data/retail_db/orders/part-00000\n"
     ]
    }
   ],
   "source": [
    "%%sh\n",
    "\n",
    "ls -lhtr /data/retail_db/orders/part-00000"
   ]
  },
  {
   "cell_type": "code",
   "execution_count": 4,
   "id": "e5cdf44a-c9d2-482c-ae68-7e8f467927e1",
   "metadata": {},
   "outputs": [
    {
     "name": "stdout",
     "output_type": "stream",
     "text": [
      "FSCK started by itversity (auth:SIMPLE) from /127.0.0.1 for path /user/itversity/retail_db/orders/part-00000 at Sun Jan 28 19:41:47 GMT 2024\n",
      "\n",
      "/user/itversity/retail_db/orders/part-00000 2999944 bytes, replicated: replication=1, 1 block(s):  OK\n",
      "0. BP-1463716262-172.19.0.3-1706254608807:blk_1073742447_1623 len=2999944 Live_repl=1  [DatanodeInfoWithStorage[127.0.0.1:9866,DS-16774d13-cf92-478b-9b30-c7794943f0f1,DISK]]\n",
      "\n",
      "\n",
      "Status: HEALTHY\n",
      " Number of data-nodes:\t1\n",
      " Number of racks:\t\t1\n",
      " Total dirs:\t\t\t0\n",
      " Total symlinks:\t\t0\n",
      "\n",
      "Replicated Blocks:\n",
      " Total size:\t2999944 B\n",
      " Total files:\t1\n",
      " Total blocks (validated):\t1 (avg. block size 2999944 B)\n",
      " Minimally replicated blocks:\t1 (100.0 %)\n",
      " Over-replicated blocks:\t0 (0.0 %)\n",
      " Under-replicated blocks:\t0 (0.0 %)\n",
      " Mis-replicated blocks:\t\t0 (0.0 %)\n",
      " Default replication factor:\t1\n",
      " Average block replication:\t1.0\n",
      " Missing blocks:\t\t0\n",
      " Corrupt blocks:\t\t0\n",
      " Missing replicas:\t\t0 (0.0 %)\n",
      " Blocks queued for replication:\t0\n",
      "\n",
      "Erasure Coded Block Groups:\n",
      " Total size:\t0 B\n",
      " Total files:\t0\n",
      " Total block groups (validated):\t0\n",
      " Minimally erasure-coded block groups:\t0\n",
      " Over-erasure-coded block groups:\t0\n",
      " Under-erasure-coded block groups:\t0\n",
      " Unsatisfactory placement block groups:\t0\n",
      " Average block group size:\t0.0\n",
      " Missing block groups:\t\t0\n",
      " Corrupt block groups:\t\t0\n",
      " Missing internal blocks:\t0\n",
      " Blocks queued for replication:\t0\n",
      "FSCK ended at Sun Jan 28 19:41:47 GMT 2024 in 1 milliseconds\n",
      "\n",
      "\n",
      "The filesystem under path '/user/itversity/retail_db/orders/part-00000' is HEALTHY\n"
     ]
    },
    {
     "name": "stderr",
     "output_type": "stream",
     "text": [
      "Connecting to namenode via http://localhost:9870/fsck?ugi=itversity&files=1&blocks=1&locations=1&path=%2Fuser%2Fitversity%2Fretail_db%2Forders%2Fpart-00000\n"
     ]
    }
   ],
   "source": [
    "%%sh\n",
    "\n",
    "hdfs fsck /user/`whoami`/retail_db/orders/part-00000 -files -blocks -locations"
   ]
  },
  {
   "cell_type": "code",
   "execution_count": null,
   "id": "e17289db-fa1d-454f-87d9-7d7390d020db",
   "metadata": {},
   "outputs": [],
   "source": []
  }
 ],
 "metadata": {
  "kernelspec": {
   "display_name": "Python 3",
   "language": "python",
   "name": "python3"
  },
  "language_info": {
   "codemirror_mode": {
    "name": "ipython",
    "version": 3
   },
   "file_extension": ".py",
   "mimetype": "text/x-python",
   "name": "python",
   "nbconvert_exporter": "python",
   "pygments_lexer": "ipython3",
   "version": "3.6.9"
  }
 },
 "nbformat": 4,
 "nbformat_minor": 5
}
