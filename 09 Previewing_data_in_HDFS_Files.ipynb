{
 "cells": [
  {
   "cell_type": "markdown",
   "id": "b697bf37-faeb-469f-a60c-2aa12e0c039b",
   "metadata": {},
   "source": [
    "### Previewing data in HDFS Files"
   ]
  },
  {
   "cell_type": "markdown",
   "id": "4b29f847-00ff-4e24-b0a5-a5be85a5979e",
   "metadata": {},
   "source": [
    " * preview the data in hdfs file using cat and tail"
   ]
  },
  {
   "cell_type": "code",
   "execution_count": 2,
   "id": "c3139a27-5af7-45e6-ba06-9a8fad79751d",
   "metadata": {},
   "outputs": [
    {
     "name": "stdout",
     "output_type": "stream",
     "text": [
      "Found 6 items\n",
      "drwxr-xr-x   - itversity supergroup          0 2024-01-28 19:00 /user/itversity/retail_db/categories\n",
      "drwxr-xr-x   - itversity supergroup          0 2024-01-28 18:59 /user/itversity/retail_db/customers\n",
      "drwxr-xr-x   - itversity supergroup          0 2024-01-28 18:59 /user/itversity/retail_db/departments\n",
      "drwxr-xr-x   - itversity supergroup          0 2024-01-28 18:57 /user/itversity/retail_db/order_items\n",
      "drwxr-xr-x   - itversity supergroup          0 2024-01-28 18:57 /user/itversity/retail_db/orders\n",
      "drwxr-xr-x   - itversity supergroup          0 2024-01-28 19:00 /user/itversity/retail_db/products\n"
     ]
    }
   ],
   "source": [
    "%%sh \n",
    "\n",
    "hdfs dfs -ls /user/`whoami`/retail_db"
   ]
  },
  {
   "cell_type": "code",
   "execution_count": 3,
   "id": "7a4c9797-f9ba-4688-a326-5c0038cd43a0",
   "metadata": {},
   "outputs": [
    {
     "name": "stdout",
     "output_type": "stream",
     "text": [
      "drwxr-xr-x   - itversity supergroup          0 2024-01-28 19:00 /user/itversity/retail_db/categories\n",
      "-rw-r--r--   1 itversity supergroup       1029 2024-01-28 19:00 /user/itversity/retail_db/categories/part-00000\n",
      "drwxr-xr-x   - itversity supergroup          0 2024-01-28 18:59 /user/itversity/retail_db/customers\n",
      "-rw-r--r--   1 itversity supergroup     953719 2024-01-28 18:59 /user/itversity/retail_db/customers/part-00000\n",
      "drwxr-xr-x   - itversity supergroup          0 2024-01-28 18:59 /user/itversity/retail_db/departments\n",
      "-rw-r--r--   1 itversity supergroup         60 2024-01-28 18:59 /user/itversity/retail_db/departments/part-00000\n",
      "drwxr-xr-x   - itversity supergroup          0 2024-01-28 18:57 /user/itversity/retail_db/order_items\n",
      "-rw-r--r--   1 itversity supergroup    5408880 2024-01-28 18:57 /user/itversity/retail_db/order_items/part-00000\n",
      "drwxr-xr-x   - itversity supergroup          0 2024-01-28 18:57 /user/itversity/retail_db/orders\n",
      "-rw-r--r--   1 itversity supergroup    2999944 2024-01-28 18:57 /user/itversity/retail_db/orders/part-00000\n",
      "drwxr-xr-x   - itversity supergroup          0 2024-01-28 19:00 /user/itversity/retail_db/products\n",
      "-rw-r--r--   1 itversity supergroup     174155 2024-01-28 19:00 /user/itversity/retail_db/products/part-00000\n"
     ]
    }
   ],
   "source": [
    "%%sh \n",
    "\n",
    "hdfs dfs -ls -R /user/`whoami`/retail_db"
   ]
  },
  {
   "cell_type": "code",
   "execution_count": 4,
   "id": "3ef77870-bb43-4c72-b2e2-5b35ce6aad45",
   "metadata": {},
   "outputs": [],
   "source": [
    "%%sh\n",
    "\n",
    "hdfs dfs -put -f /data/retail_db /user/`whoami`"
   ]
  },
  {
   "cell_type": "code",
   "execution_count": 5,
   "id": "333326ff-58a6-40c5-96f6-12155aa38dda",
   "metadata": {},
   "outputs": [
    {
     "name": "stdout",
     "output_type": "stream",
     "text": [
      "-tail [-f] [-s <sleep interval>] <file> :\n",
      "  Show the last 1KB of the file.\n",
      "                                                                               \n",
      "  -f  Shows appended data as the file grows.                                   \n",
      "  -s  With -f , defines the sleep interval between iterations in milliseconds. \n"
     ]
    }
   ],
   "source": [
    "%%sh\n",
    "\n",
    "hdfs dfs -help tail"
   ]
  },
  {
   "cell_type": "code",
   "execution_count": 6,
   "id": "858a6d35-b948-40b7-ba6b-c0f7e274b207",
   "metadata": {},
   "outputs": [
    {
     "name": "stdout",
     "output_type": "stream",
     "text": [
      "014-06-12 00:00:00.0,4229,PENDING\n",
      "68861,2014-06-13 00:00:00.0,3031,PENDING_PAYMENT\n",
      "68862,2014-06-15 00:00:00.0,7326,PROCESSING\n",
      "68863,2014-06-16 00:00:00.0,3361,CLOSED\n",
      "68864,2014-06-18 00:00:00.0,9634,ON_HOLD\n",
      "68865,2014-06-19 00:00:00.0,4567,SUSPECTED_FRAUD\n",
      "68866,2014-06-20 00:00:00.0,3890,PENDING_PAYMENT\n",
      "68867,2014-06-23 00:00:00.0,869,CANCELED\n",
      "68868,2014-06-24 00:00:00.0,10184,PENDING\n",
      "68869,2014-06-25 00:00:00.0,7456,PROCESSING\n",
      "68870,2014-06-26 00:00:00.0,3343,COMPLETE\n",
      "68871,2014-06-28 00:00:00.0,4960,PENDING\n",
      "68872,2014-06-29 00:00:00.0,3354,COMPLETE\n",
      "68873,2014-06-30 00:00:00.0,4545,PENDING\n",
      "68874,2014-07-03 00:00:00.0,1601,COMPLETE\n",
      "68875,2014-07-04 00:00:00.0,10637,ON_HOLD\n",
      "68876,2014-07-06 00:00:00.0,4124,COMPLETE\n",
      "68877,2014-07-07 00:00:00.0,9692,ON_HOLD\n",
      "68878,2014-07-08 00:00:00.0,6753,COMPLETE\n",
      "68879,2014-07-09 00:00:00.0,778,COMPLETE\n",
      "68880,2014-07-13 00:00:00.0,1117,COMPLETE\n",
      "68881,2014-07-19 00:00:00.0,2518,PENDING_PAYMENT\n",
      "68882,2014-07-22 00:00:00.0,10000,ON_HOLD\n",
      "68883,2014-07-23 00:00:00.0,5533,COMPLETE\n"
     ]
    }
   ],
   "source": [
    "%%sh\n",
    "\n",
    "hdfs dfs -tail /user/`whoami`/retail_db/orders/part-00000"
   ]
  },
  {
   "cell_type": "code",
   "execution_count": 7,
   "id": "72e7cc18-61dc-41a5-a435-5ed3ea403969",
   "metadata": {},
   "outputs": [
    {
     "name": "stdout",
     "output_type": "stream",
     "text": [
      "-cat [-ignoreCrc] <src> ... :\n",
      "  Fetch all files that match the file pattern <src> and display their content on\n",
      "  stdout.\n"
     ]
    }
   ],
   "source": [
    "%%sh \n",
    "\n",
    "hdfs dfs -help cat"
   ]
  },
  {
   "cell_type": "code",
   "execution_count": 11,
   "id": "8ece7a14-a6f1-4bfc-a8cf-119e432fb701",
   "metadata": {},
   "outputs": [
    {
     "name": "stdout",
     "output_type": "stream",
     "text": [
      "2,Fitness\n",
      "3,Footwear\n",
      "4,Apparel\n",
      "5,Golf\n",
      "6,Outdoors\n",
      "7,Fan Shop\n"
     ]
    }
   ],
   "source": [
    "%%sh \n",
    "\n",
    "hdfs dfs -cat /user/`whoami`/retail_db/departments/part-*"
   ]
  },
  {
   "cell_type": "code",
   "execution_count": 12,
   "id": "9f6c1262-6682-44c8-a0af-1b2f4c3564ba",
   "metadata": {},
   "outputs": [
    {
     "name": "stderr",
     "output_type": "stream",
     "text": [
      "IOPub data rate exceeded.\n",
      "The Jupyter server will temporarily stop sending output\n",
      "to the client in order to avoid crashing it.\n",
      "To change this limit, set the config variable\n",
      "`--ServerApp.iopub_data_rate_limit`.\n",
      "\n",
      "Current values:\n",
      "ServerApp.iopub_data_rate_limit=1000000.0 (bytes/sec)\n",
      "ServerApp.rate_limit_window=3.0 (secs)\n",
      "\n"
     ]
    }
   ],
   "source": [
    "%%sh \n",
    "\n",
    "hdfs dfs -cat /user/`whoami`/retail_db/orders/part-00000 | more"
   ]
  },
  {
   "cell_type": "code",
   "execution_count": null,
   "id": "77ae87f3-efae-4f73-816b-4c290fbba4fa",
   "metadata": {},
   "outputs": [],
   "source": []
  }
 ],
 "metadata": {
  "kernelspec": {
   "display_name": "Python 3",
   "language": "python",
   "name": "python3"
  },
  "language_info": {
   "codemirror_mode": {
    "name": "ipython",
    "version": 3
   },
   "file_extension": ".py",
   "mimetype": "text/x-python",
   "name": "python",
   "nbconvert_exporter": "python",
   "pygments_lexer": "ipython3",
   "version": "3.6.9"
  }
 },
 "nbformat": 4,
 "nbformat_minor": 5
}
